{
 "cells": [
  {
   "cell_type": "code",
   "execution_count": 62,
   "metadata": {
    "collapsed": true
   },
   "outputs": [],
   "source": [
    "import os\n",
    "import uproot\n",
    "import numpy as np\n",
    "import matplotlib.pyplot as plt"
   ]
  },
  {
   "cell_type": "code",
   "execution_count": 63,
   "metadata": {
    "collapsed": true
   },
   "outputs": [],
   "source": [
    "BASE_DIR = \"/depot/cms/top/bakshi3/TopSpinCorr_Run2_alt_version/CMSSW_10_6_29/src/TopAnalysis/Configuration/analysis/diLeptonic/\"\n",
    "OG_PATH  = os.path.join(BASE_DIR, \"TUnfoldResults_2018/Nominal/combined/b1k.root\")\n",
    "NEW_PATH = os.path.join(BASE_DIR, \"TUnfoldResults_2018/JES_UP/combined/b1k.root\")"
   ]
  },
  {
   "cell_type": "code",
   "execution_count": 64,
   "metadata": {
    "collapsed": true
   },
   "outputs": [],
   "source": [
    "OG_FILE  = uproot.open(OG_PATH)"
   ]
  },
  {
   "cell_type": "code",
   "execution_count": 65,
   "metadata": {
    "collapsed": true
   },
   "outputs": [],
   "source": [
    "possible_keys = [ k for k in OG_FILE.keys() if \"JES_UP\" in k]"
   ]
  },
  {
   "cell_type": "code",
   "execution_count": 66,
   "metadata": {},
   "outputs": [
    {
     "data": {
      "text/plain": [
       "['b1kRespMatSys_JES_UP_norm;3',\n",
       " 'b1kRespMatSys_JES_UP_norm;2',\n",
       " 'b1kRespMatSys_JES_UP_norm;1',\n",
       " 'b1kRespMatSys_JES_UP_AequiResMatSys;4',\n",
       " 'b1kRespMatSys_JES_UP_AequiResMatSys;3',\n",
       " 'b1kRespMatSys_JES_UP_AequiResMatSys;2',\n",
       " 'b1kRespMatSys_JES_UP_AequiResMatSys;1',\n",
       " 'b1kRespMatSys_JES_UP_deltaSys;2',\n",
       " 'b1kRespMatSys_JES_UP_deltaSys;1',\n",
       " 'b1kRespMatSys_JES_UP_deltaSys_rebinnedA;2',\n",
       " 'b1kRespMatSys_JES_UP_deltaSys_rebinnedA;1',\n",
       " 'b1kRespMatSys_JES_UP_deltaSys_rebinnedB;2',\n",
       " 'b1kRespMatSys_JES_UP_deltaSys_rebinnedB;1',\n",
       " 'b1kRespMatSys_JES_UP_CovMatSys;2',\n",
       " 'b1kRespMatSys_JES_UP_CovMatSys;1',\n",
       " 'b1kRespMatSys_JES_UP_CovMatSys_rebinnedA;2',\n",
       " 'b1kRespMatSys_JES_UP_CovMatSys_rebinnedA;1',\n",
       " 'b1kRespMatSys_JES_UP_CovMatSys_rebinnedB;2',\n",
       " 'b1kRespMatSys_JES_UP_CovMatSys_rebinnedB;1',\n",
       " 'b1kRespMatSys_JES_UP_CovMatSysNorm;2',\n",
       " 'b1kRespMatSys_JES_UP_CovMatSysNorm;1',\n",
       " 'b1kRespMatSys_JES_UP_CovMatSysNorm_rebinnedA;2',\n",
       " 'b1kRespMatSys_JES_UP_CovMatSysNorm_rebinnedA;1',\n",
       " 'b1kRespMatSys_JES_UP_CovMatSysNorm_rebinnedB;2',\n",
       " 'b1kRespMatSys_JES_UP_CovMatSysNorm_rebinnedB;1',\n",
       " 'b1kRespMatSys_JES_UP;1']"
      ]
     },
     "execution_count": 66,
     "metadata": {},
     "output_type": "execute_result"
    }
   ],
   "source": [
    "possible_keys"
   ]
  },
  {
   "cell_type": "code",
   "execution_count": 67,
   "metadata": {},
   "outputs": [
    {
     "data": {
      "text/plain": [
       "['b1kScanOfRhoAvg1;1',\n",
       " 'b1kScanOfAFBerr1;1',\n",
       " 'b1kScanOfRhoAvg2;1',\n",
       " 'b1kScanOfRhoAvg1_rebinnedB;1',\n",
       " 'b1kScanOfRhoAvg2_rebinnedB;1',\n",
       " 'b1kRhoAvg;1',\n",
       " 'b1kRhoAvg_rebinnedB;1',\n",
       " 'b1kAequiResMat;2',\n",
       " 'b1kAequiResMat;1',\n",
       " 'b1kAccepHist;1',\n",
       " 'b1kAequiGenVec;1',\n",
       " 'b1kRecAndGenCompHist;1',\n",
       " 'b1kAequiMeasVec;2',\n",
       " 'b1kAequiMeasVec;1',\n",
       " 'b1kAequiResMat_rebinnedB;1',\n",
       " 'b1kAequiMeasVec_rebinnedB;1',\n",
       " 'b1kRhoi_rebinnedA;1',\n",
       " 'b1kEmatrix_rebinnedA;1',\n",
       " 'b1kTUnfResult_rebinnedA;1',\n",
       " 'b1kAfbResult_gen;1',\n",
       " 'b1kAfbResult_rebinnedA;1',\n",
       " 'b1kOtherResult_rebinnedA;1',\n",
       " 'b1kAfbResult_rebinnedB;1',\n",
       " 'b1kInvE_rebinnedA;1',\n",
       " 'b1kCorrmatrix_rebinnedA;1',\n",
       " 'b1kInputFoldedBack_rebinnedA;1',\n",
       " 'b1kTUnfResultCor_rebinnedA;1',\n",
       " 'b1kEmatrixCor_rebinnedA;1',\n",
       " 'b1kEmatrixNorm_rebinnedA;1']"
      ]
     },
     "execution_count": 67,
     "metadata": {},
     "output_type": "execute_result"
    }
   ],
   "source": [
    "NEW_FILE  = uproot.open(NEW_PATH)\n",
    "possible_keys = [k for k in NEW_FILE.keys() if \"A\" in k]\n",
    "possible_keys"
   ]
  },
  {
   "cell_type": "code",
   "execution_count": 68,
   "metadata": {
    "collapsed": true
   },
   "outputs": [],
   "source": [
    "b1kRespMatSys_JES_UP_norm = OG_FILE[\"b1kRespMatSys_JES_UP_norm\"].to_numpy()"
   ]
  },
  {
   "cell_type": "code",
   "execution_count": 69,
   "metadata": {
    "scrolled": true
   },
   "outputs": [
    {
     "data": {
      "text/plain": [
       "array([[1900.09308535, 1716.34936687, 1309.84939078, ...,   44.56491276,\n",
       "          44.9672164 ,   50.01496534],\n",
       "       [1142.5711689 , 1301.67914777, 1554.77329951, ...,   49.57486023,\n",
       "          49.88829735,   55.13861239],\n",
       "       [ 833.4547769 ,  876.37072834,  976.13013133, ...,   58.85116695,\n",
       "          57.83005424,   62.78738232],\n",
       "       ...,\n",
       "       [  62.78738232,   57.83005424,   58.85116695, ...,  976.13013133,\n",
       "         876.37072834,  833.4547769 ],\n",
       "       [  55.13861239,   49.88829735,   49.57486023, ..., 1554.77329951,\n",
       "        1301.67914777, 1142.5711689 ],\n",
       "       [  50.01496534,   44.9672164 ,   44.56491276, ..., 1309.84939078,\n",
       "        1716.34936687, 1900.09308535]])"
      ]
     },
     "execution_count": 69,
     "metadata": {},
     "output_type": "execute_result"
    }
   ],
   "source": [
    "b1kRespMatSys_JES_UP_norm[0]"
   ]
  },
  {
   "cell_type": "code",
   "execution_count": 70,
   "metadata": {},
   "outputs": [
    {
     "data": {
      "text/plain": [
       "['b1kAequiResMat;2',\n",
       " 'b1kAequiResMat;1',\n",
       " 'b1kAequiGenVec;1',\n",
       " 'b1kAequiMeasVec;2',\n",
       " 'b1kAequiMeasVec;1',\n",
       " 'b1kAequiResMat_rebinnedB;1',\n",
       " 'b1kAequiMeasVec_rebinnedB;1']"
      ]
     },
     "execution_count": 70,
     "metadata": {},
     "output_type": "execute_result"
    }
   ],
   "source": [
    "possible_keys = [k for k in NEW_FILE.keys() if \"Aequi\" in k]\n",
    "possible_keys"
   ]
  },
  {
   "cell_type": "code",
   "execution_count": 71,
   "metadata": {},
   "outputs": [
    {
     "data": {
      "text/plain": [
       "[]"
      ]
     },
     "execution_count": 71,
     "metadata": {},
     "output_type": "execute_result"
    }
   ],
   "source": [
    "possible_keys = [k for k in NEW_FILE.keys() if \"Sys\" in k]\n",
    "possible_keys"
   ]
  },
  {
   "cell_type": "code",
   "execution_count": 72,
   "metadata": {
    "collapsed": true
   },
   "outputs": [],
   "source": [
    "b1kRespMat_norm = NEW_FILE[\"b1kRespMat_norm\"].to_numpy()"
   ]
  },
  {
   "cell_type": "code",
   "execution_count": 73,
   "metadata": {},
   "outputs": [
    {
     "data": {
      "text/plain": [
       "array([[1900.09308535, 1716.34936687, 1309.84939078, ...,   44.56491276,\n",
       "          44.9672164 ,   50.01496534],\n",
       "       [1142.5711689 , 1301.67914777, 1554.77329951, ...,   49.57486023,\n",
       "          49.88829735,   55.13861239],\n",
       "       [ 833.4547769 ,  876.37072834,  976.13013133, ...,   58.85116695,\n",
       "          57.83005424,   62.78738232],\n",
       "       ...,\n",
       "       [  62.78738232,   57.83005424,   58.85116695, ...,  976.13013133,\n",
       "         876.37072834,  833.4547769 ],\n",
       "       [  55.13861239,   49.88829735,   49.57486023, ..., 1554.77329951,\n",
       "        1301.67914777, 1142.5711689 ],\n",
       "       [  50.01496534,   44.9672164 ,   44.56491276, ..., 1309.84939078,\n",
       "        1716.34936687, 1900.09308535]])"
      ]
     },
     "execution_count": 73,
     "metadata": {},
     "output_type": "execute_result"
    }
   ],
   "source": [
    "b1kRespMat_norm[0]"
   ]
  },
  {
   "cell_type": "code",
   "execution_count": 74,
   "metadata": {},
   "outputs": [
    {
     "data": {
      "text/plain": [
       "array([[ True,  True, False, ...,  True,  True,  True],\n",
       "       [ True, False,  True, ..., False, False, False],\n",
       "       [ True, False,  True, ...,  True, False,  True],\n",
       "       ...,\n",
       "       [ True, False,  True, ...,  True, False,  True],\n",
       "       [False, False, False, ...,  True, False,  True],\n",
       "       [ True,  True,  True, ..., False,  True,  True]])"
      ]
     },
     "execution_count": 74,
     "metadata": {},
     "output_type": "execute_result"
    }
   ],
   "source": [
    "b1kRespMatSys_JES_UP_norm[0] == b1kRespMat_norm[0]"
   ]
  },
  {
   "cell_type": "code",
   "execution_count": 75,
   "metadata": {},
   "outputs": [
    {
     "data": {
      "text/plain": [
       "ColormeshArtists(pcolormesh=<matplotlib.collections.QuadMesh object at 0x7f7a5e4455d0>, cbar=<matplotlib.colorbar.Colorbar object at 0x7f7a5e445c90>, text=[])"
      ]
     },
     "execution_count": 75,
     "metadata": {},
     "output_type": "execute_result"
    },
    {
     "data": {
      "image/png": "[encoded data removed]",
      "text/plain": [
       "<Figure size 432x288 with 2 Axes>"
      ]
     },
     "metadata": {
      "needs_background": "light"
     },
     "output_type": "display_data"
    }
   ],
   "source": [
    "NEW_FILE[\"b1kRespMat_norm\"].to_hist().plot()"
   ]
  },
  {
   "cell_type": "code",
   "execution_count": 76,
   "metadata": {},
   "outputs": [
    {
     "data": {
      "text/plain": [
       "ColormeshArtists(pcolormesh=<matplotlib.collections.QuadMesh object at 0x7f7a5e33d150>, cbar=<matplotlib.colorbar.Colorbar object at 0x7f7a5fb83a10>, text=[])"
      ]
     },
     "execution_count": 76,
     "metadata": {},
     "output_type": "execute_result"
    },
    {
     "data": {
      "image/png": "[encoded data removed]",
      "text/plain": [
       "<Figure size 432x288 with 2 Axes>"
      ]
     },
     "metadata": {
      "needs_background": "light"
     },
     "output_type": "display_data"
    }
   ],
   "source": [
    "OG_FILE[\"b1kRespMatSys_JES_UP_norm\"].to_hist().plot()"
   ]
  },
  {
   "cell_type": "code",
   "execution_count": 77,
   "metadata": {
    "collapsed": true
   },
   "outputs": [],
   "source": [
    "ratio = np.divide(b1kRespMat_norm[0], b1kRespMatSys_JES_UP_norm[0])"
   ]
  },
  {
   "cell_type": "code",
   "execution_count": 78,
   "metadata": {},
   "outputs": [
    {
     "data": {
      "text/plain": [
       "[<matplotlib.lines.Line2D at 0x7f7a5e230710>]"
      ]
     },
     "execution_count": 78,
     "metadata": {},
     "output_type": "execute_result"
    },
    {
     "data": {
      "image/png": "[encoded data removed]",
      "text/plain": [
       "<Figure size 432x288 with 1 Axes>"
      ]
     },
     "metadata": {
      "needs_background": "light"
     },
     "output_type": "display_data"
    }
   ],
   "source": [
    "plt.plot(ratio.reshape(-1))"
   ]
  },
  {
   "cell_type": "code",
   "execution_count": 79,
   "metadata": {},
   "outputs": [
    {
     "data": {
      "text/plain": [
       "1152"
      ]
     },
     "execution_count": 79,
     "metadata": {},
     "output_type": "execute_result"
    }
   ],
   "source": [
    "len(ratio.reshape(-1))"
   ]
  },
  {
   "cell_type": "code",
   "execution_count": 80,
   "metadata": {},
   "outputs": [
    {
     "data": {
      "text/plain": [
       "['b1kRespMat_norm;2', 'b1kRespMat_norm;1']"
      ]
     },
     "execution_count": 80,
     "metadata": {},
     "output_type": "execute_result"
    }
   ],
   "source": [
    "possible_keys = [k for k in NEW_FILE.keys() if \"RespMat\" in k]\n",
    "possible_keys"
   ]
  },
  {
   "cell_type": "code",
   "execution_count": 81,
   "metadata": {},
   "outputs": [
    {
     "data": {
      "text/plain": [
       "ColormeshArtists(pcolormesh=<matplotlib.collections.QuadMesh object at 0x7f7b16b718d0>, cbar=<matplotlib.colorbar.Colorbar object at 0x7f7b16b71890>, text=[])"
      ]
     },
     "execution_count": 81,
     "metadata": {},
     "output_type": "execute_result"
    },
    {
     "data": {
      "image/png": "[encoded data removed]",
      "text/plain": [
       "<Figure size 432x288 with 2 Axes>"
      ]
     },
     "metadata": {
      "needs_background": "light"
     },
     "output_type": "display_data"
    }
   ],
   "source": [
    "NEW_FILE[\"b1kAequiResMat\"].to_hist().plot()"
   ]
  },
  {
   "cell_type": "code",
   "execution_count": 82,
   "metadata": {},
   "outputs": [
    {
     "data": {
      "text/plain": [
       "ColormeshArtists(pcolormesh=<matplotlib.collections.QuadMesh object at 0x7f7a80388050>, cbar=<matplotlib.colorbar.Colorbar object at 0x7f7b8e0e3710>, text=[])"
      ]
     },
     "execution_count": 82,
     "metadata": {},
     "output_type": "execute_result"
    },
    {
     "data": {
      "image/png": "[encoded data removed]",
      "text/plain": [
       "<Figure size 432x288 with 2 Axes>"
      ]
     },
     "metadata": {
      "needs_background": "light"
     },
     "output_type": "display_data"
    }
   ],
   "source": [
    "NEW_FILE[\"b1kAequiResMat_rebinnedB\"].to_hist().plot()"
   ]
  },
  {
   "cell_type": "code",
   "execution_count": 83,
   "metadata": {},
   "outputs": [
    {
     "data": {
      "text/plain": [
       "ColormeshArtists(pcolormesh=<matplotlib.collections.QuadMesh object at 0x7f7b968bc2d0>, cbar=<matplotlib.colorbar.Colorbar object at 0x7f7b968bc290>, text=[])"
      ]
     },
     "execution_count": 83,
     "metadata": {},
     "output_type": "execute_result"
    },
    {
     "data": {
      "image/png": "[encoded data removed]",
      "text/plain": [
       "<Figure size 432x288 with 2 Axes>"
      ]
     },
     "metadata": {
      "needs_background": "light"
     },
     "output_type": "display_data"
    }
   ],
   "source": [
    "OG_FILE[\"b1kRespMatSys_JES_UP_AequiResMatSys\"].to_hist().plot()"
   ]
  },
  {
   "cell_type": "code",
   "execution_count": 84,
   "metadata": {},
   "outputs": [
    {
     "data": {
      "text/plain": [
       "ColormeshArtists(pcolormesh=<matplotlib.collections.QuadMesh object at 0x7f7b8e386910>, cbar=<matplotlib.colorbar.Colorbar object at 0x7f7b8e338450>, text=[])"
      ]
     },
     "execution_count": 84,
     "metadata": {},
     "output_type": "execute_result"
    },
    {
     "data": {
      "image/png": "[encoded data removed]",
      "text/plain": [
       "<Figure size 432x288 with 2 Axes>"
      ]
     },
     "metadata": {
      "needs_background": "light"
     },
     "output_type": "display_data"
    }
   ],
   "source": [
    "NEW_FILE[\"b1kErrMatrixData\"].to_hist().plot()"
   ]
  },
  {
   "cell_type": "code",
   "execution_count": 85,
   "metadata": {},
   "outputs": [
    {
     "data": {
      "text/plain": [
       "ColormeshArtists(pcolormesh=<matplotlib.collections.QuadMesh object at 0x7f7b8e29b050>, cbar=<matplotlib.colorbar.Colorbar object at 0x7f7b8e29b710>, text=[])"
      ]
     },
     "execution_count": 85,
     "metadata": {},
     "output_type": "execute_result"
    },
    {
     "data": {
      "image/png": "[encoded data removed]",
      "text/plain": [
       "<Figure size 432x288 with 2 Axes>"
      ]
     },
     "metadata": {
      "needs_background": "light"
     },
     "output_type": "display_data"
    }
   ],
   "source": [
    "OG_FILE[\"b1kRespMatSys_JES_UP_CovMatSys\"].to_hist().plot()"
   ]
  },
  {
   "cell_type": "code",
   "execution_count": 86,
   "metadata": {},
   "outputs": [
    {
     "name": "stderr",
     "output_type": "stream",
     "text": [
      "/home/bakshi3/.conda/envs/cent7/5.3.1-py37/venv/lib/python3.7/site-packages/mplhep/error_estimation.py:48: RuntimeWarning: divide by zero encountered in true_divide\n",
      "  counts = sumw / scale\n"
     ]
    },
    {
     "data": {
      "text/plain": [
       "[StairsArtists(stairs=<matplotlib.patches.StepPatch object at 0x7f7b8e1bb050>, errorbar=<ErrorbarContainer object of 3 artists>, legend_artist=<ErrorbarContainer object of 3 artists>)]"
      ]
     },
     "execution_count": 86,
     "metadata": {},
     "output_type": "execute_result"
    },
    {
     "data": {
      "image/png": "[encoded data removed]",
      "text/plain": [
       "<Figure size 432x288 with 1 Axes>"
      ]
     },
     "metadata": {
      "needs_background": "light"
     },
     "output_type": "display_data"
    }
   ],
   "source": [
    "OG_FILE[\"b1kRespMatSys_JES_UP_deltaSys\"].to_hist().plot()"
   ]
  },
  {
   "cell_type": "code",
   "execution_count": 87,
   "metadata": {
    "scrolled": false
   },
   "outputs": [
    {
     "data": {
      "text/plain": [
       "['b1kRespMatSys_JES_UP_norm;3',\n",
       " 'b1kRespMatSys_JES_UP_norm;2',\n",
       " 'b1kRespMatSys_JES_UP_norm;1',\n",
       " 'b1kRespMatSys_JES_UP_AequiResMatSys;4',\n",
       " 'b1kRespMatSys_JES_UP_AequiResMatSys;3',\n",
       " 'b1kRespMatSys_JES_UP_AequiResMatSys;2',\n",
       " 'b1kRespMatSys_JES_UP_AequiResMatSys;1',\n",
       " 'b1kRespMatSys_JES_UP_deltaSys;2',\n",
       " 'b1kRespMatSys_JES_UP_deltaSys;1',\n",
       " 'b1kRespMatSys_JES_UP_deltaSys_rebinnedA;2',\n",
       " 'b1kRespMatSys_JES_UP_deltaSys_rebinnedA;1',\n",
       " 'b1kRespMatSys_JES_UP_deltaSys_rebinnedB;2',\n",
       " 'b1kRespMatSys_JES_UP_deltaSys_rebinnedB;1',\n",
       " 'b1kRespMatSys_JES_UP_CovMatSys;2',\n",
       " 'b1kRespMatSys_JES_UP_CovMatSys;1',\n",
       " 'b1kRespMatSys_JES_UP_CovMatSys_rebinnedA;2',\n",
       " 'b1kRespMatSys_JES_UP_CovMatSys_rebinnedA;1',\n",
       " 'b1kRespMatSys_JES_UP_CovMatSys_rebinnedB;2',\n",
       " 'b1kRespMatSys_JES_UP_CovMatSys_rebinnedB;1',\n",
       " 'b1kRespMatSys_JES_UP_CovMatSysNorm;2',\n",
       " 'b1kRespMatSys_JES_UP_CovMatSysNorm;1',\n",
       " 'b1kRespMatSys_JES_UP_CovMatSysNorm_rebinnedA;2',\n",
       " 'b1kRespMatSys_JES_UP_CovMatSysNorm_rebinnedA;1',\n",
       " 'b1kRespMatSys_JES_UP_CovMatSysNorm_rebinnedB;2',\n",
       " 'b1kRespMatSys_JES_UP_CovMatSysNorm_rebinnedB;1',\n",
       " 'b1kRespMatSys_JES_UP;1']"
      ]
     },
     "execution_count": 87,
     "metadata": {},
     "output_type": "execute_result"
    }
   ],
   "source": [
    "[ k for k in OG_FILE.keys() if 'JES_UP' in k]"
   ]
  },
  {
   "cell_type": "code",
   "execution_count": 61,
   "metadata": {},
   "outputs": [
    {
     "data": {
      "text/plain": [
       "['b1kRespMat_norm;2', 'b1kRespMat_norm;1']"
      ]
     },
     "execution_count": 61,
     "metadata": {},
     "output_type": "execute_result"
    }
   ],
   "source": [
    "[ k for k in NEW_FILE.keys() if 'Resp' in k]"
   ]
  },
  {
   "cell_type": "code",
   "execution_count": 50,
   "metadata": {},
   "outputs": [
    {
     "data": {
      "text/plain": [
       "[StairsArtists(stairs=<matplotlib.patches.StepPatch object at 0x7f6e8c173e10>, errorbar=<ErrorbarContainer object of 3 artists>, legend_artist=<ErrorbarContainer object of 3 artists>)]"
      ]
     },
     "execution_count": 50,
     "metadata": {},
     "output_type": "execute_result"
    },
    {
     "data": {
      "image/png": "[encoded data removed]",
      "text/plain": [
       "<Figure size 432x288 with 1 Axes>"
      ]
     },
     "metadata": {
      "needs_background": "light"
     },
     "output_type": "display_data"
    }
   ],
   "source": [
    "OG_FILE[\"b1kTUnfResultCor\"].to_hist().plot()"
   ]
  },
  {
   "cell_type": "code",
   "execution_count": 51,
   "metadata": {},
   "outputs": [
    {
     "data": {
      "text/plain": [
       "[StairsArtists(stairs=<matplotlib.patches.StepPatch object at 0x7f6e8c07e110>, errorbar=<ErrorbarContainer object of 3 artists>, legend_artist=<ErrorbarContainer object of 3 artists>)]"
      ]
     },
     "execution_count": 51,
     "metadata": {},
     "output_type": "execute_result"
    },
    {
     "data": {
      "image/png": "[encoded data removed]",
      "text/plain": [
       "<Figure size 432x288 with 1 Axes>"
      ]
     },
     "metadata": {
      "needs_background": "light"
     },
     "output_type": "display_data"
    }
   ],
   "source": [
    "NEW_FILE[\"b1kTUnfResultCor\"].to_hist().plot()"
   ]
  },
  {
   "cell_type": "code",
   "execution_count": 116,
   "metadata": {},
   "outputs": [],
   "source": [
    "import ROOT\n",
    "\n",
    "REG     = ROOT.TUnfold.kRegModeCurvature\n",
    "AREA    = ROOT.TUnfold.kEConstraintArea\n",
    "DENSITY = ROOT.TUnfoldDensity.kDensityModeBinWidthAndUser\n",
    "HISTMAP = ROOT.TUnfold.kHistMapOutputHoriz"
   ]
  },
  {
   "cell_type": "code",
   "execution_count": 117,
   "metadata": {
    "collapsed": true
   },
   "outputs": [],
   "source": [
    "# Nominal file\n",
    "IPFILE  = ROOT.TFile.Open(\"/depot/cms/top/bakshi3/TopSpinCorr_Run2_alt_version/CMSSW_10_6_29/src/TopAnalysis/Configuration/analysis/diLeptonic/TUnfoldResults_2018/Nominal/combined/b1k.root\")"
   ]
  },
  {
   "cell_type": "code",
   "execution_count": 118,
   "metadata": {
    "collapsed": true
   },
   "outputs": [],
   "source": [
    "Nominal_ResMat  = IPFILE.Get(\"b1kAequiResMat\")\n",
    "Nominal_MeasVec = IPFILE.Get(\"b1kAequiMeasVec\")"
   ]
  },
  {
   "cell_type": "code",
   "execution_count": 119,
   "metadata": {},
   "outputs": [],
   "source": [
    "binFileName      = \"/depot/cms/top/bakshi3/TopSpinCorr_Run2_alt_version/CMSSW_10_6_29/src/TopAnalysis/Configuration/analysis/diLeptonic/binning/b1k_binning.xml\" \n",
    "parser           = ROOT.TDOMParser()\n",
    "\n",
    "parser.ParseFile(binFileName)\n",
    "\n",
    "XMLdocument      = parser.GetXMLDocument()\n",
    "detectorBinning  = ROOT.TUnfoldBinningXML.ImportXML(XMLdocument,\"detector\")\n",
    "generatorBinning = ROOT.TUnfoldBinningXML.ImportXML(XMLdocument,\"generator\")"
   ]
  },
  {
   "cell_type": "code",
   "execution_count": 120,
   "metadata": {},
   "outputs": [
    {
     "name": "stderr",
     "output_type": "stream",
     "text": [
      "Info in <TUnfold::SetConstraint>: fConstraint=1\n",
      "Info in <TUnfold::TUnfold>: underflow and overflow bin do not depend on the input data\n",
      "Info in <TUnfold::TUnfold>: 48 input bins and 24 output bins\n",
      "Info in <TUnfoldDensity::TUnfold>: *NOT* unfolding bin #0\n",
      "Info in <TUnfoldDensity::TUnfold>: *NOT* unfolding bin #25\n",
      "Info in <TUnfoldDensity::RegularizeOneDistribution>: regularizing generator regMode=3 densityMode=3 axisSteering=*[UOB]\n",
      "Info in <TUnfoldDensity::RegularizeOneDistribution>: regularizing ttbargen regMode=3 densityMode=3 axisSteering=*[UOB]\n"
     ]
    }
   ],
   "source": [
    "unfold = ROOT.TUnfoldDensity(ResMat, HISTMAP, REG, AREA, DENSITY, generatorBinning, detectorBinning)"
   ]
  },
  {
   "cell_type": "code",
   "execution_count": 121,
   "metadata": {},
   "outputs": [
    {
     "data": {
      "text/plain": [
       "0"
      ]
     },
     "execution_count": 121,
     "metadata": {},
     "output_type": "execute_result"
    }
   ],
   "source": [
    "unfold.SetInput(MeasVec)"
   ]
  },
  {
   "cell_type": "code",
   "execution_count": 122,
   "metadata": {},
   "outputs": [],
   "source": [
    "# Systematic file\n",
    "SYSFILE     = ROOT.TFile.Open(\"/depot/cms/top/bakshi3/TopSpinCorr_Run2_alt_version/CMSSW_10_6_29/src/TopAnalysis/Configuration/analysis/diLeptonic/TUnfoldResults_2018/JES_UP/combined/b1k.root\")"
   ]
  },
  {
   "cell_type": "code",
   "execution_count": 123,
   "metadata": {},
   "outputs": [],
   "source": [
    "Sys_ResMat  = SYSFILE.Get(\"b1kAequiResMat\")\n",
    "Sys_MeasVec = SYSFILE.Get(\"b1kAequiMeasVec\")"
   ]
  },
  {
   "cell_type": "code",
   "execution_count": 124,
   "metadata": {
    "collapsed": true
   },
   "outputs": [],
   "source": [
    "unfold.AddSysError(Sys_ResMat, \"JES_UP_SysErr\", ROOT.TUnfold.kHistMapOutputHoriz, ROOT.TUnfoldSys.kSysErrModeMatrix)"
   ]
  },
  {
   "cell_type": "code",
   "execution_count": 126,
   "metadata": {},
   "outputs": [
    {
     "data": {
      "text/plain": [
       "0.9999999674418621"
      ]
     },
     "execution_count": 126,
     "metadata": {},
     "output_type": "execute_result"
    }
   ],
   "source": [
    "tauMin = 1.303e-04\n",
    "unfold.DoUnfold(tauMin)"
   ]
  },
  {
   "cell_type": "code",
   "execution_count": 153,
   "metadata": {},
   "outputs": [
    {
     "data": {
      "text/plain": [
       "50.68453781782744"
      ]
     },
     "execution_count": 153,
     "metadata": {},
     "output_type": "execute_result"
    }
   ],
   "source": [
    "unfold.GetChi2A()"
   ]
  },
  {
   "cell_type": "code",
   "execution_count": 154,
   "metadata": {},
   "outputs": [
    {
     "data": {
      "text/plain": [
       "2.8473506465216696"
      ]
     },
     "execution_count": 154,
     "metadata": {},
     "output_type": "execute_result"
    }
   ],
   "source": [
    " unfold.GetChi2L()"
   ]
  },
  {
   "cell_type": "code",
   "execution_count": 128,
   "metadata": {},
   "outputs": [
    {
     "data": {
      "text/plain": [
       "23"
      ]
     },
     "execution_count": 128,
     "metadata": {},
     "output_type": "execute_result"
    }
   ],
   "source": [
    "unfold.GetNdf()"
   ]
  },
  {
   "cell_type": "code",
   "execution_count": 130,
   "metadata": {},
   "outputs": [
    {
     "data": {
      "text/plain": [
       "2.3274734114934397"
      ]
     },
     "execution_count": 130,
     "metadata": {},
     "output_type": "execute_result"
    }
   ],
   "source": [
    "( unfold.GetChi2A() + unfold.GetChi2L() ) / unfold.GetNdf()"
   ]
  },
  {
   "cell_type": "code",
   "execution_count": 133,
   "metadata": {},
   "outputs": [
    {
     "name": "stderr",
     "output_type": "stream",
     "text": [
      "Warning in <TFile::Append>: Replacing existing TH1: JES_UP_deltaSys (Potential memory leak).\n"
     ]
    }
   ],
   "source": [
    "TUnfDeltaSys = unfold.GetDeltaSysSource(\"JES_UP_SysErr\", \"JES_UP_deltaSys\",'0',\"ttbargen\",\"*[UO]\",1)"
   ]
  },
  {
   "cell_type": "code",
   "execution_count": 134,
   "metadata": {
    "collapsed": true
   },
   "outputs": [],
   "source": [
    "fNBinsX = 48\n",
    "fNBinsY = 24\n",
    "\n",
    "ErrMatrix = ROOT.TH2D(\"b1kErrMatrixData\",\"Covariance Matrix\", fNBinsX, 0., fNBinsX ,fNBinsX,0., fNBinsX)\n",
    "unfold.GetEmatrix(ErrMatrix)"
   ]
  },
  {
   "cell_type": "code",
   "execution_count": 135,
   "metadata": {
    "collapsed": true
   },
   "outputs": [],
   "source": [
    "TUnfCovMatSys = ErrMatrix.Clone(\"b1kCovMatSys\")\n",
    "unfold.GetEmatrixSysSource(TUnfCovMatSys, \"JES_UP_SysErr\")"
   ]
  },
  {
   "cell_type": "code",
   "execution_count": 143,
   "metadata": {},
   "outputs": [
    {
     "data": {
      "image/png": "[encoded data removed]",
      "text/plain": [
       "<IPython.core.display.Image object>"
      ]
     },
     "metadata": {},
     "output_type": "display_data"
    }
   ],
   "source": [
    "c1 = ROOT.TCanvas()\n",
    "ROOT.gStyle.SetPalette(1)\n",
    "TUnfCovMatSys.Draw(\"colz\")\n",
    "c1.Draw()"
   ]
  },
  {
   "cell_type": "code",
   "execution_count": 144,
   "metadata": {},
   "outputs": [
    {
     "data": {
      "image/png": "[encoded data removed]",
      "text/plain": [
       "<IPython.core.display.Image object>"
      ]
     },
     "metadata": {},
     "output_type": "display_data"
    }
   ],
   "source": [
    "c1 = ROOT.TCanvas()\n",
    "ROOT.gStyle.SetPalette(1)\n",
    "ErrMatrix.Draw(\"colz\")\n",
    "c1.Draw()"
   ]
  },
  {
   "cell_type": "code",
   "execution_count": 145,
   "metadata": {},
   "outputs": [
    {
     "data": {
      "text/plain": [
       "ColormeshArtists(pcolormesh=<matplotlib.collections.QuadMesh object at 0x7f7a62202b90>, cbar=<matplotlib.colorbar.Colorbar object at 0x7f7a5b58cf90>, text=[])"
      ]
     },
     "execution_count": 145,
     "metadata": {},
     "output_type": "execute_result"
    },
    {
     "data": {
      "image/png": "[encoded data removed]",
      "text/plain": [
       "<Figure size 432x288 with 2 Axes>"
      ]
     },
     "metadata": {
      "needs_background": "light"
     },
     "output_type": "display_data"
    }
   ],
   "source": [
    "NEW_FILE[\"b1kErrMatrixData\"].to_hist().plot()"
   ]
  },
  {
   "cell_type": "code",
   "execution_count": 152,
   "metadata": {},
   "outputs": [
    {
     "name": "stderr",
     "output_type": "stream",
     "text": [
      "/home/bakshi3/.conda/envs/cent7/5.3.1-py37/venv/lib/python3.7/site-packages/mplhep/error_estimation.py:48: RuntimeWarning: divide by zero encountered in true_divide\n",
      "  counts = sumw / scale\n"
     ]
    },
    {
     "data": {
      "text/plain": [
       "[StairsArtists(stairs=<matplotlib.patches.StepPatch object at 0x7f7a5b3e6250>, errorbar=<ErrorbarContainer object of 3 artists>, legend_artist=<ErrorbarContainer object of 3 artists>)]"
      ]
     },
     "execution_count": 152,
     "metadata": {},
     "output_type": "execute_result"
    },
    {
     "data": {
      "image/png": "[encoded data removed]",
      "text/plain": [
       "<Figure size 432x288 with 1 Axes>"
      ]
     },
     "metadata": {
      "needs_background": "light"
     },
     "output_type": "display_data"
    }
   ],
   "source": [
    "OG_FILE[\"b1kRespMatSys_JES_UP_deltaSys\"].to_hist().plot()"
   ]
  },
  {
   "cell_type": "code",
   "execution_count": 149,
   "metadata": {},
   "outputs": [
    {
     "data": {
      "text/plain": [
       "['b1kRespMatSys_JES_UP_norm;3',\n",
       " 'b1kRespMatSys_JES_UP_norm;2',\n",
       " 'b1kRespMatSys_JES_UP_norm;1',\n",
       " 'b1kRespMatSys_JES_UP_AequiResMatSys;4',\n",
       " 'b1kRespMatSys_JES_UP_AequiResMatSys;3',\n",
       " 'b1kRespMatSys_JES_UP_AequiResMatSys;2',\n",
       " 'b1kRespMatSys_JES_UP_AequiResMatSys;1',\n",
       " 'b1kRespMatSys_JES_UP_deltaSys;2',\n",
       " 'b1kRespMatSys_JES_UP_deltaSys;1',\n",
       " 'b1kRespMatSys_JES_UP_deltaSys_rebinnedA;2',\n",
       " 'b1kRespMatSys_JES_UP_deltaSys_rebinnedA;1',\n",
       " 'b1kRespMatSys_JES_UP_deltaSys_rebinnedB;2',\n",
       " 'b1kRespMatSys_JES_UP_deltaSys_rebinnedB;1',\n",
       " 'b1kRespMatSys_JES_UP_CovMatSys;2',\n",
       " 'b1kRespMatSys_JES_UP_CovMatSys;1',\n",
       " 'b1kRespMatSys_JES_UP_CovMatSys_rebinnedA;2',\n",
       " 'b1kRespMatSys_JES_UP_CovMatSys_rebinnedA;1',\n",
       " 'b1kRespMatSys_JES_UP_CovMatSys_rebinnedB;2',\n",
       " 'b1kRespMatSys_JES_UP_CovMatSys_rebinnedB;1',\n",
       " 'b1kRespMatSys_JES_UP_CovMatSysNorm;2',\n",
       " 'b1kRespMatSys_JES_UP_CovMatSysNorm;1',\n",
       " 'b1kRespMatSys_JES_UP_CovMatSysNorm_rebinnedA;2',\n",
       " 'b1kRespMatSys_JES_UP_CovMatSysNorm_rebinnedA;1',\n",
       " 'b1kRespMatSys_JES_UP_CovMatSysNorm_rebinnedB;2',\n",
       " 'b1kRespMatSys_JES_UP_CovMatSysNorm_rebinnedB;1',\n",
       " 'b1kRespMatSys_JES_UP;1']"
      ]
     },
     "execution_count": 149,
     "metadata": {},
     "output_type": "execute_result"
    }
   ],
   "source": [
    "[ k for k in OG_FILE.keys() if 'JES_UP' in k]"
   ]
  },
  {
   "cell_type": "code",
   "execution_count": null,
   "metadata": {
    "collapsed": true
   },
   "outputs": [],
   "source": []
  }
 ],
 "metadata": {
  "kernelspec": {
   "display_name": "venv",
   "language": "python",
   "name": "venv"
  },
  "language_info": {
   "codemirror_mode": {
    "name": "ipython",
    "version": 3
   },
   "file_extension": ".py",
   "mimetype": "text/x-python",
   "name": "python",
   "nbconvert_exporter": "python",
   "pygments_lexer": "ipython3",
   "version": "3.7.8"
  }
 },
 "nbformat": 4,
 "nbformat_minor": 2
}
