{
 "cells": [
  {
   "cell_type": "code",
   "execution_count": 1,
   "metadata": {
    "collapsed": true
   },
   "outputs": [],
   "source": [
    "import math\n",
    "import uproot\n",
    "import numpy as np\n",
    "import matplotlib.pyplot as plt"
   ]
  },
  {
   "cell_type": "code",
   "execution_count": 3,
   "metadata": {
    "collapsed": true
   },
   "outputs": [],
   "source": [
    "BASEDIR = '/depot/cms/top/bakshi3/TopSpinCorr_Run2_generalized_ND/CMSSW_10_6_30/src/TopAnalysis/Configuration/analysis/diLeptonic/TUnfoldResults_2016/Nominal/combined/AllSysts_2D_vars_updated_reg/'"
   ]
  },
  {
   "cell_type": "code",
   "execution_count": 4,
   "metadata": {
    "collapsed": true
   },
   "outputs": [],
   "source": [
    "var_list = [\n",
    "'b1k_mttbar',\n",
    "'b2k_mttbar',\n",
    "'b1r_mttbar',\n",
    "'b2r_mttbar',\n",
    "'b1n_mttbar',\n",
    "'b2n_mttbar',\n",
    "'b1j_mttbar',\n",
    "'b2j_mttbar',\n",
    "'b1q_mttbar',\n",
    "'b2q_mttbar',\n",
    "'c_kk_mttbar',\n",
    "'c_rr_mttbar',\n",
    "'c_nn_mttbar',\n",
    "'c_Prk_mttbar',\n",
    "'c_Mrk_mttbar',\n",
    "'c_Pnr_mttbar',\n",
    "'c_Mnr_mttbar',\n",
    "'c_Pnk_mttbar',\n",
    "'c_Mnk_mttbar',\n",
    "'c_kj_mttbar',\n",
    "'c_rq_mttbar',\n",
    "'c_han_mttbar',\n",
    "'c_tra_mttbar',\n",
    "'c_sca_mttbar',\n",
    "'c_Prj_mttbar',\n",
    "'c_Mrj_mttbar',\n",
    "'c_kjL_mttbar',\n",
    "'c_rqL_mttbar',\n",
    "'c_rkP_mttbar',\n",
    "'c_rkM_mttbar',\n",
    "'c_nrP_mttbar',\n",
    "'c_nrM_mttbar',\n",
    "'c_nkP_mttbar',\n",
    "'c_nkM_mttbar',\n",
    "'ll_cHel_mttbar',\n",
    "'ll_cLab_mttbar',\n",
    "'llbar_delta_phi_mttbar',\n",
    "'llbar_delta_eta_mttbar',\n",
    "]"
   ]
  },
  {
   "cell_type": "code",
   "execution_count": 5,
   "metadata": {
    "collapsed": true
   },
   "outputs": [],
   "source": [
    "fileptr_dict = {}\n",
    "for var in var_list :\n",
    "    fileptr_dict[var] = uproot.open(BASEDIR + str(var) + \".root\")"
   ]
  },
  {
   "cell_type": "code",
   "execution_count": 6,
   "metadata": {},
   "outputs": [
    {
     "data": {
      "text/plain": [
       "['b1k_mttbarRespMatSys_Uncorr_CovMatSys;2',\n",
       " 'b1k_mttbarRespMatSys_Uncorr_CovMatSys;1',\n",
       " 'b1k_mttbarRespMatSys_Uncorr_CovMatSys_rebinnedA;2',\n",
       " 'b1k_mttbarRespMatSys_Uncorr_CovMatSys_rebinnedA;1',\n",
       " 'b1k_mttbarRespMatSys_Uncorr_CovMatSys_rebinnedB;2',\n",
       " 'b1k_mttbarRespMatSys_Uncorr_CovMatSys_rebinnedB;1',\n",
       " 'b1k_mttbarRespMatSys_Uncorr_CovMatSysNorm;2',\n",
       " 'b1k_mttbarRespMatSys_Uncorr_CovMatSysNorm;1',\n",
       " 'b1k_mttbarRespMatSys_Uncorr_CovMatSysNorm_rebinnedA;2',\n",
       " 'b1k_mttbarRespMatSys_Uncorr_CovMatSysNorm_rebinnedA;1',\n",
       " 'b1k_mttbarRespMatSys_Uncorr_CovMatSysNorm_rebinnedB;2',\n",
       " 'b1k_mttbarRespMatSys_Uncorr_CovMatSysNorm_rebinnedB;1']"
      ]
     },
     "execution_count": 6,
     "metadata": {},
     "output_type": "execute_result"
    }
   ],
   "source": [
    "[k for k in fileptr_dict['b1k_mttbar'].keys() if 'RespMatSys_Uncorr_CovMatSys' in k]"
   ]
  },
  {
   "cell_type": "markdown",
   "metadata": {},
   "source": [
    "## Load in statistical uncertainty for Allvars"
   ]
  },
  {
   "cell_type": "code",
   "execution_count": 7,
   "metadata": {
    "collapsed": true
   },
   "outputs": [],
   "source": [
    "nbinsvar = 24\n",
    "deltaStatAllVar = []\n",
    "\n",
    "for var in var_list :\n",
    "    # Statistical uncertainty from unfolding \n",
    "    statcovmat   = fileptr_dict[var][var + 'EmatrixCor_rebinnedA'].to_numpy()[0]\n",
    "    \n",
    "    # Statistical uncertainty from limited MC stats\n",
    "    MCstatcovmat = fileptr_dict[var][var + 'RespMatSys_Uncorr_CovMatSys_rebinnedA'].to_numpy()[0]\n",
    "\n",
    "    # Add both \n",
    "    deltaStatVar = [math.sqrt(statcovmat[i][i] + MCstatcovmat[i][i]) for i in range(nbinsvar)]\n",
    "    \n",
    "    deltaStatAllVar.extend(deltaStatVar)\n",
    "    \n",
    "    del statcovmat\n",
    "    del MCstatcovmat\n",
    "    del deltaStatVar"
   ]
  },
  {
   "cell_type": "markdown",
   "metadata": {},
   "source": [
    "### Compute matrix with sigma along it's diagnols"
   ]
  },
  {
   "cell_type": "code",
   "execution_count": 8,
   "metadata": {
    "collapsed": true
   },
   "outputs": [],
   "source": [
    "deltaStatAllVar   = np.array(deltaStatAllVar)\n",
    "diag_sigma_matrix = np.zeros((len(deltaStatAllVar), len(deltaStatAllVar)))\n",
    "\n",
    "for i in range(len(deltaStatAllVar)) :\n",
    "    diag_sigma_matrix[i][i] = deltaStatAllVar[i]"
   ]
  },
  {
   "cell_type": "code",
   "execution_count": 9,
   "metadata": {
    "collapsed": true
   },
   "outputs": [],
   "source": [
    "selfCorrMatrix = np.loadtxt('RhoBBCorrected_rebinnedA_updated_reg.txt')\n",
    "selfCovMatrix  = np.matmul(np.matmul(diag_sigma_matrix, selfCorrMatrix), diag_sigma_matrix.T)"
   ]
  },
  {
   "cell_type": "code",
   "execution_count": 10,
   "metadata": {},
   "outputs": [
    {
     "data": {
      "text/plain": [
       "(912, 912)"
      ]
     },
     "execution_count": 10,
     "metadata": {},
     "output_type": "execute_result"
    }
   ],
   "source": [
    "np.shape(selfCorrMatrix)"
   ]
  },
  {
   "cell_type": "code",
   "execution_count": 14,
   "metadata": {
    "collapsed": true
   },
   "outputs": [],
   "source": [
    "np.savetxt('StatCovMatrix_2D_mttbar_updated_reg.txt', selfCovMatrix)"
   ]
  },
  {
   "cell_type": "markdown",
   "metadata": {},
   "source": [
    "### Compare to the one obtained from the FW"
   ]
  },
  {
   "cell_type": "code",
   "execution_count": 13,
   "metadata": {
    "collapsed": true
   },
   "outputs": [],
   "source": [
    "SystematicsAllVars   = uproot.open(BASEDIR + \"Systematics_AllVars.root\")\n",
    "# SystematicsAllVars = uproot.open(BASEDIR + \"Systematics_AllVars_incomplete.root\")"
   ]
  },
  {
   "cell_type": "code",
   "execution_count": 14,
   "metadata": {},
   "outputs": [
    {
     "data": {
      "text/plain": [
       "['TotalStatCovMatrix_AllVar_rebinnedA;1',\n",
       " 'TotalStatSystCovMatrix_AllVar_rebinnedA;1']"
      ]
     },
     "execution_count": 14,
     "metadata": {},
     "output_type": "execute_result"
    }
   ],
   "source": [
    "[k for k in SystematicsAllVars.keys() if 'TotalStat' in k]"
   ]
  },
  {
   "cell_type": "code",
   "execution_count": 15,
   "metadata": {},
   "outputs": [
    {
     "data": {
      "text/plain": [
       "array([[ 1.341663e+01, -1.918470e+00, -8.126140e+00, ...,  2.420800e-01,\n",
       "         1.812000e-02,  5.844000e-02],\n",
       "       [-1.918470e+00,  5.296590e+00,  2.669470e+00, ...,  1.409000e-02,\n",
       "         3.390000e-02,  3.416000e-02],\n",
       "       [-8.126140e+00,  2.669470e+00,  1.169248e+01, ..., -1.499900e-01,\n",
       "         1.290900e-01, -3.828000e-02],\n",
       "       ...,\n",
       "       [ 2.420800e-01,  1.409000e-02, -1.499900e-01, ...,  2.732400e-01,\n",
       "        -1.780000e-03,  7.929000e-02],\n",
       "       [ 1.812000e-02,  3.390000e-02,  1.290900e-01, ..., -1.780000e-03,\n",
       "         3.017400e-01,  5.170000e-03],\n",
       "       [ 5.844000e-02,  3.416000e-02, -3.828000e-02, ...,  7.929000e-02,\n",
       "         5.170000e-03,  1.143270e+00]])"
      ]
     },
     "execution_count": 15,
     "metadata": {},
     "output_type": "execute_result"
    }
   ],
   "source": [
    "FWCovMatrix = SystematicsAllVars['TotalStatCovMatrix_AllVar_rebinnedA'].to_hist().to_numpy()[0]\n",
    "FWCovMatrix = np.round(FWCovMatrix,5)\n",
    "FWCovMatrix"
   ]
  },
  {
   "cell_type": "code",
   "execution_count": 16,
   "metadata": {},
   "outputs": [
    {
     "data": {
      "text/plain": [
       "array([[ 1.341663e+01, -1.356830e+00, -7.720440e+00, ...,  3.757000e-01,\n",
       "        -2.564000e-02, -5.615100e-01],\n",
       "       [-1.356830e+00,  5.296590e+00,  3.268120e+00, ...,  2.704000e-02,\n",
       "         2.368600e-01,  2.204600e-01],\n",
       "       [-7.720440e+00,  3.268120e+00,  1.169248e+01, ..., -3.457700e-01,\n",
       "         1.580000e-03,  7.412400e-01],\n",
       "       ...,\n",
       "       [ 3.757000e-01,  2.704000e-02, -3.457700e-01, ...,  2.732400e-01,\n",
       "         1.051000e-02, -1.795000e-02],\n",
       "       [-2.564000e-02,  2.368600e-01,  1.580000e-03, ...,  1.051000e-02,\n",
       "         3.017400e-01, -9.720000e-03],\n",
       "       [-5.615100e-01,  2.204600e-01,  7.412400e-01, ..., -1.795000e-02,\n",
       "        -9.720000e-03,  1.143270e+00]])"
      ]
     },
     "execution_count": 16,
     "metadata": {},
     "output_type": "execute_result"
    }
   ],
   "source": [
    "selfCovMatrix = np.round(selfCovMatrix,5)\n",
    "selfCovMatrix"
   ]
  },
  {
   "cell_type": "code",
   "execution_count": 17,
   "metadata": {},
   "outputs": [
    {
     "data": {
      "text/plain": [
       "True"
      ]
     },
     "execution_count": 17,
     "metadata": {},
     "output_type": "execute_result"
    }
   ],
   "source": [
    "selfdiag = np.array([selfCovMatrix[i][i] for i in range(864)])\n",
    "FWdiag   = np.array([FWCovMatrix[i][i] for i in range(864)])\n",
    "\n",
    "(selfdiag == FWdiag).all()"
   ]
  },
  {
   "cell_type": "markdown",
   "metadata": {},
   "source": [
    "### Also compare correlations while you are at it"
   ]
  },
  {
   "cell_type": "code",
   "execution_count": 125,
   "metadata": {},
   "outputs": [
    {
     "data": {
      "text/plain": [
       "array([[ 1.     , -0.3067 , -0.08428, ...,  0.02417, -0.01229,  0.02498],\n",
       "       [-0.3067 ,  1.     , -0.19079, ...,  0.08526,  0.01861,  0.05664],\n",
       "       [-0.08428, -0.19079,  1.     , ...,  0.06688,  0.05704,  0.02915],\n",
       "       ...,\n",
       "       [ 0.02417,  0.08526,  0.06688, ...,  1.     , -0.05175,  0.00524],\n",
       "       [-0.01229,  0.01861,  0.05704, ..., -0.05175,  1.     ,  0.01988],\n",
       "       [ 0.02498,  0.05664,  0.02915, ...,  0.00524,  0.01988,  1.     ]])"
      ]
     },
     "execution_count": 125,
     "metadata": {},
     "output_type": "execute_result"
    }
   ],
   "source": [
    "np.round(selfCorrMatrix,5)"
   ]
  },
  {
   "cell_type": "code",
   "execution_count": 126,
   "metadata": {},
   "outputs": [
    {
     "data": {
      "text/plain": [
       "array([[ 1.     , -0.3067 , -0.08427, ...,  0.0242 , -0.01233,  0.02498],\n",
       "       [-0.3067 ,  1.     , -0.19082, ...,  0.08533,  0.0186 ,  0.05659],\n",
       "       [-0.08427, -0.19082,  1.     , ...,  0.06685,  0.05709,  0.02977],\n",
       "       ...,\n",
       "       [ 0.0242 ,  0.08533,  0.06685, ...,  1.     , -0.05167,  0.00566],\n",
       "       [-0.01233,  0.0186 ,  0.05709, ..., -0.05167,  1.     ,  0.01947],\n",
       "       [ 0.02498,  0.05659,  0.02977, ...,  0.00566,  0.01947,  1.     ]])"
      ]
     },
     "execution_count": 126,
     "metadata": {},
     "output_type": "execute_result"
    }
   ],
   "source": [
    "DEPOTDIR    = '/depot/cms/top/bakshi3/TopSpinCorr_Run2_generalized_ND/CMSSW_10_6_30/src/TopAnalysis/Configuration/analysis/diLeptonic/'\n",
    "FW_1000_cor = uproot.open(DEPOTDIR  + 'BootstrapCorrelationMatrices_1D_newvars_1000PE_FW.root')['h_RhoBBCorrected_rebinnedA']\n",
    "FW_1000_cor = FW_1000_cor.to_hist().to_numpy()[0]\n",
    "\n",
    "np.round(FW_1000_cor,5)"
   ]
  },
  {
   "cell_type": "code",
   "execution_count": 127,
   "metadata": {},
   "outputs": [
    {
     "data": {
      "text/plain": [
       "(array([], dtype=int64), array([], dtype=int64))"
      ]
     },
     "execution_count": 127,
     "metadata": {},
     "output_type": "execute_result"
    }
   ],
   "source": [
    "# Jacob mentioned using delta instead of rel_delta \n",
    "delta = (FW_1000_cor - selfCorrMatrix)\n",
    "delta\n",
    "\n",
    "# There exist no elements where absolute delta is greater than 0.001\n",
    "# which is the statistical precision of 10k toys\n",
    "np.where(abs(delta) > 0.001)"
   ]
  },
  {
   "cell_type": "markdown",
   "metadata": {},
   "source": [
    "### The fact that the correlations are the same to about 0.001 and that the diagnols are the same should probably serve as an indicator to the fact that the method works"
   ]
  },
  {
   "cell_type": "code",
   "execution_count": 131,
   "metadata": {},
   "outputs": [
    {
     "data": {
      "text/plain": [
       "True"
      ]
     },
     "execution_count": 131,
     "metadata": {},
     "output_type": "execute_result"
    }
   ],
   "source": [
    "selfdiag.all() == FWdiag.all()"
   ]
  },
  {
   "cell_type": "markdown",
   "metadata": {
    "collapsed": true
   },
   "source": [
    "## Now let's normalize"
   ]
  },
  {
   "cell_type": "markdown",
   "metadata": {},
   "source": [
    "Consider an observable $x$ and its covariance matrix $\\Sigma_x$. The generalized covariance transformation is $\\Sigma_y = J \\Sigma_x J^T$ where $J$ is the Jacobian matrix:\n",
    "\n",
    "$J = \n",
    "\\begin{bmatrix} \n",
    "\\partial f_0 / \\partial x_0 & \\partial f_0 / \\partial x_1 & \\ldots \\\\\n",
    "\\partial f_1 / \\partial x_0 & \\partial f_1 / \\partial x_1 & \\ldots \\\\\n",
    "\\ldots & & \\\\\n",
    "\\end{bmatrix}$\n",
    "\n",
    "Now consider a transformation of $x$ to normalize it: \n",
    "\n",
    "$y = \\frac{x}{ \\sum_i x_i} \\equiv \\frac{x}{N}$,\n",
    "\n",
    "\n",
    "Then the Jacobian is,\n",
    "\n",
    "$J = \n",
    "\\begin{bmatrix} \n",
    "\\frac{N-x_0}{N^2}  & \\frac{-x_0}{N^2} & \\frac{-x_0}{N^2} & \\ldots \\\\\n",
    "\\frac{-x_1}{N^2} & \\frac{N-x_1}{N^2} & \\frac{-x_1}{N^2} & \\ldots \\\\\n",
    "\\ldots \n",
    "\\end{bmatrix}$\n",
    "\n",
    "\n",
    "Coordinate transformations change the uncertainties as,\n",
    "\n",
    "$\\Sigma_y = J \\Sigma_x J^T$\n",
    "\n",
    "where $\\sigma_x$ is the covariance matrix, and $y$ is defined above. "
   ]
  },
  {
   "cell_type": "code",
   "execution_count": 15,
   "metadata": {
    "collapsed": true
   },
   "outputs": [],
   "source": [
    "nbinsrhoi   = 24\n",
    "nbinstot    = nbinsrhoi * len(var_list)\n",
    "sum_AllVar  = []\n",
    "hnom_AllVar = []\n",
    "\n",
    "for var in var_list : \n",
    "\n",
    "    # Unfolded result for particular variable\n",
    "    hnom = fileptr_dict[var][var + 'TUnfResultCor_rebinnedA'].to_hist().values()\n",
    "    sum_AllVar.append(sum(hnom))\n",
    "    hnom_AllVar.append(hnom)\n",
    "    \n",
    "dfdn  = np.zeros((nbinstot, nbinstot))\n",
    "\n",
    "for i in range(nbinstot) :\n",
    "    for j in range(nbinstot) :\n",
    "        if (i == j) : \n",
    "            sum_n =  sum_AllVar[i//nbinsrhoi] # i//nbinsrhoi is var number, so get integral for that variable\n",
    "            unf_i = hnom_AllVar[i//nbinsrhoi][i%nbinsrhoi] # i%nbinsrhoi is bin number, so list <var> <bin>\n",
    "            \n",
    "            dfdn[i][j]  = (sum_n - unf_i) / sum_n**2\n",
    "            del sum_n, unf_i\n",
    "            \n",
    "        elif (i//nbinsrhoi == j//nbinsrhoi) :\n",
    "            sum_n =  sum_AllVar[i//nbinsrhoi] # i//nbinsrhoi is var number, so get integral for that variable\n",
    "            unf_i = hnom_AllVar[i//nbinsrhoi][i%nbinsrhoi] # i%nbinsrhoi is bin number, so list <var> <bin>\n",
    "            \n",
    "            dfdn[i][j]  = (- unf_i) / sum_n**2\n",
    "            del sum_n, unf_i\n",
    "            \n",
    "        else :\n",
    "            dfdn[i][j] = 0"
   ]
  },
  {
   "cell_type": "code",
   "execution_count": 17,
   "metadata": {},
   "outputs": [
    {
     "data": {
      "text/plain": [
       "18"
      ]
     },
     "execution_count": 17,
     "metadata": {},
     "output_type": "execute_result"
    }
   ],
   "source": [
    "112//6 # var_number"
   ]
  },
  {
   "cell_type": "code",
   "execution_count": 18,
   "metadata": {},
   "outputs": [
    {
     "data": {
      "text/plain": [
       "4"
      ]
     },
     "execution_count": 18,
     "metadata": {},
     "output_type": "execute_result"
    }
   ],
   "source": [
    "112%6 # bin_number"
   ]
  },
  {
   "cell_type": "code",
   "execution_count": 16,
   "metadata": {},
   "outputs": [
    {
     "data": {
      "text/plain": [
       "array([[ 1.91373832e-05, -2.20910598e-06, -1.13752596e-05, ...,\n",
       "         5.12753954e-07, -3.69187025e-08, -8.12118070e-07],\n",
       "       [-2.20910598e-06,  7.76135509e-06,  4.92134836e-06, ...,\n",
       "         1.42905603e-08,  3.61188915e-07,  3.70762950e-07],\n",
       "       [-1.13752596e-05,  4.92134836e-06,  1.73699650e-05, ...,\n",
       "        -5.18211652e-07,  3.06643768e-08,  1.18018610e-06],\n",
       "       ...,\n",
       "       [ 5.12753954e-07,  1.42905603e-08, -5.18211652e-07, ...,\n",
       "         4.20169020e-07,  4.09974488e-08,  7.22351633e-09],\n",
       "       [-3.69187025e-08,  3.61188915e-07,  3.06643768e-08, ...,\n",
       "         4.09974488e-08,  4.82008598e-07,  4.62718303e-08],\n",
       "       [-8.12118070e-07,  3.70762950e-07,  1.18018610e-06, ...,\n",
       "         7.22351633e-09,  4.62718303e-08,  1.75002156e-06]])"
      ]
     },
     "execution_count": 16,
     "metadata": {},
     "output_type": "execute_result"
    }
   ],
   "source": [
    "np.matmul(np.matmul(dfdn, selfCovMatrix), dfdn.T)"
   ]
  },
  {
   "cell_type": "code",
   "execution_count": 17,
   "metadata": {
    "collapsed": true
   },
   "outputs": [],
   "source": [
    "# FWCovMatrix_norm = SystematicsAllVars['TotalStatCovMatrix_AllVarNorm_rebinnedA'].to_hist().to_numpy()[0]\n",
    "# FWCovMatrix_norm"
   ]
  },
  {
   "cell_type": "code",
   "execution_count": 18,
   "metadata": {},
   "outputs": [
    {
     "data": {
      "text/plain": [
       "array([[ 1.91373832e-05, -2.20910598e-06, -1.13752596e-05, ...,\n",
       "         5.12753954e-07, -3.69187025e-08, -8.12118070e-07],\n",
       "       [-2.20910598e-06,  7.76135509e-06,  4.92134836e-06, ...,\n",
       "         1.42905603e-08,  3.61188915e-07,  3.70762950e-07],\n",
       "       [-1.13752596e-05,  4.92134836e-06,  1.73699650e-05, ...,\n",
       "        -5.18211652e-07,  3.06643768e-08,  1.18018610e-06],\n",
       "       ...,\n",
       "       [ 5.12753954e-07,  1.42905603e-08, -5.18211652e-07, ...,\n",
       "         4.20169020e-07,  4.09974488e-08,  7.22351633e-09],\n",
       "       [-3.69187025e-08,  3.61188915e-07,  3.06643768e-08, ...,\n",
       "         4.09974488e-08,  4.82008598e-07,  4.62718303e-08],\n",
       "       [-8.12118070e-07,  3.70762950e-07,  1.18018610e-06, ...,\n",
       "         7.22351633e-09,  4.62718303e-08,  1.75002156e-06]])"
      ]
     },
     "execution_count": 18,
     "metadata": {},
     "output_type": "execute_result"
    }
   ],
   "source": [
    "selfCovMatrixNorm = np.matmul(np.matmul(dfdn, selfCovMatrix), dfdn.T)\n",
    "selfCovMatrixNorm"
   ]
  },
  {
   "cell_type": "code",
   "execution_count": 19,
   "metadata": {
    "collapsed": true
   },
   "outputs": [],
   "source": [
    "np.savetxt('StatCovMatrixNorm_2D_mttbar_updated_reg.txt', selfCovMatrixNorm)"
   ]
  },
  {
   "cell_type": "code",
   "execution_count": 20,
   "metadata": {},
   "outputs": [
    {
     "data": {
      "text/plain": [
       "array([[ 1.91373832e-05, -2.20910598e-06, -1.13752596e-05, ...,\n",
       "         5.12753954e-07, -3.69187025e-08, -8.12118070e-07],\n",
       "       [-2.20910598e-06,  7.76135509e-06,  4.92134836e-06, ...,\n",
       "         1.42905603e-08,  3.61188915e-07,  3.70762950e-07],\n",
       "       [-1.13752596e-05,  4.92134836e-06,  1.73699650e-05, ...,\n",
       "        -5.18211652e-07,  3.06643768e-08,  1.18018610e-06],\n",
       "       ...,\n",
       "       [ 5.12753954e-07,  1.42905603e-08, -5.18211652e-07, ...,\n",
       "         4.20169020e-07,  4.09974488e-08,  7.22351633e-09],\n",
       "       [-3.69187025e-08,  3.61188915e-07,  3.06643768e-08, ...,\n",
       "         4.09974488e-08,  4.82008598e-07,  4.62718303e-08],\n",
       "       [-8.12118070e-07,  3.70762950e-07,  1.18018610e-06, ...,\n",
       "         7.22351633e-09,  4.62718303e-08,  1.75002156e-06]])"
      ]
     },
     "execution_count": 20,
     "metadata": {},
     "output_type": "execute_result"
    }
   ],
   "source": [
    "selfCovMatrixNorm"
   ]
  },
  {
   "cell_type": "code",
   "execution_count": null,
   "metadata": {
    "collapsed": true
   },
   "outputs": [],
   "source": []
  }
 ],
 "metadata": {
  "kernelspec": {
   "display_name": "Coffea DASK pyROOT ML [AF]",
   "language": "python",
   "name": "coffea_dask_pyroot_ml"
  },
  "language_info": {
   "codemirror_mode": {
    "name": "ipython",
    "version": 3
   },
   "file_extension": ".py",
   "mimetype": "text/x-python",
   "name": "python",
   "nbconvert_exporter": "python",
   "pygments_lexer": "ipython3",
   "version": "3.8.8"
  }
 },
 "nbformat": 4,
 "nbformat_minor": 2
}
