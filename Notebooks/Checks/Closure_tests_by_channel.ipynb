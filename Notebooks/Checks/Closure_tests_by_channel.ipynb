{
 "cells": [
  {
   "cell_type": "code",
   "execution_count": 1,
   "metadata": {
    "collapsed": true
   },
   "outputs": [],
   "source": [
    "import uproot \n",
    "import numpy as np\n",
    "import matplotlib.pyplot as plt"
   ]
  },
  {
   "cell_type": "code",
   "execution_count": 2,
   "metadata": {
    "collapsed": true
   },
   "outputs": [],
   "source": [
    "BASE_DIR = \"/scratch/brown/bakshi3/TopSpinCorr_Run2_generalized_ND/CMSSW_10_6_30/src/TopAnalysis/Configuration/analysis/diLeptonic/preunfolded_2017/Nominal\""
   ]
  },
  {
   "cell_type": "code",
   "execution_count": 6,
   "metadata": {},
   "outputs": [],
   "source": [
    "b1j_MC_unfolded_ee   = uproot.open(\"/scratch/brown/bakshi3/TopSpinCorr_Run2_generalized_ND/CMSSW_10_6_30/src/TopAnalysis/Configuration/analysis/diLeptonic/TUnfoldResults_2017/Nominal/ee/b1j.root\")\n",
    "b1j_MC_unfolded_emu  = uproot.open(\"/scratch/brown/bakshi3/TopSpinCorr_Run2_generalized_ND/CMSSW_10_6_30/src/TopAnalysis/Configuration/analysis/diLeptonic/TUnfoldResults_2017/Nominal/emu/b1j.root\")\n",
    "b1j_MC_unfolded_mumu = uproot.open(\"/scratch/brown/bakshi3/TopSpinCorr_Run2_generalized_ND/CMSSW_10_6_30/src/TopAnalysis/Configuration/analysis/diLeptonic/TUnfoldResults_2017/Nominal/mumu/b1j.root\")"
   ]
  },
  {
   "cell_type": "code",
   "execution_count": 7,
   "metadata": {},
   "outputs": [
    {
     "data": {
      "text/html": [
       "<html>\n",
       "<div style=\"display:flex; align-items:center;\">\n",
       "<div style=\"width:290px;\">\n",
       "<svg xmlns=\"http://www.w3.org/2000/svg\" viewBox=\"-10 -105 270 120\">\n",
       "<line x1=\"-5\" y1=\"0\" x2=\"255\" y2=\"0\" style=\"fill:none;stroke-width:2;stroke:currentColor\"/>\n",
       "<text text-anchor=\"middle\" x=\"0\" y=\"15\" style=\"fill:currentColor;\">\n",
       "0.5\n",
       "</text>\n",
       "<text text-anchor=\"middle\" x=\"250\" y=\"15\" style=\"fill:currentColor;\">\n",
       "6.5\n",
       "</text>\n",
       "<text text-anchor=\"middle\" x=\"125.0\" y=\"15\" style=\"fill:currentColor;\">\n",
       "b1j(rec)[GeV]\n",
       "</text>\n",
       "<polyline points=\"  0,0   0,-98.1 41.6667,-98.1 41.6667,-99.4 83.3333,-99.4 83.3333,-99.9 125,-99.9 125,-100 166.667,-100 166.667,-99.4 208.333,-99.4 208.333,-98.1 250,-98.1 250,0\" style=\"fill:none; stroke:currentColor;\"/>\n",
       "</svg>\n",
       "</div>\n",
       "<div style=\"flex=grow:1;\">\n",
       "Regular(6, 0.5, 6.5, name='xaxis', label='b1j(rec)[GeV]')<br/>\n",
       "<hr style=\"margin-top:.2em; margin-bottom:.2em;\"/>\n",
       "Weight() Σ=WeightedSum(value=829.559, variance=154.102)\n",
       "\n",
       "</div>\n",
       "</div>\n",
       "</html>"
      ],
      "text/plain": [
       "Hist(Regular(6, 0.5, 6.5, name='xaxis', label='b1j(rec)[GeV]'), storage=Weight()) # Sum: WeightedSum(value=829.559, variance=154.102)"
      ]
     },
     "execution_count": 7,
     "metadata": {},
     "output_type": "execute_result"
    }
   ],
   "source": [
    "b1j_MC_unfolded_ee[\"b1jTUnfResultCor_rebinnedB\"].to_hist()"
   ]
  },
  {
   "cell_type": "code",
   "execution_count": 9,
   "metadata": {},
   "outputs": [
    {
     "data": {
      "text/html": [
       "<html>\n",
       "<div style=\"display:flex; align-items:center;\">\n",
       "<div style=\"width:290px;\">\n",
       "<svg xmlns=\"http://www.w3.org/2000/svg\" viewBox=\"-10 -105 270 120\">\n",
       "<line x1=\"-5\" y1=\"0\" x2=\"255\" y2=\"0\" style=\"fill:none;stroke-width:2;stroke:currentColor\"/>\n",
       "<text text-anchor=\"middle\" x=\"0\" y=\"15\" style=\"fill:currentColor;\">\n",
       "0.5\n",
       "</text>\n",
       "<text text-anchor=\"middle\" x=\"250\" y=\"15\" style=\"fill:currentColor;\">\n",
       "6.5\n",
       "</text>\n",
       "<text text-anchor=\"middle\" x=\"125.0\" y=\"15\" style=\"fill:currentColor;\">\n",
       "b1j(rec)[GeV]\n",
       "</text>\n",
       "<polyline points=\"  0,0   0,-95.3 41.6667,-95.3 41.6667,-98.9 83.3333,-98.9 83.3333,-100 125,-100 125,-100 166.667,-100 166.667,-98.9 208.333,-98.9 208.333,-95.3 250,-95.3 250,0\" style=\"fill:none; stroke:currentColor;\"/>\n",
       "</svg>\n",
       "</div>\n",
       "<div style=\"flex=grow:1;\">\n",
       "Regular(6, 0.5, 6.5, name='xaxis', label='b1j(rec)[GeV]')<br/>\n",
       "<hr style=\"margin-top:.2em; margin-bottom:.2em;\"/>\n",
       "Weight() Σ=WeightedSum(value=830.339, variance=34.1268)\n",
       "\n",
       "</div>\n",
       "</div>\n",
       "</html>"
      ],
      "text/plain": [
       "Hist(Regular(6, 0.5, 6.5, name='xaxis', label='b1j(rec)[GeV]'), storage=Weight()) # Sum: WeightedSum(value=830.339, variance=34.1268)"
      ]
     },
     "execution_count": 9,
     "metadata": {},
     "output_type": "execute_result"
    }
   ],
   "source": [
    "b1j_MC_unfolded_emu[\"b1jTUnfResultCor_rebinnedB\"].to_hist()"
   ]
  },
  {
   "cell_type": "code",
   "execution_count": 10,
   "metadata": {},
   "outputs": [
    {
     "data": {
      "text/html": [
       "<html>\n",
       "<div style=\"display:flex; align-items:center;\">\n",
       "<div style=\"width:290px;\">\n",
       "<svg xmlns=\"http://www.w3.org/2000/svg\" viewBox=\"-10 -105 270 120\">\n",
       "<line x1=\"-5\" y1=\"0\" x2=\"255\" y2=\"0\" style=\"fill:none;stroke-width:2;stroke:currentColor\"/>\n",
       "<text text-anchor=\"middle\" x=\"0\" y=\"15\" style=\"fill:currentColor;\">\n",
       "0.5\n",
       "</text>\n",
       "<text text-anchor=\"middle\" x=\"250\" y=\"15\" style=\"fill:currentColor;\">\n",
       "6.5\n",
       "</text>\n",
       "<text text-anchor=\"middle\" x=\"125.0\" y=\"15\" style=\"fill:currentColor;\">\n",
       "b1j(rec)[GeV]\n",
       "</text>\n",
       "<polyline points=\"  0,0   0,-96.7 41.6667,-96.7 41.6667,-99.1 83.3333,-99.1 83.3333,-100 125,-100 125,-100 166.667,-100 166.667,-99.1 208.333,-99.1 208.333,-96.7 250,-96.7 250,0\" style=\"fill:none; stroke:currentColor;\"/>\n",
       "</svg>\n",
       "</div>\n",
       "<div style=\"flex=grow:1;\">\n",
       "Regular(6, 0.5, 6.5, name='xaxis', label='b1j(rec)[GeV]')<br/>\n",
       "<hr style=\"margin-top:.2em; margin-bottom:.2em;\"/>\n",
       "Weight() Σ=WeightedSum(value=830.508, variance=97.1386)\n",
       "\n",
       "</div>\n",
       "</div>\n",
       "</html>"
      ],
      "text/plain": [
       "Hist(Regular(6, 0.5, 6.5, name='xaxis', label='b1j(rec)[GeV]'), storage=Weight()) # Sum: WeightedSum(value=830.508, variance=97.1386)"
      ]
     },
     "execution_count": 10,
     "metadata": {},
     "output_type": "execute_result"
    }
   ],
   "source": [
    "b1j_MC_unfolded_mumu[\"b1jTUnfResultCor_rebinnedB\"].to_hist()"
   ]
  },
  {
   "cell_type": "code",
   "execution_count": 77,
   "metadata": {},
   "outputs": [
    {
     "data": {
      "text/html": [
       "<html>\n",
       "<div style=\"display:flex; align-items:center;\">\n",
       "<div style=\"width:290px;\">\n",
       "<svg xmlns=\"http://www.w3.org/2000/svg\" viewBox=\"-10 -105 270 120\">\n",
       "<line x1=\"-5\" y1=\"0\" x2=\"255\" y2=\"0\" style=\"fill:none;stroke-width:2;stroke:currentColor\"/>\n",
       "<text text-anchor=\"middle\" x=\"0\" y=\"15\" style=\"fill:currentColor;\">\n",
       "0.5\n",
       "</text>\n",
       "<text text-anchor=\"middle\" x=\"250\" y=\"15\" style=\"fill:currentColor;\">\n",
       "24.5\n",
       "</text>\n",
       "<text text-anchor=\"middle\" x=\"125.0\" y=\"15\" style=\"fill:currentColor;\">\n",
       "b1k(rec)[GeV]\n",
       "</text>\n",
       "<polyline points=\"  0,0   0,-100 41.6667,-100 41.6667,-100 83.3333,-100 83.3333,-100 125,-100 125,-100 166.667,-100 166.667,-100 208.333,-100 208.333,-100 250,-100 250,0\" style=\"fill:none; stroke:currentColor;\"/>\n",
       "</svg>\n",
       "</div>\n",
       "<div style=\"flex=grow:1;\">\n",
       "Regular(6, 0.5, 24.5, name='xaxis', label='b1k(rec)[GeV]')<br/>\n",
       "<hr style=\"margin-top:.2em; margin-bottom:.2em;\"/>\n",
       "Weight() Σ=WeightedSum(value=829.635, variance=0.00536876) <em>(WeightedSum(value=829.671, variance=0.0417115) with flow)</em>\n",
       "\n",
       "</div>\n",
       "</div>\n",
       "</html>"
      ],
      "text/plain": [
       "Hist(Regular(6, 0.5, 24.5, name='xaxis', label='b1k(rec)[GeV]'), storage=Weight()) # Sum: WeightedSum(value=829.635, variance=0.00536876) (WeightedSum(value=829.671, variance=0.0417115) with flow)"
      ]
     },
     "execution_count": 77,
     "metadata": {},
     "output_type": "execute_result"
    }
   ],
   "source": [
    "b1k_MC_unfolded[\"b1kTheoryXsec\"].to_hist()"
   ]
  },
  {
   "cell_type": "code",
   "execution_count": 11,
   "metadata": {
    "collapsed": true
   },
   "outputs": [],
   "source": [
    "MC_unf_result_ee    = b1j_MC_unfolded_ee[\"b1jTUnfResultCor_rebinnedB\"].to_numpy()[0]\n",
    "MC_theory_pred_ee   = b1j_MC_unfolded_ee[\"b1jTheoryXsec\"].to_numpy()[0] \n",
    "\n",
    "MC_unf_result_emu   = b1j_MC_unfolded_emu[\"b1jTUnfResultCor_rebinnedB\"].to_numpy()[0]\n",
    "MC_theory_pred_emu  = b1j_MC_unfolded_emu[\"b1jTheoryXsec\"].to_numpy()[0] \n",
    "\n",
    "MC_unf_result_mumu  = b1j_MC_unfolded_mumu[\"b1jTUnfResultCor_rebinnedB\"].to_numpy()[0]\n",
    "MC_theory_pred_mumu = b1j_MC_unfolded_mumu[\"b1jTheoryXsec\"].to_numpy()[0] "
   ]
  },
  {
   "cell_type": "code",
   "execution_count": 12,
   "metadata": {},
   "outputs": [
    {
     "data": {
      "text/plain": [
       "<matplotlib.legend.Legend at 0x7f0de6616bf0>"
      ]
     },
     "execution_count": 12,
     "metadata": {},
     "output_type": "execute_result"
    },
    {
     "data": {
      "image/png": "[encoded data removed]",
      "text/plain": [
       "<Figure size 640x480 with 1 Axes>"
      ]
     },
     "metadata": {},
     "output_type": "display_data"
    }
   ],
   "source": [
    "plt.plot(np.divide(MC_theory_pred_ee  , MC_unf_result_ee)  , label = \"ee\")\n",
    "plt.plot(np.divide(MC_theory_pred_emu , MC_unf_result_emu) , label = \"emu\")\n",
    "plt.plot(np.divide(MC_theory_pred_mumu, MC_unf_result_mumu), label = \"mumu\")\n",
    "plt.ylabel(\"Theory / Unfolded\")\n",
    "plt.xlabel(\"Bins\")\n",
    "plt.ylim(0.96,1.04)\n",
    "plt.legend()"
   ]
  },
  {
   "cell_type": "code",
   "execution_count": null,
   "metadata": {
    "collapsed": true
   },
   "outputs": [],
   "source": []
  }
 ],
 "metadata": {
  "kernelspec": {
   "display_name": "Python [conda env: venv]",
   "language": "python",
   "name": "conda-env-venv-py"
  },
  "language_info": {
   "codemirror_mode": {
    "name": "ipython",
    "version": 3
   },
   "file_extension": ".py",
   "mimetype": "text/x-python",
   "name": "python",
   "nbconvert_exporter": "python",
   "pygments_lexer": "ipython3",
   "version": "3.10.6"
  }
 },
 "nbformat": 4,
 "nbformat_minor": 2
}
