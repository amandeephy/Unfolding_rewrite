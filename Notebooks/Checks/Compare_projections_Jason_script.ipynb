{
 "cells": [
  {
   "cell_type": "code",
   "execution_count": 3,
   "metadata": {
    "scrolled": true
   },
   "outputs": [],
   "source": [
    "import ROOT\n",
    "import uproot \n",
    "import numpy as np\n",
    "import matplotlib.pyplot as plt"
   ]
  },
  {
   "cell_type": "code",
   "execution_count": 4,
   "metadata": {
    "collapsed": true
   },
   "outputs": [],
   "source": [
    "BASE_DIR = \"/depot/cms/top/bakshi3/TopSpinCorr_Run2_generalized_ND/CMSSW_10_6_30/src/TopAnalysis/Configuration/analysis/diLeptonic/UnfoldingHistos_2016preVFP/Nominal/ee/\""
   ]
  },
  {
   "cell_type": "code",
   "execution_count": 6,
   "metadata": {
    "collapsed": true
   },
   "outputs": [],
   "source": [
    "Unfolding_histo_fileptr = uproot.open(BASE_DIR + \"histosTUnfold_ee_ttbarsignalplustau_fromDilepton_2016ULpreVFP.root\")"
   ]
  },
  {
   "cell_type": "code",
   "execution_count": 7,
   "metadata": {},
   "outputs": [
    {
     "data": {
      "text/plain": [
       "['hrecoVsgen_ll_cHel;1',\n",
       " 'hgen_ll_cHel;1',\n",
       " 'hreco_ll_cHel;1',\n",
       " 'hresolutionbins_ll_cHel;1',\n",
       " 'hrecoVsgen_ll_cLab;1',\n",
       " 'hgen_ll_cLab;1',\n",
       " 'hreco_ll_cLab;1',\n",
       " 'hresolutionbins_ll_cLab;1',\n",
       " 'hrecoVsgen_llbar_delta_phi;1',\n",
       " 'hgen_llbar_delta_phi;1',\n",
       " 'hreco_llbar_delta_phi;1',\n",
       " 'hresolutionbins_llbar_delta_phi;1',\n",
       " 'hrecoVsgen_llbar_delta_eta;1',\n",
       " 'hgen_llbar_delta_eta;1',\n",
       " 'hreco_llbar_delta_eta;1',\n",
       " 'hresolutionbins_llbar_delta_eta;1',\n",
       " 'hrecoVsgen_b1k;1',\n",
       " 'hgen_b1k;1',\n",
       " 'hreco_b1k;1',\n",
       " 'hresolutionbins_b1k;1',\n",
       " 'hrecoVsgen_b2k;1',\n",
       " 'hgen_b2k;1',\n",
       " 'hreco_b2k;1',\n",
       " 'hresolutionbins_b2k;1',\n",
       " 'hrecoVsgen_b1r;1',\n",
       " 'hgen_b1r;1',\n",
       " 'hreco_b1r;1',\n",
       " 'hresolutionbins_b1r;1',\n",
       " 'hrecoVsgen_b2r;1',\n",
       " 'hgen_b2r;1',\n",
       " 'hreco_b2r;1',\n",
       " 'hresolutionbins_b2r;1',\n",
       " 'hrecoVsgen_b1n;1',\n",
       " 'hgen_b1n;1',\n",
       " 'hreco_b1n;1',\n",
       " 'hresolutionbins_b1n;1',\n",
       " 'hrecoVsgen_b2n;1',\n",
       " 'hgen_b2n;1',\n",
       " 'hreco_b2n;1',\n",
       " 'hresolutionbins_b2n;1',\n",
       " 'hrecoVsgen_b1j;1',\n",
       " 'hgen_b1j;1',\n",
       " 'hreco_b1j;1',\n",
       " 'hresolutionbins_b1j;1',\n",
       " 'hrecoVsgen_b2j;1',\n",
       " 'hgen_b2j;1',\n",
       " 'hreco_b2j;1',\n",
       " 'hresolutionbins_b2j;1',\n",
       " 'hrecoVsgen_b1q;1',\n",
       " 'hgen_b1q;1',\n",
       " 'hreco_b1q;1',\n",
       " 'hresolutionbins_b1q;1',\n",
       " 'hrecoVsgen_b2q;1',\n",
       " 'hgen_b2q;1',\n",
       " 'hreco_b2q;1',\n",
       " 'hresolutionbins_b2q;1',\n",
       " 'hrecoVsgen_c_kk;1',\n",
       " 'hgen_c_kk;1',\n",
       " 'hreco_c_kk;1',\n",
       " 'hresolutionbins_c_kk;1',\n",
       " 'hrecoVsgen_c_rr;1',\n",
       " 'hgen_c_rr;1',\n",
       " 'hreco_c_rr;1',\n",
       " 'hresolutionbins_c_rr;1',\n",
       " 'hrecoVsgen_c_nn;1',\n",
       " 'hgen_c_nn;1',\n",
       " 'hreco_c_nn;1',\n",
       " 'hresolutionbins_c_nn;1',\n",
       " 'hrecoVsgen_c_kj;1',\n",
       " 'hgen_c_kj;1',\n",
       " 'hreco_c_kj;1',\n",
       " 'hresolutionbins_c_kj;1',\n",
       " 'hrecoVsgen_c_Prk;1',\n",
       " 'hgen_c_Prk;1',\n",
       " 'hreco_c_Prk;1',\n",
       " 'hresolutionbins_c_Prk;1',\n",
       " 'hrecoVsgen_c_Mrk;1',\n",
       " 'hgen_c_Mrk;1',\n",
       " 'hreco_c_Mrk;1',\n",
       " 'hresolutionbins_c_Mrk;1',\n",
       " 'hrecoVsgen_c_Pnr;1',\n",
       " 'hgen_c_Pnr;1',\n",
       " 'hreco_c_Pnr;1',\n",
       " 'hresolutionbins_c_Pnr;1',\n",
       " 'hrecoVsgen_c_Mnr;1',\n",
       " 'hgen_c_Mnr;1',\n",
       " 'hreco_c_Mnr;1',\n",
       " 'hresolutionbins_c_Mnr;1',\n",
       " 'hrecoVsgen_c_Pnk;1',\n",
       " 'hgen_c_Pnk;1',\n",
       " 'hreco_c_Pnk;1',\n",
       " 'hresolutionbins_c_Pnk;1',\n",
       " 'hrecoVsgen_c_Mnk;1',\n",
       " 'hgen_c_Mnk;1',\n",
       " 'hreco_c_Mnk;1',\n",
       " 'hresolutionbins_c_Mnk;1',\n",
       " 'hrecoVsgen_ll_cHel_ttbar_mass;1',\n",
       " 'hgen_ll_cHel_ttbar_mass;1',\n",
       " 'hreco_ll_cHel_ttbar_mass;1',\n",
       " 'hrecoVsgen_ll_cLab_ttbar_mass;1',\n",
       " 'hgen_ll_cLab_ttbar_mass;1',\n",
       " 'hreco_ll_cLab_ttbar_mass;1',\n",
       " 'hrecoVsgen_llbar_delta_phi_ttbar_mass;1',\n",
       " 'hgen_llbar_delta_phi_ttbar_mass;1',\n",
       " 'hreco_llbar_delta_phi_ttbar_mass;1',\n",
       " 'hrecoVsgen_llbar_delta_eta_ttbar_mass;1',\n",
       " 'hgen_llbar_delta_eta_ttbar_mass;1',\n",
       " 'hreco_llbar_delta_eta_ttbar_mass;1',\n",
       " 'hrecoVsgen_b1k_ttbar_mass;1',\n",
       " 'hgen_b1k_ttbar_mass;1',\n",
       " 'hreco_b1k_ttbar_mass;1',\n",
       " 'hrecoVsgen_b2k_ttbar_mass;1',\n",
       " 'hgen_b2k_ttbar_mass;1',\n",
       " 'hreco_b2k_ttbar_mass;1',\n",
       " 'hrecoVsgen_b1r_ttbar_mass;1',\n",
       " 'hgen_b1r_ttbar_mass;1',\n",
       " 'hreco_b1r_ttbar_mass;1',\n",
       " 'hrecoVsgen_b2r_ttbar_mass;1',\n",
       " 'hgen_b2r_ttbar_mass;1',\n",
       " 'hreco_b2r_ttbar_mass;1',\n",
       " 'hrecoVsgen_b1n_ttbar_mass;1',\n",
       " 'hgen_b1n_ttbar_mass;1',\n",
       " 'hreco_b1n_ttbar_mass;1',\n",
       " 'hrecoVsgen_b2n_ttbar_mass;1',\n",
       " 'hgen_b2n_ttbar_mass;1',\n",
       " 'hreco_b2n_ttbar_mass;1',\n",
       " 'hrecoVsgen_b1j_ttbar_mass;1',\n",
       " 'hgen_b1j_ttbar_mass;1',\n",
       " 'hreco_b1j_ttbar_mass;1',\n",
       " 'hrecoVsgen_b2j_ttbar_mass;1',\n",
       " 'hgen_b2j_ttbar_mass;1',\n",
       " 'hreco_b2j_ttbar_mass;1',\n",
       " 'hrecoVsgen_b1q_ttbar_mass;1',\n",
       " 'hgen_b1q_ttbar_mass;1',\n",
       " 'hreco_b1q_ttbar_mass;1',\n",
       " 'hrecoVsgen_b2q_ttbar_mass;1',\n",
       " 'hgen_b2q_ttbar_mass;1',\n",
       " 'hreco_b2q_ttbar_mass;1',\n",
       " 'hrecoVsgen_c_kk_ttbar_mass;1',\n",
       " 'hgen_c_kk_ttbar_mass;1',\n",
       " 'hreco_c_kk_ttbar_mass;1',\n",
       " 'hrecoVsgen_c_rr_ttbar_mass;1',\n",
       " 'hgen_c_rr_ttbar_mass;1',\n",
       " 'hreco_c_rr_ttbar_mass;1',\n",
       " 'hrecoVsgen_c_nn_ttbar_mass;1',\n",
       " 'hgen_c_nn_ttbar_mass;1',\n",
       " 'hreco_c_nn_ttbar_mass;1',\n",
       " 'hrecoVsgen_c_kj_ttbar_mass;1',\n",
       " 'hgen_c_kj_ttbar_mass;1',\n",
       " 'hreco_c_kj_ttbar_mass;1',\n",
       " 'hrecoVsgen_c_Prk_ttbar_mass;1',\n",
       " 'hgen_c_Prk_ttbar_mass;1',\n",
       " 'hreco_c_Prk_ttbar_mass;1',\n",
       " 'hrecoVsgen_c_Mrk_ttbar_mass;1',\n",
       " 'hgen_c_Mrk_ttbar_mass;1',\n",
       " 'hreco_c_Mrk_ttbar_mass;1',\n",
       " 'hrecoVsgen_c_Pnr_ttbar_mass;1',\n",
       " 'hgen_c_Pnr_ttbar_mass;1',\n",
       " 'hreco_c_Pnr_ttbar_mass;1',\n",
       " 'hrecoVsgen_c_Mnr_ttbar_mass;1',\n",
       " 'hgen_c_Mnr_ttbar_mass;1',\n",
       " 'hreco_c_Mnr_ttbar_mass;1',\n",
       " 'hrecoVsgen_c_Pnk_ttbar_mass;1',\n",
       " 'hgen_c_Pnk_ttbar_mass;1',\n",
       " 'hreco_c_Pnk_ttbar_mass;1',\n",
       " 'hrecoVsgen_c_Mnk_ttbar_mass;1',\n",
       " 'hgen_c_Mnk_ttbar_mass;1',\n",
       " 'hreco_c_Mnk_ttbar_mass;1',\n",
       " 'hrecoVsgen_ll_cHel_top_scatteringangle_ttbarframe;1',\n",
       " 'hgen_ll_cHel_top_scatteringangle_ttbarframe;1',\n",
       " 'hreco_ll_cHel_top_scatteringangle_ttbarframe;1',\n",
       " 'hrecoVsgen_ll_cLab_top_scatteringangle_ttbarframe;1',\n",
       " 'hgen_ll_cLab_top_scatteringangle_ttbarframe;1',\n",
       " 'hreco_ll_cLab_top_scatteringangle_ttbarframe;1',\n",
       " 'hrecoVsgen_llbar_delta_phi_top_scatteringangle_ttbarframe;1',\n",
       " 'hgen_llbar_delta_phi_top_scatteringangle_ttbarframe;1',\n",
       " 'hreco_llbar_delta_phi_top_scatteringangle_ttbarframe;1',\n",
       " 'hrecoVsgen_llbar_delta_eta_top_scatteringangle_ttbarframe;1',\n",
       " 'hgen_llbar_delta_eta_top_scatteringangle_ttbarframe;1',\n",
       " 'hreco_llbar_delta_eta_top_scatteringangle_ttbarframe;1',\n",
       " 'hrecoVsgen_b1k_top_scatteringangle_ttbarframe;1',\n",
       " 'hgen_b1k_top_scatteringangle_ttbarframe;1',\n",
       " 'hreco_b1k_top_scatteringangle_ttbarframe;1',\n",
       " 'hrecoVsgen_b2k_top_scatteringangle_ttbarframe;1',\n",
       " 'hgen_b2k_top_scatteringangle_ttbarframe;1',\n",
       " 'hreco_b2k_top_scatteringangle_ttbarframe;1',\n",
       " 'hrecoVsgen_b1r_top_scatteringangle_ttbarframe;1',\n",
       " 'hgen_b1r_top_scatteringangle_ttbarframe;1',\n",
       " 'hreco_b1r_top_scatteringangle_ttbarframe;1',\n",
       " 'hrecoVsgen_b2r_top_scatteringangle_ttbarframe;1',\n",
       " 'hgen_b2r_top_scatteringangle_ttbarframe;1',\n",
       " 'hreco_b2r_top_scatteringangle_ttbarframe;1',\n",
       " 'hrecoVsgen_b1n_top_scatteringangle_ttbarframe;1',\n",
       " 'hgen_b1n_top_scatteringangle_ttbarframe;1',\n",
       " 'hreco_b1n_top_scatteringangle_ttbarframe;1',\n",
       " 'hrecoVsgen_b2n_top_scatteringangle_ttbarframe;1',\n",
       " 'hgen_b2n_top_scatteringangle_ttbarframe;1',\n",
       " 'hreco_b2n_top_scatteringangle_ttbarframe;1',\n",
       " 'hrecoVsgen_b1j_top_scatteringangle_ttbarframe;1',\n",
       " 'hgen_b1j_top_scatteringangle_ttbarframe;1',\n",
       " 'hreco_b1j_top_scatteringangle_ttbarframe;1',\n",
       " 'hrecoVsgen_b2j_top_scatteringangle_ttbarframe;1',\n",
       " 'hgen_b2j_top_scatteringangle_ttbarframe;1',\n",
       " 'hreco_b2j_top_scatteringangle_ttbarframe;1',\n",
       " 'hrecoVsgen_b1q_top_scatteringangle_ttbarframe;1',\n",
       " 'hgen_b1q_top_scatteringangle_ttbarframe;1',\n",
       " 'hreco_b1q_top_scatteringangle_ttbarframe;1',\n",
       " 'hrecoVsgen_b2q_top_scatteringangle_ttbarframe;1',\n",
       " 'hgen_b2q_top_scatteringangle_ttbarframe;1',\n",
       " 'hreco_b2q_top_scatteringangle_ttbarframe;1',\n",
       " 'hrecoVsgen_c_kk_top_scatteringangle_ttbarframe;1',\n",
       " 'hgen_c_kk_top_scatteringangle_ttbarframe;1',\n",
       " 'hreco_c_kk_top_scatteringangle_ttbarframe;1',\n",
       " 'hrecoVsgen_c_rr_top_scatteringangle_ttbarframe;1',\n",
       " 'hgen_c_rr_top_scatteringangle_ttbarframe;1',\n",
       " 'hreco_c_rr_top_scatteringangle_ttbarframe;1',\n",
       " 'hrecoVsgen_c_nn_top_scatteringangle_ttbarframe;1',\n",
       " 'hgen_c_nn_top_scatteringangle_ttbarframe;1',\n",
       " 'hreco_c_nn_top_scatteringangle_ttbarframe;1',\n",
       " 'hrecoVsgen_c_kj_top_scatteringangle_ttbarframe;1',\n",
       " 'hgen_c_kj_top_scatteringangle_ttbarframe;1',\n",
       " 'hreco_c_kj_top_scatteringangle_ttbarframe;1',\n",
       " 'hrecoVsgen_c_Prk_top_scatteringangle_ttbarframe;1',\n",
       " 'hgen_c_Prk_top_scatteringangle_ttbarframe;1',\n",
       " 'hreco_c_Prk_top_scatteringangle_ttbarframe;1',\n",
       " 'hrecoVsgen_c_Mrk_top_scatteringangle_ttbarframe;1',\n",
       " 'hgen_c_Mrk_top_scatteringangle_ttbarframe;1',\n",
       " 'hreco_c_Mrk_top_scatteringangle_ttbarframe;1',\n",
       " 'hrecoVsgen_c_Pnr_top_scatteringangle_ttbarframe;1',\n",
       " 'hgen_c_Pnr_top_scatteringangle_ttbarframe;1',\n",
       " 'hreco_c_Pnr_top_scatteringangle_ttbarframe;1',\n",
       " 'hrecoVsgen_c_Mnr_top_scatteringangle_ttbarframe;1',\n",
       " 'hgen_c_Mnr_top_scatteringangle_ttbarframe;1',\n",
       " 'hreco_c_Mnr_top_scatteringangle_ttbarframe;1',\n",
       " 'hrecoVsgen_c_Pnk_top_scatteringangle_ttbarframe;1',\n",
       " 'hgen_c_Pnk_top_scatteringangle_ttbarframe;1',\n",
       " 'hreco_c_Pnk_top_scatteringangle_ttbarframe;1',\n",
       " 'hrecoVsgen_c_Mnk_top_scatteringangle_ttbarframe;1',\n",
       " 'hgen_c_Mnk_top_scatteringangle_ttbarframe;1',\n",
       " 'hreco_c_Mnk_top_scatteringangle_ttbarframe;1']"
      ]
     },
     "execution_count": 7,
     "metadata": {},
     "output_type": "execute_result"
    }
   ],
   "source": [
    "Unfolding_histo_fileptr.keys()"
   ]
  },
  {
   "cell_type": "markdown",
   "metadata": {},
   "source": [
    "### Project out the axes"
   ]
  },
  {
   "cell_type": "code",
   "execution_count": 32,
   "metadata": {},
   "outputs": [
    {
     "data": {
      "text/html": [
       "<html>\n",
       "<div style=\"display:flex; align-items:center;\">\n",
       "<div style=\"width:290px;\">\n",
       "<svg xmlns=\"http://www.w3.org/2000/svg\" viewBox=\"-20 -270 290 290\">\n",
       "<text text-anchor=\"middle\" x=\"0\" y=\"13\" style=\"fill:currentColor;\">\n",
       "-1\n",
       "</text>\n",
       "<text text-anchor=\"middle\" x=\"250\" y=\"13\" style=\"fill:currentColor;\">\n",
       "1\n",
       "</text>\n",
       "<text text-anchor=\"middle\" x=\"-10\" y=\"0\" style=\"fill:currentColor;\">\n",
       "-1\n",
       "</text>\n",
       "<text text-anchor=\"middle\" x=\"-10\" y=\"-250\" style=\"fill:currentColor;\">\n",
       "1\n",
       "</text>\n",
       "<text text-anchor=\"middle\" x=\"125.0\" y=\"13\" style=\"fill:currentColor;\">\n",
       "xaxis\n",
       "</text>\n",
       "<text text-anchor=\"middle\" x=\"-10\" y=\"-125.0\" transform=\"rotate(-90,-10,-125.0)\" style=\"fill:currentColor;\">\n",
       "yaxis\n",
       "</text>\n",
       "<rect x=\"0.0\" y=\"-41.66666666666666\" width=\"41.667\" height=\"41.667\" opacity=\"0.050252222978599694\" fill=\"currentColor\" stroke-width=\"0.1\"/>\n",
       "<rect x=\"41.66666666666666\" y=\"-41.66666666666666\" width=\"41.667\" height=\"41.667\" opacity=\"0.0694537201875742\" fill=\"currentColor\" stroke-width=\"0.1\"/>\n",
       "<rect x=\"83.33333333333331\" y=\"-41.66666666666666\" width=\"41.667\" height=\"41.667\" opacity=\"0.05335887319845743\" fill=\"currentColor\" stroke-width=\"0.1\"/>\n",
       "<rect x=\"125.0\" y=\"-41.66666666666666\" width=\"41.667\" height=\"41.667\" opacity=\"0.025624949006636564\" fill=\"currentColor\" stroke-width=\"0.1\"/>\n",
       "<rect x=\"166.66666666666666\" y=\"-41.66666666666666\" width=\"41.667\" height=\"41.667\" opacity=\"0.0035593851398133917\" fill=\"currentColor\" stroke-width=\"0.1\"/>\n",
       "<rect x=\"208.33333333333334\" y=\"-41.66666666666666\" width=\"41.667\" height=\"41.667\" opacity=\"0.00026591017027370926\" fill=\"currentColor\" stroke-width=\"0.1\"/>\n",
       "<rect x=\"0.0\" y=\"-83.33333333333331\" width=\"41.667\" height=\"41.667\" opacity=\"0.042038984556415464\" fill=\"currentColor\" stroke-width=\"0.1\"/>\n",
       "<rect x=\"41.66666666666666\" y=\"-83.33333333333331\" width=\"41.667\" height=\"41.667\" opacity=\"0.23855028434120373\" fill=\"currentColor\" stroke-width=\"0.1\"/>\n",
       "<rect x=\"83.33333333333331\" y=\"-83.33333333333331\" width=\"41.667\" height=\"41.667\" opacity=\"0.283985076034069\" fill=\"currentColor\" stroke-width=\"0.1\"/>\n",
       "<rect x=\"125.0\" y=\"-83.33333333333331\" width=\"41.667\" height=\"41.667\" opacity=\"0.11370865477729508\" fill=\"currentColor\" stroke-width=\"0.1\"/>\n",
       "<rect x=\"166.66666666666666\" y=\"-83.33333333333331\" width=\"41.667\" height=\"41.667\" opacity=\"0.01659517928463357\" fill=\"currentColor\" stroke-width=\"0.1\"/>\n",
       "<rect x=\"208.33333333333334\" y=\"-83.33333333333331\" width=\"41.667\" height=\"41.667\" opacity=\"0.001604367775170933\" fill=\"currentColor\" stroke-width=\"0.1\"/>\n",
       "<rect x=\"0.0\" y=\"-125.0\" width=\"41.667\" height=\"41.667\" opacity=\"0.017654653516363444\" fill=\"currentColor\" stroke-width=\"0.1\"/>\n",
       "<rect x=\"41.66666666666666\" y=\"-125.0\" width=\"41.667\" height=\"41.667\" opacity=\"0.17301914586541167\" fill=\"currentColor\" stroke-width=\"0.1\"/>\n",
       "<rect x=\"83.33333333333331\" y=\"-125.0\" width=\"41.667\" height=\"41.667\" opacity=\"1.0\" fill=\"currentColor\" stroke-width=\"0.1\"/>\n",
       "<rect x=\"125.0\" y=\"-125.0\" width=\"41.667\" height=\"41.667\" opacity=\"0.6222084552860452\" fill=\"currentColor\" stroke-width=\"0.1\"/>\n",
       "<rect x=\"166.66666666666666\" y=\"-125.0\" width=\"41.667\" height=\"41.667\" opacity=\"0.07608657102065466\" fill=\"currentColor\" stroke-width=\"0.1\"/>\n",
       "<rect x=\"208.33333333333334\" y=\"-125.0\" width=\"41.667\" height=\"41.667\" opacity=\"0.009153360466020057\" fill=\"currentColor\" stroke-width=\"0.1\"/>\n",
       "<rect x=\"0.0\" y=\"-166.66666666666666\" width=\"41.667\" height=\"41.667\" opacity=\"0.0079016619032497\" fill=\"currentColor\" stroke-width=\"0.1\"/>\n",
       "<rect x=\"41.66666666666666\" y=\"-166.66666666666666\" width=\"41.667\" height=\"41.667\" opacity=\"0.05528201828653678\" fill=\"currentColor\" stroke-width=\"0.1\"/>\n",
       "<rect x=\"83.33333333333331\" y=\"-166.66666666666666\" width=\"41.667\" height=\"41.667\" opacity=\"0.5215263305265012\" fill=\"currentColor\" stroke-width=\"0.1\"/>\n",
       "<rect x=\"125.0\" y=\"-166.66666666666666\" width=\"41.667\" height=\"41.667\" opacity=\"0.9239476876645004\" fill=\"currentColor\" stroke-width=\"0.1\"/>\n",
       "<rect x=\"166.66666666666666\" y=\"-166.66666666666666\" width=\"41.667\" height=\"41.667\" opacity=\"0.21053787912843897\" fill=\"currentColor\" stroke-width=\"0.1\"/>\n",
       "<rect x=\"208.33333333333334\" y=\"-166.66666666666666\" width=\"41.667\" height=\"41.667\" opacity=\"0.02392297676314356\" fill=\"currentColor\" stroke-width=\"0.1\"/>\n",
       "<rect x=\"0.0\" y=\"-208.33333333333334\" width=\"41.667\" height=\"41.667\" opacity=\"0.0013137001126540227\" fill=\"currentColor\" stroke-width=\"0.1\"/>\n",
       "<rect x=\"41.66666666666666\" y=\"-208.33333333333334\" width=\"41.667\" height=\"41.667\" opacity=\"0.012072860293077085\" fill=\"currentColor\" stroke-width=\"0.1\"/>\n",
       "<rect x=\"83.33333333333331\" y=\"-208.33333333333334\" width=\"41.667\" height=\"41.667\" opacity=\"0.08722282435709361\" fill=\"currentColor\" stroke-width=\"0.1\"/>\n",
       "<rect x=\"125.0\" y=\"-208.33333333333334\" width=\"41.667\" height=\"41.667\" opacity=\"0.20912907516396595\" fill=\"currentColor\" stroke-width=\"0.1\"/>\n",
       "<rect x=\"166.66666666666666\" y=\"-208.33333333333334\" width=\"41.667\" height=\"41.667\" opacity=\"0.17133304832523907\" fill=\"currentColor\" stroke-width=\"0.1\"/>\n",
       "<rect x=\"208.33333333333334\" y=\"-208.33333333333334\" width=\"41.667\" height=\"41.667\" opacity=\"0.039887953515117376\" fill=\"currentColor\" stroke-width=\"0.1\"/>\n",
       "<rect x=\"0.0\" y=\"-250.0\" width=\"41.667\" height=\"41.667\" opacity=\"0.0001735898840003338\" fill=\"currentColor\" stroke-width=\"0.1\"/>\n",
       "<rect x=\"41.66666666666666\" y=\"-250.0\" width=\"41.667\" height=\"41.667\" opacity=\"0.0019600804701009602\" fill=\"currentColor\" stroke-width=\"0.1\"/>\n",
       "<rect x=\"83.33333333333331\" y=\"-250.0\" width=\"41.667\" height=\"41.667\" opacity=\"0.01707446675504875\" fill=\"currentColor\" stroke-width=\"0.1\"/>\n",
       "<rect x=\"125.0\" y=\"-250.0\" width=\"41.667\" height=\"41.667\" opacity=\"0.04184964612758168\" fill=\"currentColor\" stroke-width=\"0.1\"/>\n",
       "<rect x=\"166.66666666666666\" y=\"-250.0\" width=\"41.667\" height=\"41.667\" opacity=\"0.04096312445082777\" fill=\"currentColor\" stroke-width=\"0.1\"/>\n",
       "<rect x=\"208.33333333333334\" y=\"-250.0\" width=\"41.667\" height=\"41.667\" opacity=\"0.027789032243372373\" fill=\"currentColor\" stroke-width=\"0.1\"/>\n",
       "</svg>\n",
       "</div>\n",
       "<div style=\"flex=grow:1;\">\n",
       "Regular(6, -1, 1, name='xaxis')<br/>\n",
       "Regular(6, -1, 1, name='yaxis')<br/>\n",
       "<hr style=\"margin-top:.2em; margin-bottom:.2em;\"/>\n",
       "Weight() Σ=WeightedSum(value=2.51549e+07, variance=1.72752e+09) <em>(WeightedSum(value=1.20222e+09, variance=8.92009e+10) with flow)</em>\n",
       "\n",
       "</div>\n",
       "</div>\n",
       "</html>"
      ],
      "text/plain": [
       "Hist(\n",
       "  Regular(6, -1, 1, name='xaxis'),\n",
       "  Regular(6, -1, 1, name='yaxis'),\n",
       "  storage=Weight()) # Sum: WeightedSum(value=2.51549e+07, variance=1.72752e+09) (WeightedSum(value=1.20222e+09, variance=8.92009e+10) with flow)"
      ]
     },
     "execution_count": 32,
     "metadata": {},
     "output_type": "execute_result"
    }
   ],
   "source": [
    "Unfolding_histo_fileptr[\"hrecoVsgen_c_kk\"].to_hist()"
   ]
  },
  {
   "cell_type": "code",
   "execution_count": 33,
   "metadata": {},
   "outputs": [
    {
     "data": {
      "text/html": [
       "<html>\n",
       "<div style=\"display:flex; align-items:center;\">\n",
       "<div style=\"width:290px;\">\n",
       "<svg xmlns=\"http://www.w3.org/2000/svg\" viewBox=\"-10 -105 270 120\">\n",
       "<line x1=\"-5\" y1=\"0\" x2=\"255\" y2=\"0\" style=\"fill:none;stroke-width:2;stroke:currentColor\"/>\n",
       "<text text-anchor=\"middle\" x=\"0\" y=\"15\" style=\"fill:currentColor;\">\n",
       "-1\n",
       "</text>\n",
       "<text text-anchor=\"middle\" x=\"250\" y=\"15\" style=\"fill:currentColor;\">\n",
       "1\n",
       "</text>\n",
       "<text text-anchor=\"middle\" x=\"125.0\" y=\"15\" style=\"fill:currentColor;\">\n",
       "xaxis\n",
       "</text>\n",
       "<polyline points=\"  0,0   0,-10.7 41.6667,-10.7 41.6667,-37.4 83.3333,-37.4 83.3333,-100 125,-100 125,-92.4 166.667,-92.4 166.667,-27.9 208.333,-27.9 208.333,-6.59 250,-6.59 250,0\" style=\"fill:none; stroke:currentColor;\"/>\n",
       "</svg>\n",
       "</div>\n",
       "<div style=\"flex=grow:1;\">\n",
       "Regular(6, -1, 1, name='xaxis')<br/>\n",
       "<hr style=\"margin-top:.2em; margin-bottom:.2em;\"/>\n",
       "Weight() Σ=WeightedSum(value=1.20222e+09, variance=8.92009e+10)\n",
       "\n",
       "</div>\n",
       "</div>\n",
       "</html>"
      ],
      "text/plain": [
       "Hist(Regular(6, -1, 1, name='xaxis'), storage=Weight()) # Sum: WeightedSum(value=1.20222e+09, variance=8.92009e+10)"
      ]
     },
     "execution_count": 33,
     "metadata": {},
     "output_type": "execute_result"
    }
   ],
   "source": [
    "Unfolding_histo_fileptr[\"hrecoVsgen_c_kk\"].to_hist().project('xaxis')"
   ]
  },
  {
   "cell_type": "code",
   "execution_count": 34,
   "metadata": {},
   "outputs": [
    {
     "data": {
      "text/html": [
       "<html>\n",
       "<div style=\"display:flex; align-items:center;\">\n",
       "<div style=\"width:290px;\">\n",
       "<svg xmlns=\"http://www.w3.org/2000/svg\" viewBox=\"-10 -105 270 120\">\n",
       "<line x1=\"-5\" y1=\"0\" x2=\"255\" y2=\"0\" style=\"fill:none;stroke-width:2;stroke:currentColor\"/>\n",
       "<text text-anchor=\"middle\" x=\"0\" y=\"15\" style=\"fill:currentColor;\">\n",
       "-1\n",
       "</text>\n",
       "<text text-anchor=\"middle\" x=\"250\" y=\"15\" style=\"fill:currentColor;\">\n",
       "1\n",
       "</text>\n",
       "<text text-anchor=\"middle\" x=\"125.0\" y=\"15\" style=\"fill:currentColor;\">\n",
       "yaxis\n",
       "</text>\n",
       "<polyline points=\"  0,0   0,-10.7 41.6667,-10.7 41.6667,-36.7 83.3333,-36.7 83.3333,-100 125,-100 125,-91.8 166.667,-91.8 166.667,-27.4 208.333,-27.4 208.333,-6.84 250,-6.84 250,0\" style=\"fill:none; stroke:currentColor;\"/>\n",
       "</svg>\n",
       "</div>\n",
       "<div style=\"flex=grow:1;\">\n",
       "Regular(6, -1, 1, name='yaxis')<br/>\n",
       "<hr style=\"margin-top:.2em; margin-bottom:.2em;\"/>\n",
       "Weight() Σ=WeightedSum(value=2.51549e+07, variance=1.72752e+09) <em>(WeightedSum(value=1.20222e+09, variance=8.92009e+10) with flow)</em>\n",
       "\n",
       "</div>\n",
       "</div>\n",
       "</html>"
      ],
      "text/plain": [
       "Hist(Regular(6, -1, 1, name='yaxis'), storage=Weight()) # Sum: WeightedSum(value=2.51549e+07, variance=1.72752e+09) (WeightedSum(value=1.20222e+09, variance=8.92009e+10) with flow)"
      ]
     },
     "execution_count": 34,
     "metadata": {},
     "output_type": "execute_result"
    }
   ],
   "source": [
    "Unfolding_histo_fileptr[\"hrecoVsgen_c_kk\"].to_hist().project('yaxis')"
   ]
  },
  {
   "cell_type": "markdown",
   "metadata": {},
   "source": [
    "## Compare bin by bin contents"
   ]
  },
  {
   "cell_type": "markdown",
   "metadata": {},
   "source": [
    "### Gen "
   ]
  },
  {
   "cell_type": "code",
   "execution_count": 35,
   "metadata": {},
   "outputs": [
    {
     "data": {
      "text/plain": [
       "array([4.67535585e+07, 1.63415346e+08, 4.37261665e+08, 4.04115957e+08,\n",
       "       1.21858935e+08, 2.88119747e+07])"
      ]
     },
     "execution_count": 35,
     "metadata": {},
     "output_type": "execute_result"
    }
   ],
   "source": [
    "gen_from_projection = Unfolding_histo_fileptr[\"hrecoVsgen_c_kk\"].to_hist().project('xaxis').to_numpy()[0]\n",
    "gen_from_projection"
   ]
  },
  {
   "cell_type": "code",
   "execution_count": 36,
   "metadata": {},
   "outputs": [
    {
     "data": {
      "text/plain": [
       "array([4.67535585e+07, 1.63415346e+08, 4.37261665e+08, 4.04115957e+08,\n",
       "       1.21858935e+08, 2.88119747e+07])"
      ]
     },
     "execution_count": 36,
     "metadata": {},
     "output_type": "execute_result"
    }
   ],
   "source": [
    "gen_from_histogram = Unfolding_histo_fileptr[\"hgen_c_kk\"].to_numpy()[0]\n",
    "gen_from_histogram"
   ]
  },
  {
   "cell_type": "code",
   "execution_count": 37,
   "metadata": {},
   "outputs": [
    {
     "data": {
      "text/plain": [
       "array([ True,  True, False,  True,  True,  True])"
      ]
     },
     "execution_count": 37,
     "metadata": {},
     "output_type": "execute_result"
    }
   ],
   "source": [
    "gen_from_projection == gen_from_histogram"
   ]
  },
  {
   "cell_type": "code",
   "execution_count": 38,
   "metadata": {},
   "outputs": [
    {
     "data": {
      "text/plain": [
       "array([0.00000000e+00, 0.00000000e+00, 1.36313447e-14, 0.00000000e+00,\n",
       "       0.00000000e+00, 0.00000000e+00])"
      ]
     },
     "execution_count": 38,
     "metadata": {},
     "output_type": "execute_result"
    }
   ],
   "source": [
    "delta_gen = np.divide((gen_from_projection - gen_from_histogram), gen_from_histogram)\n",
    "delta_gen = abs(delta_gen) * 100\n",
    "delta_gen "
   ]
  },
  {
   "cell_type": "code",
   "execution_count": 39,
   "metadata": {},
   "outputs": [
    {
     "data": {
      "text/plain": [
       "<matplotlib.legend.Legend at 0x7fbcc92a7f70>"
      ]
     },
     "execution_count": 39,
     "metadata": {},
     "output_type": "execute_result"
    },
    {
     "data": {
      "image/png": "[encoded data removed]",
      "text/plain": [
       "<Figure size 640x480 with 1 Axes>"
      ]
     },
     "metadata": {},
     "output_type": "display_data"
    }
   ],
   "source": [
    "plt.plot(gen_from_projection, label=\"From projection\")\n",
    "plt.plot(gen_from_histogram , label=\"From histogram\")\n",
    "plt.xlabel(\"bins\")\n",
    "plt.legend()"
   ]
  },
  {
   "cell_type": "code",
   "execution_count": 40,
   "metadata": {},
   "outputs": [
    {
     "data": {
      "text/plain": [
       "(0.94, 1.04)"
      ]
     },
     "execution_count": 40,
     "metadata": {},
     "output_type": "execute_result"
    },
    {
     "data": {
      "image/png": "[encoded data removed]",
      "text/plain": [
       "<Figure size 640x480 with 1 Axes>"
      ]
     },
     "metadata": {},
     "output_type": "display_data"
    }
   ],
   "source": [
    "plt.plot(np.divide(gen_from_projection, gen_from_histogram))\n",
    "plt.plot(np.ones(len(gen_from_projection)))\n",
    "plt.ylabel(\"Projection/Histogram\")\n",
    "plt.xlabel(\"bins\")\n",
    "plt.ylim(0.94,1.04)"
   ]
  },
  {
   "cell_type": "code",
   "execution_count": 15,
   "metadata": {},
   "outputs": [
    {
     "data": {
      "text/plain": [
       "2.2871159074108683e-14"
      ]
     },
     "execution_count": 15,
     "metadata": {},
     "output_type": "execute_result"
    }
   ],
   "source": [
    "sum(delta_gen)/ len(delta_gen)"
   ]
  },
  {
   "cell_type": "markdown",
   "metadata": {},
   "source": [
    "### Reco"
   ]
  },
  {
   "cell_type": "code",
   "execution_count": 41,
   "metadata": {},
   "outputs": [
    {
     "data": {
      "text/plain": [
       "array([ 981357.90606117, 3375050.9784584 , 9198018.20064995,\n",
       "       8446893.62204361, 2524492.17763108,  629039.68923569])"
      ]
     },
     "execution_count": 41,
     "metadata": {},
     "output_type": "execute_result"
    }
   ],
   "source": [
    "reco_from_projection = Unfolding_histo_fileptr[\"hrecoVsgen_c_kk\"].to_hist().project('yaxis').to_numpy()[0]\n",
    "reco_from_projection"
   ]
  },
  {
   "cell_type": "code",
   "execution_count": 42,
   "metadata": {},
   "outputs": [
    {
     "data": {
      "text/plain": [
       "array([ 981357.90606117, 3375050.9784584 , 9198018.20064995,\n",
       "       8446893.62204361, 2524492.17763108,  629039.68923569])"
      ]
     },
     "execution_count": 42,
     "metadata": {},
     "output_type": "execute_result"
    }
   ],
   "source": [
    "reco_from_histogram = Unfolding_histo_fileptr[\"hreco_c_kk\"].to_numpy()[0]\n",
    "reco_from_histogram"
   ]
  },
  {
   "cell_type": "code",
   "execution_count": 43,
   "metadata": {},
   "outputs": [
    {
     "data": {
      "text/plain": [
       "array([ True,  True,  True,  True,  True,  True])"
      ]
     },
     "execution_count": 43,
     "metadata": {},
     "output_type": "execute_result"
    }
   ],
   "source": [
    "reco_from_projection == reco_from_histogram"
   ]
  },
  {
   "cell_type": "code",
   "execution_count": 44,
   "metadata": {},
   "outputs": [
    {
     "data": {
      "text/plain": [
       "array([0., 0., 0., 0., 0., 0.])"
      ]
     },
     "execution_count": 44,
     "metadata": {},
     "output_type": "execute_result"
    }
   ],
   "source": [
    "delta_reco = np.divide((reco_from_projection - reco_from_histogram), reco_from_histogram)\n",
    "delta_reco = abs(delta_reco) * 100\n",
    "delta_reco"
   ]
  },
  {
   "cell_type": "code",
   "execution_count": 45,
   "metadata": {},
   "outputs": [
    {
     "data": {
      "text/plain": [
       "0.0"
      ]
     },
     "execution_count": 45,
     "metadata": {},
     "output_type": "execute_result"
    }
   ],
   "source": [
    "sum(delta_reco)/ len(delta_reco)"
   ]
  },
  {
   "cell_type": "code",
   "execution_count": 46,
   "metadata": {},
   "outputs": [
    {
     "data": {
      "text/plain": [
       "<matplotlib.legend.Legend at 0x7fbcc92aa920>"
      ]
     },
     "execution_count": 46,
     "metadata": {},
     "output_type": "execute_result"
    },
    {
     "data": {
      "image/png": "[encoded data removed]",
      "text/plain": [
       "<Figure size 640x480 with 1 Axes>"
      ]
     },
     "metadata": {},
     "output_type": "display_data"
    }
   ],
   "source": [
    "plt.plot(reco_from_projection, label=\"From projection\")\n",
    "plt.plot(reco_from_histogram , label=\"From histogram\")\n",
    "plt.xlabel(\"bins\")\n",
    "plt.legend()"
   ]
  },
  {
   "cell_type": "code",
   "execution_count": 47,
   "metadata": {},
   "outputs": [
    {
     "data": {
      "text/plain": [
       "(0.99, 1.01)"
      ]
     },
     "execution_count": 47,
     "metadata": {},
     "output_type": "execute_result"
    },
    {
     "data": {
      "image/png": "[encoded data removed]",
      "text/plain": [
       "<Figure size 640x480 with 1 Axes>"
      ]
     },
     "metadata": {},
     "output_type": "display_data"
    }
   ],
   "source": [
    "plt.plot(np.divide(reco_from_projection, reco_from_histogram))\n",
    "plt.plot(np.ones(len(reco_from_projection)))\n",
    "plt.ylabel(\"Projection/Histogram\")\n",
    "plt.xlabel(\"bins\")\n",
    "plt.ylim(0.99,1.01)"
   ]
  },
  {
   "cell_type": "code",
   "execution_count": 48,
   "metadata": {
    "collapsed": true
   },
   "outputs": [],
   "source": [
    "RespMat = Unfolding_histo_fileptr[\"hrecoVsgen_c_kk\"].to_hist()"
   ]
  },
  {
   "cell_type": "code",
   "execution_count": 49,
   "metadata": {},
   "outputs": [
    {
     "name": "stderr",
     "output_type": "stream",
     "text": [
      "/home/bakshi3/.conda/envs/cent7/2020.11-py38/venv/lib/python3.10/site-packages/mplhep/utils.py:211: UserWarning: Integer weights indicate poissonian data. Will calculate Garwood interval if ``scipy`` is installed. Otherwise errors will be set to ``sqrt(w2)``.\n",
      "  warnings.warn(\n",
      "/home/bakshi3/.conda/envs/cent7/2020.11-py38/venv/lib/python3.10/site-packages/mplhep/utils.py:211: UserWarning: Integer weights indicate poissonian data. Will calculate Garwood interval if ``scipy`` is installed. Otherwise errors will be set to ``sqrt(w2)``.\n",
      "  warnings.warn(\n"
     ]
    },
    {
     "data": {
      "image/png": "[encoded data removed]",
      "text/plain": [
       "<Figure size 800x800 with 3 Axes>"
      ]
     },
     "metadata": {},
     "output_type": "display_data"
    }
   ],
   "source": [
    "# plot2d_full\n",
    "plt.figure(figsize=(8, 8))\n",
    "\n",
    "RespMat.plot2d_full(\n",
    "    main_cmap=\"coolwarm\",\n",
    "    top_ls=\"--\",\n",
    "    top_color=\"orange\",\n",
    "    top_lw=2,\n",
    "    side_ls=\":\",\n",
    "    side_lw=2,\n",
    "    side_color=\"steelblue\",\n",
    ")\n",
    "\n",
    "plt.show()"
   ]
  },
  {
   "cell_type": "code",
   "execution_count": null,
   "metadata": {
    "collapsed": true
   },
   "outputs": [],
   "source": []
  }
 ],
 "metadata": {
  "kernelspec": {
   "display_name": "Python [conda env: venv]",
   "language": "python",
   "name": "conda-env-venv-py"
  },
  "language_info": {
   "codemirror_mode": {
    "name": "ipython",
    "version": 3
   },
   "file_extension": ".py",
   "mimetype": "text/x-python",
   "name": "python",
   "nbconvert_exporter": "python",
   "pygments_lexer": "ipython3",
   "version": "3.10.6"
  }
 },
 "nbformat": 4,
 "nbformat_minor": 2
}
