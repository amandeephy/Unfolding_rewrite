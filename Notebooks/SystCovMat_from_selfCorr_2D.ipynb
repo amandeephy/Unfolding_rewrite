{
 "cells": [
  {
   "cell_type": "code",
   "execution_count": 24,
   "metadata": {
    "collapsed": true
   },
   "outputs": [],
   "source": [
    "import math\n",
    "import uproot\n",
    "import numpy as np\n",
    "import matplotlib.pyplot as plt"
   ]
  },
  {
   "cell_type": "code",
   "execution_count": 2,
   "metadata": {
    "collapsed": true
   },
   "outputs": [],
   "source": [
    "BASEDIR = '/depot/cms/top/bakshi3/TopSpinCorr_Run2_generalized_ND/CMSSW_10_6_30/src/TopAnalysis/Configuration/analysis/diLeptonic/TUnfoldResults_2016/Nominal/combined/'"
   ]
  },
  {
   "cell_type": "code",
   "execution_count": 3,
   "metadata": {
    "collapsed": true
   },
   "outputs": [],
   "source": [
    "var_list = [\n",
    "'b1k_mttbar',\n",
    "'b2k_mttbar',\n",
    "'b1r_mttbar',\n",
    "'b2r_mttbar',\n",
    "'b1n_mttbar',\n",
    "'b2n_mttbar',\n",
    "'b1j_mttbar',\n",
    "'b2j_mttbar',\n",
    "'b1q_mttbar',\n",
    "'b2q_mttbar',\n",
    "'c_kk_mttbar',\n",
    "'c_rr_mttbar',\n",
    "'c_nn_mttbar',\n",
    "'c_Prk_mttbar',\n",
    "'c_Mrk_mttbar',\n",
    "'c_Pnr_mttbar',\n",
    "'c_Mnr_mttbar',\n",
    "'c_Pnk_mttbar',\n",
    "'c_Mnk_mttbar',\n",
    "'c_kj_mttbar',\n",
    "'c_rq_mttbar',\n",
    "'c_han_mttbar',\n",
    "'c_tra_mttbar',\n",
    "'c_sca_mttbar',\n",
    "'c_Prj_mttbar',\n",
    "'c_Mrj_mttbar',\n",
    "'c_kjL_mttbar',\n",
    "'c_rqL_mttbar',\n",
    "'c_rkP_mttbar',\n",
    "'c_rkM_mttbar',\n",
    "'c_nrP_mttbar',\n",
    "'c_nrM_mttbar',\n",
    "'c_nkP_mttbar',\n",
    "'c_nkM_mttbar',\n",
    "'ll_cHel_mttbar',\n",
    "'ll_cLab_mttbar',\n",
    "'llbar_delta_phi_mttbar',\n",
    "'llbar_delta_eta_mttbar',\n",
    "]"
   ]
  },
  {
   "cell_type": "code",
   "execution_count": 4,
   "metadata": {
    "collapsed": true
   },
   "outputs": [],
   "source": [
    "import os\n",
    "\n",
    "for var in var_list :\n",
    "    if not (os.path.exists(BASEDIR + \"AllSysts_2D_vars_updated_reg/\" + str(var) + \".root\")) :\n",
    "        print(var)"
   ]
  },
  {
   "cell_type": "code",
   "execution_count": 5,
   "metadata": {
    "collapsed": true
   },
   "outputs": [],
   "source": [
    "fileptr_dict = {}\n",
    "for var in var_list :\n",
    "    fileptr_dict[var] = uproot.open(BASEDIR + \"AllSysts_2D_vars_updated_reg/\" + str(var) + \".root\")"
   ]
  },
  {
   "cell_type": "markdown",
   "metadata": {},
   "source": [
    "## GetDeltasAllVars"
   ]
  },
  {
   "cell_type": "code",
   "execution_count": 6,
   "metadata": {
    "collapsed": true
   },
   "outputs": [],
   "source": [
    "def GetDeltasAllVars(SystName, var_list) :\n",
    "  \n",
    "    # nbinsrhoi is 6(1D) or 24(2D)  \n",
    "    # nbinsrhoi = 6\n",
    "    nbinsrhoi   = 24 \n",
    "  \n",
    "    # This constructs a Nominal and Delta vector which is as wide as n_vars * n_bins\n",
    "    hnom_AllVar = []\n",
    "    htot_reldelta_AllVar = []\n",
    "    \n",
    "    for var in var_list : \n",
    "        \n",
    "        # Unfolded result for particular variable\n",
    "        hnom = fileptr_dict[var][var + 'TUnfResultCor_rebinnedA'].to_hist().values()\n",
    "        hnom_AllVar.extend(hnom)\n",
    "        \n",
    "        htot_reldelta = [0] * nbinsrhoi\n",
    "        \n",
    "        if(SystName==\"SCALE\" or SystName==\"BFRAG\" or SystName==\"COLORREC\")  :\n",
    "\n",
    "            if (SystName==\"SCALE\") :    syst_list = [\"MESCALE_UP\", \"MESCALE_DOWN\", \"MEFACSCALE_UP\", \"MEFACSCALE_DOWN\", \"MERENSCALE_UP\", \"MERENSCALE_DOWN\"]\n",
    "            if (SystName==\"BFRAG\") :    syst_list = [\"BFRAG_UP\", \"BFRAG_DOWN\", \"BFRAG_PETERSON\" ]\n",
    "            if (SystName==\"COLORREC\") : syst_list = [\"ERDON\", \"ERDONRETUNE\", \"GLUONMOVETUNE\" ]\n",
    "                \n",
    "            # Envelope\n",
    "            max_up   = [0] * nbinsrhoi\n",
    "            max_down = [0] * nbinsrhoi\n",
    "\n",
    "            for syst in syst_list :\n",
    "                delta = fileptr_dict[var][var + \"RespMatSys_\" + syst + \"_deltaSys_rebinnedA\"].to_hist().values()\n",
    "\n",
    "                # For each bin, find the maximum up and down variation\n",
    "                for ibin in range(len(delta)) :\n",
    "                    max_up[ibin]   = max(max_up[ibin]  , delta[ibin]) \n",
    "                    max_down[ibin] = min(max_down[ibin], delta[ibin]) \n",
    "\n",
    "                del delta\n",
    "            \n",
    "            for ibin in range(len(htot_reldelta)) :\n",
    "                htot_reldelta[ibin] = (abs(max_up[ibin] - max_down[ibin]) * 0.5)/hnom[ibin]\n",
    "                \n",
    "\n",
    "        # Samples with UP and DOWN variations \n",
    "        # Jason mentioned not enveloping BTAG and BTAG_LJET\n",
    "        \n",
    "        elif( (SystName==\"JER\")   or (\"JES\" in SystName)    or (SystName==\"PU\")          or (SystName==\"LEPT\")  or \n",
    "              (SystName==\"KIN\")   or (SystName==\"BSEMILEP\") or (SystName==\"UNCLUSTERED\") or  (SystName==\"TRIG\") or\n",
    "              (SystName==\"UETUNE\")or (SystName==\"MASS\")     or (SystName==\"MATCH\")       or (SystName==\"PDF_ALPHAS\") or \n",
    "              (SystName==\"L1PREFIRING\")    or (SystName==\"ELE_ID\")         or (SystName==\"ELE_RECO\") or \n",
    "              (SystName==\"ELE_SCALE_GAIN\") or (SystName==\"ELE_SCALE_SYST\") or (SystName==\"ELE_SCALE_STAT\") or \n",
    "              (SystName==\"BTAG_CORR\")      or (SystName==\"BTAG_UNCORR\")    or (SystName==\"BTAG_LJET_CORR\") or (SystName==\"BTAG_LJET_UNCORR\")or \n",
    "              (SystName==\"MUON_ID\")        or (SystName==\"MUON_ISO\")       or (SystName==\"MUON_SCALE\")     or (SystName==\"PSSCALE_WEIGHT_6\")or \n",
    "              (SystName==\"PSSCALE_WEIGHT_7\")) :\n",
    "\n",
    "            # This is the upward or downward fluctuation with dimension n_bins\n",
    "            deltaup    = fileptr_dict[var][var + \"RespMatSys_\" + SystName + \"_UP_deltaSys_rebinnedA\"].to_hist().values()\n",
    "            deltadown  = fileptr_dict[var][var + \"RespMatSys_\" + SystName + \"_DOWN_deltaSys_rebinnedA\"].to_hist().values()\n",
    "\n",
    "            deltafinal = abs(deltaup - deltadown)\n",
    "            \n",
    "            for ibin in range(len(htot_reldelta)) :\n",
    "                htot_reldelta[ibin] = (deltafinal[ibin] * 0.5)/hnom[ibin]\n",
    "                \n",
    "            del deltaup\n",
    "            del deltadown\n",
    "\n",
    "        # *******************\n",
    "        # Alternative samples \n",
    "        # *******************\n",
    "        \n",
    "        elif((SystName==\"MCATNLO\")  or (SystName==\"POWHEG\") or (SystName==\"POWHEGHERWIG\") or \n",
    "             (SystName==\"POWHEGV2\") or (SystName==\"POWHEGV2HERWIG\") or (SystName==\"AMCATNLOFXFX\")or \n",
    "             (SystName==\"TOP_PT\")   or (SystName==\"MADGRAPHMLM\")    or (SystName==\"PERUGIA11\")   or \n",
    "             (SystName==\"SPINCORR\") or (\"PDF\" in SystName) ) :\n",
    "\n",
    "            # This is the fluctuation with dimension n_bins\n",
    "            deltaSys = fileptr_dict[var][var + \"RespMatSys_\" + SystName + \"_deltaSys_rebinnedA\"].to_hist().values()\n",
    "            \n",
    "            for ibin in range(len(htot_reldelta)) :\n",
    "                htot_reldelta[ibin] = (abs(deltaSys[ibin]))/hnom[ibin]\n",
    "                \n",
    "            del deltaSys\n",
    "\n",
    "        # ***********\n",
    "        # Backgrounds\n",
    "        # ***********\n",
    "        \n",
    "        elif((SystName==\"DYeemm\") or (SystName==\"DYtautau\") or (SystName==\"singletop\") or \n",
    "             (SystName==\"ww\")     or (SystName==\"wz\")       or (SystName==\"zz\")     or (SystName==\"ttbarW\") or \n",
    "             (SystName==\"ttbarZ\") or (SystName==\"ttbarbg\")  or (SystName==\"wtolnu\") or (SystName==\"other\")) :\n",
    "      \n",
    "            # This is the fluctuation with dimension n_bins\n",
    "            bkgSys = fileptr_dict[var][var + \"BkgSys_\" + SystName + \"_deltaSys_rebinnedA\"].to_hist().values()\n",
    "            \n",
    "            for ibin in range(len(htot_reldelta)) :\n",
    "                htot_reldelta[ibin] = (abs(bkgSys[ibin]))/hnom[ibin]\n",
    "                \n",
    "            del bkgSys\n",
    "    \n",
    "        # *****************\n",
    "        # Flat uncertainties\n",
    "        # ******************\n",
    "\n",
    "        elif( (SystName==\"Lumi\") or (SystName==\"BR\") ) :\n",
    "            flat_uncertainty = 0.025 if (SystName==\"Lumi\") else 0.015\n",
    "\n",
    "            for ibin in range(len(htot_reldelta)) :\n",
    "                htot_reldelta[ibin] = flat_uncertainty\n",
    "            \n",
    "        else :\n",
    "            print('Syst :: ' + SystName + ' not supported as of now') \n",
    "            return\n",
    "\n",
    "        htot_reldelta_AllVar.extend(htot_reldelta)\n",
    "\n",
    "        del hnom;\n",
    "        del htot_reldelta;\n",
    "    \n",
    "    return hnom_AllVar, htot_reldelta_AllVar"
   ]
  },
  {
   "cell_type": "code",
   "execution_count": 7,
   "metadata": {
    "collapsed": true
   },
   "outputs": [],
   "source": [
    "# hnom_AllVar, htot_reldelta_AllVar = GetDeltasAllVars(\"TOP_PT\", var_list)\n",
    "# len(htot_reldelta_AllVar)"
   ]
  },
  {
   "cell_type": "markdown",
   "metadata": {},
   "source": [
    "## GetCombinedCovarianceMatrixAllVars"
   ]
  },
  {
   "cell_type": "code",
   "execution_count": 8,
   "metadata": {
    "collapsed": true
   },
   "outputs": [],
   "source": [
    "def GetCombinedCovarianceMatrixAllVars(hnom_AllVar, htot_reldelta_AllVar, SystName) :\n",
    "\n",
    "    # Calculate the correlation matrix for the sum of sub-components, \n",
    "    # then convert this to a covariance matrix using the envelope results\n",
    "    \n",
    "    print(\"Working with SYST :: \" + SystName)\n",
    "\n",
    "    # nbinsrhoi = 6;  \n",
    "    nbinsrhoi   = 24;\n",
    "\n",
    "    htot_absdelta_AllVar = [htot_reldelta_AllVar[i] * hnom_AllVar[i] for i in range(len(hnom_AllVar))]\n",
    "\n",
    "    syst_list = []\n",
    "    isBkgSyst = False\n",
    "    \n",
    "\n",
    "    if (SystName==\"SCALE\") :    syst_list = [\"MESCALE_UP\", \"MESCALE_DOWN\", \"MEFACSCALE_UP\", \"MEFACSCALE_DOWN\", \"MERENSCALE_UP\", \"MERENSCALE_DOWN\"]\n",
    "    if (SystName==\"BFRAG\") :    syst_list = [\"BFRAG_UP\", \"BFRAG_DOWN\", \"BFRAG_PETERSON\" ]\n",
    "    if (SystName==\"COLORREC\") : syst_list = [\"ERDON\", \"ERDONRETUNE\", \"GLUONMOVETUNE\" ]\n",
    "\n",
    "    # Samples with UP and DOWN variations \n",
    "    # Jason mentioned not enveloping BTAG and BTAG_LJET\n",
    "\n",
    "    elif( (SystName==\"JER\")   or (\"JES\" in SystName)    or (SystName==\"PU\")          or (SystName==\"LEPT\")  or \n",
    "          (SystName==\"KIN\")   or (SystName==\"BSEMILEP\") or (SystName==\"UNCLUSTERED\") or  (SystName==\"TRIG\") or\n",
    "          (SystName==\"UETUNE\")or (SystName==\"MASS\")     or (SystName==\"MATCH\")       or (SystName==\"PDF_ALPHAS\") or \n",
    "          (SystName==\"L1PREFIRING\")    or (SystName==\"ELE_ID\")         or (SystName==\"ELE_RECO\") or \n",
    "          (SystName==\"ELE_SCALE_GAIN\") or (SystName==\"ELE_SCALE_SYST\") or (SystName==\"ELE_SCALE_STAT\") or \n",
    "          (SystName==\"BTAG_CORR\")      or (SystName==\"BTAG_UNCORR\")    or (SystName==\"BTAG_LJET_CORR\") or (SystName==\"BTAG_LJET_UNCORR\")or \n",
    "          (SystName==\"MUON_ID\")        or (SystName==\"MUON_ISO\")       or (SystName==\"MUON_SCALE\")     or (SystName==\"PSSCALE_WEIGHT_6\")or \n",
    "          (SystName==\"PSSCALE_WEIGHT_7\")) : \n",
    "        syst_list = [SystName+\"_UP\", SystName+\"_DOWN\"]\n",
    "  \n",
    "\n",
    "    # *******************\n",
    "    # Alternative samples \n",
    "    # *******************\n",
    "\n",
    "    elif((SystName==\"MCATNLO\")  or (SystName==\"POWHEG\")         or (SystName==\"POWHEGHERWIG\") or \n",
    "         (SystName==\"POWHEGV2\") or (SystName==\"POWHEGV2HERWIG\") or (SystName==\"AMCATNLOFXFX\")or \n",
    "         (SystName==\"TOP_PT\")   or (SystName==\"MADGRAPHMLM\")    or (SystName==\"PERUGIA11\")   or \n",
    "         (SystName==\"SPINCORR\") or (\"PDF\" in SystName) ) : \n",
    "        syst_list = [SystName]\n",
    "        \n",
    "\n",
    "    # ***********\n",
    "    # Backgrounds\n",
    "    # ***********\n",
    "\n",
    "    elif((SystName==\"DYeemm\") or (SystName==\"DYtautau\") or (SystName==\"singletop\") or \n",
    "         (SystName==\"ww\")     or (SystName==\"wz\")       or (SystName==\"zz\")     or (SystName==\"ttbarW\") or \n",
    "         (SystName==\"ttbarZ\") or (SystName==\"ttbarbg\")  or (SystName==\"wtolnu\") or (SystName==\"other\")) :\n",
    "        syst_list = [SystName]\n",
    "        isBkgSyst = True\n",
    "        \n",
    "\n",
    "    scalingfactor = 1.\n",
    "    if (SystName==\"MASS\")  : scalingfactor = 1.   # convert from +/-3 GeV to +/-1 GeV\n",
    "    if (\"PDF\" in SystName) : scalingfactor = 10.  # convert from sum in quadrature to RMS (for 100 replicas)\n",
    "    if (\"PDF_ALPHAS\" in SystName) : scalingfactor = 1.\n",
    "\n",
    "    systCov = np.zeros((len(htot_absdelta_AllVar), len(htot_absdelta_AllVar)))\n",
    "\n",
    "    # Loop over systematics in the above described syst_list\n",
    "    for syst in syst_list : \n",
    "\n",
    "        hdelta_AllVar = []\n",
    "    \n",
    "        # Over the variables\n",
    "        for var in var_list :\n",
    "\n",
    "            # This is the 1D vector with fluctuations of dimension n_bins\n",
    "            if isBkgSyst :\n",
    "                delta = fileptr_dict[var][var + \"BkgSys_\"     + syst + \"_deltaSys_rebinnedA\"].to_hist().values()\n",
    "            else :\n",
    "                delta = fileptr_dict[var][var + \"RespMatSys_\" + syst + \"_deltaSys_rebinnedA\"].to_hist().values()\n",
    "\n",
    "            hdelta_AllVar.extend(delta)\n",
    "            del delta\n",
    "\n",
    "        # Add contribution to systCov\n",
    "        for i in range(len(htot_absdelta_AllVar)) :\n",
    "            for j in range(len(htot_absdelta_AllVar)) :\n",
    "                systCov[i][j] += hdelta_AllVar[i]*hdelta_AllVar[j]\n",
    "\n",
    "        del hdelta_AllVar\n",
    "\n",
    "    \n",
    "    # *****************\n",
    "    # Flat uncertainties\n",
    "    # ******************\n",
    "\n",
    "    # Convert to correlation matrix (or fill fully-correlated correlation matrix for the flat systematics)\n",
    "    if( (SystName==\"Lumi\") or (SystName==\"BR\") ) :\n",
    "        for i in range(len(htot_absdelta_AllVar)) :\n",
    "            for j in range(len(htot_absdelta_AllVar)) :\n",
    "                systCov[i][j] = 1\n",
    "\n",
    "    else :\n",
    "        # Extract diagonal, replace 0 entries with a small number\n",
    "        diag_nozeros = [systCov[i][i] if (systCov[i][i] != 0) else 1e-20 for i in range(len(htot_absdelta_AllVar))]\n",
    "\n",
    "        # This is a replacement for NormByDiag\n",
    "        # From TMatrixD documentation : b(i,j) = a(i,j)/sqrt(abs*(v(i)*v(j)))\n",
    "        for i in range(len(htot_absdelta_AllVar)) :\n",
    "            for j in range(len(htot_absdelta_AllVar)) :\n",
    "                systCov[i][j] =  systCov[i][j] / math.sqrt(abs(diag_nozeros[i]*diag_nozeros[j]))\n",
    "                \n",
    "    \n",
    "    \n",
    "    # Convert back to covariance matrix, but using the bin errors from the envelope method\n",
    "    for i in range(len(htot_absdelta_AllVar)) :\n",
    "        for j in range(len(htot_absdelta_AllVar)) :\n",
    "            systCov[i][j] *= abs(htot_absdelta_AllVar[i] * htot_absdelta_AllVar[j])\n",
    "\n",
    "            \n",
    "    # New matrix for scaling\n",
    "    systCovMatrix = np.zeros((len(htot_absdelta_AllVar), len(htot_absdelta_AllVar)))\n",
    "                                 \n",
    "    for i in range(len(htot_absdelta_AllVar)) :\n",
    "        for j in range(len(htot_absdelta_AllVar)) :\n",
    "            systCovMatrix[i][j] = systCov[i][j] / (scalingfactor**2)\n",
    "\n",
    "    del htot_absdelta_AllVar\n",
    "    return systCovMatrix"
   ]
  },
  {
   "cell_type": "code",
   "execution_count": 9,
   "metadata": {
    "collapsed": true
   },
   "outputs": [],
   "source": [
    "# hnom_AllVar, htot_reldelta_AllVar = GetDeltasAllVars(\"PDF_49_UP\", var_list)\n",
    "# GetCombinedCovarianceMatrixAllVars(hnom_AllVar, htot_reldelta_AllVar, \"PDF_49_UP\")"
   ]
  },
  {
   "cell_type": "code",
   "execution_count": 11,
   "metadata": {
    "collapsed": true
   },
   "outputs": [],
   "source": [
    "# Custom Syst List with backgrounds and Lumi, BR added\n",
    "with open('TUnfoldSystList.txt', 'r') as SystFile :\n",
    "    AllSysts = SystFile.readlines()\n",
    "\n",
    "FullSystList = []   \n",
    "\n",
    "for Syst in AllSysts :\n",
    "    Syst = Syst.replace('\\n','')\n",
    "    FullSystList.append(Syst) "
   ]
  },
  {
   "cell_type": "code",
   "execution_count": 15,
   "metadata": {
    "scrolled": true
   },
   "outputs": [
    {
     "name": "stdout",
     "output_type": "stream",
     "text": [
      "Working with SYST :: Lumi\n",
      "Working with SYST :: BR\n",
      "Working with SYST :: DYeemm\n",
      "Working with SYST :: DYtautau\n",
      "Working with SYST :: singletop\n",
      "Working with SYST :: ww\n",
      "Working with SYST :: wz\n",
      "Working with SYST :: zz\n",
      "Working with SYST :: ttbarW\n",
      "Working with SYST :: ttbarZ\n",
      "Working with SYST :: ttbarbg\n",
      "Working with SYST :: wtolnu\n",
      "SYST :: wtolnu does not agree with FW calculation\n",
      "Working with SYST :: other\n",
      "Working with SYST :: JER\n",
      "Working with SYST :: JES\n",
      "Working with SYST :: UNCLUSTERED\n",
      "Working with SYST :: PU\n",
      "Working with SYST :: TRIG\n",
      "SYST :: TRIG does not agree with FW calculation\n",
      "Working with SYST :: L1PREFIRING\n",
      "Working with SYST :: ELE_ID\n",
      "Working with SYST :: ELE_RECO\n",
      "Working with SYST :: ELE_SCALE_GAIN\n",
      "Working with SYST :: ELE_SCALE_STAT\n",
      "Working with SYST :: ELE_SCALE_SYST\n",
      "Working with SYST :: MUON_ID\n",
      "Working with SYST :: MUON_ISO\n",
      "Working with SYST :: MUON_SCALE\n",
      "Working with SYST :: BTAG_CORR\n",
      "Working with SYST :: BTAG_UNCORR\n",
      "Working with SYST :: BTAG_LJET_CORR\n",
      "Working with SYST :: BTAG_LJET_UNCORR\n",
      "Working with SYST :: UETUNE\n",
      "Working with SYST :: MATCH\n",
      "Working with SYST :: MASS\n",
      "Working with SYST :: PDF_ALPHAS\n",
      "Working with SYST :: SCALE\n",
      "Working with SYST :: COLORREC\n",
      "Working with SYST :: PSSCALE_WEIGHT_6\n",
      "Working with SYST :: PSSCALE_WEIGHT_7\n",
      "Working with SYST :: PDF_1_UP\n",
      "SYST :: PDF_1_UP does not agree with FW calculation\n",
      "Working with SYST :: PDF_1_DOWN\n",
      "SYST :: PDF_1_DOWN does not agree with FW calculation\n",
      "Working with SYST :: PDF_2_UP\n",
      "SYST :: PDF_2_UP does not agree with FW calculation\n",
      "Working with SYST :: PDF_2_DOWN\n",
      "SYST :: PDF_2_DOWN does not agree with FW calculation\n",
      "Working with SYST :: PDF_3_UP\n",
      "SYST :: PDF_3_UP does not agree with FW calculation\n",
      "Working with SYST :: PDF_3_DOWN\n",
      "SYST :: PDF_3_DOWN does not agree with FW calculation\n",
      "Working with SYST :: PDF_4_UP\n",
      "SYST :: PDF_4_UP does not agree with FW calculation\n",
      "Working with SYST :: PDF_4_DOWN\n",
      "SYST :: PDF_4_DOWN does not agree with FW calculation\n",
      "Working with SYST :: PDF_5_UP\n",
      "SYST :: PDF_5_UP does not agree with FW calculation\n",
      "Working with SYST :: PDF_5_DOWN\n",
      "SYST :: PDF_5_DOWN does not agree with FW calculation\n",
      "Working with SYST :: PDF_6_UP\n",
      "SYST :: PDF_6_UP does not agree with FW calculation\n",
      "Working with SYST :: PDF_6_DOWN\n",
      "SYST :: PDF_6_DOWN does not agree with FW calculation\n",
      "Working with SYST :: PDF_7_UP\n",
      "SYST :: PDF_7_UP does not agree with FW calculation\n",
      "Working with SYST :: PDF_7_DOWN\n",
      "SYST :: PDF_7_DOWN does not agree with FW calculation\n",
      "Working with SYST :: PDF_8_UP\n",
      "SYST :: PDF_8_UP does not agree with FW calculation\n",
      "Working with SYST :: PDF_8_DOWN\n",
      "SYST :: PDF_8_DOWN does not agree with FW calculation\n",
      "Working with SYST :: PDF_9_UP\n",
      "SYST :: PDF_9_UP does not agree with FW calculation\n",
      "Working with SYST :: PDF_9_DOWN\n",
      "SYST :: PDF_9_DOWN does not agree with FW calculation\n",
      "Working with SYST :: PDF_10_UP\n",
      "SYST :: PDF_10_UP does not agree with FW calculation\n",
      "Working with SYST :: PDF_10_DOWN\n",
      "SYST :: PDF_10_DOWN does not agree with FW calculation\n",
      "Working with SYST :: PDF_11_UP\n",
      "SYST :: PDF_11_UP does not agree with FW calculation\n",
      "Working with SYST :: PDF_11_DOWN\n",
      "SYST :: PDF_11_DOWN does not agree with FW calculation\n",
      "Working with SYST :: PDF_12_UP\n",
      "SYST :: PDF_12_UP does not agree with FW calculation\n",
      "Working with SYST :: PDF_12_DOWN\n",
      "SYST :: PDF_12_DOWN does not agree with FW calculation\n",
      "Working with SYST :: PDF_13_UP\n",
      "SYST :: PDF_13_UP does not agree with FW calculation\n",
      "Working with SYST :: PDF_13_DOWN\n",
      "SYST :: PDF_13_DOWN does not agree with FW calculation\n",
      "Working with SYST :: PDF_14_UP\n",
      "SYST :: PDF_14_UP does not agree with FW calculation\n",
      "Working with SYST :: PDF_14_DOWN\n",
      "SYST :: PDF_14_DOWN does not agree with FW calculation\n",
      "Working with SYST :: PDF_15_UP\n",
      "SYST :: PDF_15_UP does not agree with FW calculation\n",
      "Working with SYST :: PDF_15_DOWN\n",
      "SYST :: PDF_15_DOWN does not agree with FW calculation\n",
      "Working with SYST :: PDF_16_UP\n",
      "SYST :: PDF_16_UP does not agree with FW calculation\n",
      "Working with SYST :: PDF_16_DOWN\n",
      "SYST :: PDF_16_DOWN does not agree with FW calculation\n",
      "Working with SYST :: PDF_17_UP\n",
      "SYST :: PDF_17_UP does not agree with FW calculation\n",
      "Working with SYST :: PDF_17_DOWN\n",
      "SYST :: PDF_17_DOWN does not agree with FW calculation\n",
      "Working with SYST :: PDF_18_UP\n",
      "SYST :: PDF_18_UP does not agree with FW calculation\n",
      "Working with SYST :: PDF_18_DOWN\n",
      "SYST :: PDF_18_DOWN does not agree with FW calculation\n",
      "Working with SYST :: PDF_19_UP\n",
      "SYST :: PDF_19_UP does not agree with FW calculation\n",
      "Working with SYST :: PDF_19_DOWN\n",
      "SYST :: PDF_19_DOWN does not agree with FW calculation\n",
      "Working with SYST :: PDF_20_UP\n",
      "SYST :: PDF_20_UP does not agree with FW calculation\n",
      "Working with SYST :: PDF_20_DOWN\n",
      "SYST :: PDF_20_DOWN does not agree with FW calculation\n",
      "Working with SYST :: PDF_21_UP\n",
      "SYST :: PDF_21_UP does not agree with FW calculation\n",
      "Working with SYST :: PDF_21_DOWN\n",
      "SYST :: PDF_21_DOWN does not agree with FW calculation\n",
      "Working with SYST :: PDF_22_UP\n",
      "SYST :: PDF_22_UP does not agree with FW calculation\n",
      "Working with SYST :: PDF_22_DOWN\n",
      "SYST :: PDF_22_DOWN does not agree with FW calculation\n",
      "Working with SYST :: PDF_23_UP\n",
      "SYST :: PDF_23_UP does not agree with FW calculation\n",
      "Working with SYST :: PDF_23_DOWN\n",
      "SYST :: PDF_23_DOWN does not agree with FW calculation\n",
      "Working with SYST :: PDF_24_UP\n",
      "SYST :: PDF_24_UP does not agree with FW calculation\n",
      "Working with SYST :: PDF_24_DOWN\n",
      "SYST :: PDF_24_DOWN does not agree with FW calculation\n",
      "Working with SYST :: PDF_25_UP\n",
      "SYST :: PDF_25_UP does not agree with FW calculation\n",
      "Working with SYST :: PDF_25_DOWN\n",
      "SYST :: PDF_25_DOWN does not agree with FW calculation\n",
      "Working with SYST :: PDF_26_UP\n",
      "SYST :: PDF_26_UP does not agree with FW calculation\n",
      "Working with SYST :: PDF_26_DOWN\n",
      "SYST :: PDF_26_DOWN does not agree with FW calculation\n",
      "Working with SYST :: PDF_27_UP\n",
      "SYST :: PDF_27_UP does not agree with FW calculation\n",
      "Working with SYST :: PDF_27_DOWN\n",
      "SYST :: PDF_27_DOWN does not agree with FW calculation\n",
      "Working with SYST :: PDF_28_UP\n",
      "SYST :: PDF_28_UP does not agree with FW calculation\n",
      "Working with SYST :: PDF_28_DOWN\n",
      "SYST :: PDF_28_DOWN does not agree with FW calculation\n",
      "Working with SYST :: PDF_29_UP\n",
      "SYST :: PDF_29_UP does not agree with FW calculation\n",
      "Working with SYST :: PDF_29_DOWN\n",
      "SYST :: PDF_29_DOWN does not agree with FW calculation\n",
      "Working with SYST :: PDF_30_UP\n",
      "SYST :: PDF_30_UP does not agree with FW calculation\n",
      "Working with SYST :: PDF_30_DOWN\n",
      "SYST :: PDF_30_DOWN does not agree with FW calculation\n",
      "Working with SYST :: PDF_31_UP\n",
      "SYST :: PDF_31_UP does not agree with FW calculation\n",
      "Working with SYST :: PDF_31_DOWN\n",
      "SYST :: PDF_31_DOWN does not agree with FW calculation\n",
      "Working with SYST :: PDF_32_UP\n",
      "SYST :: PDF_32_UP does not agree with FW calculation\n",
      "Working with SYST :: PDF_32_DOWN\n",
      "SYST :: PDF_32_DOWN does not agree with FW calculation\n",
      "Working with SYST :: PDF_33_UP\n",
      "SYST :: PDF_33_UP does not agree with FW calculation\n",
      "Working with SYST :: PDF_33_DOWN\n",
      "SYST :: PDF_33_DOWN does not agree with FW calculation\n",
      "Working with SYST :: PDF_34_UP\n",
      "SYST :: PDF_34_UP does not agree with FW calculation\n",
      "Working with SYST :: PDF_34_DOWN\n",
      "SYST :: PDF_34_DOWN does not agree with FW calculation\n",
      "Working with SYST :: PDF_35_UP\n",
      "SYST :: PDF_35_UP does not agree with FW calculation\n",
      "Working with SYST :: PDF_35_DOWN\n",
      "SYST :: PDF_35_DOWN does not agree with FW calculation\n",
      "Working with SYST :: PDF_36_UP\n",
      "SYST :: PDF_36_UP does not agree with FW calculation\n",
      "Working with SYST :: PDF_36_DOWN\n",
      "SYST :: PDF_36_DOWN does not agree with FW calculation\n",
      "Working with SYST :: PDF_37_UP\n",
      "SYST :: PDF_37_UP does not agree with FW calculation\n",
      "Working with SYST :: PDF_37_DOWN\n",
      "SYST :: PDF_37_DOWN does not agree with FW calculation\n",
      "Working with SYST :: PDF_38_UP\n",
      "SYST :: PDF_38_UP does not agree with FW calculation\n",
      "Working with SYST :: PDF_38_DOWN\n",
      "SYST :: PDF_38_DOWN does not agree with FW calculation\n",
      "Working with SYST :: PDF_39_UP\n",
      "SYST :: PDF_39_UP does not agree with FW calculation\n",
      "Working with SYST :: PDF_39_DOWN\n",
      "SYST :: PDF_39_DOWN does not agree with FW calculation\n",
      "Working with SYST :: PDF_40_UP\n",
      "SYST :: PDF_40_UP does not agree with FW calculation\n",
      "Working with SYST :: PDF_40_DOWN\n",
      "SYST :: PDF_40_DOWN does not agree with FW calculation\n",
      "Working with SYST :: PDF_41_UP\n",
      "SYST :: PDF_41_UP does not agree with FW calculation\n",
      "Working with SYST :: PDF_41_DOWN\n"
     ]
    },
    {
     "name": "stdout",
     "output_type": "stream",
     "text": [
      "SYST :: PDF_41_DOWN does not agree with FW calculation\n",
      "Working with SYST :: PDF_42_UP\n",
      "SYST :: PDF_42_UP does not agree with FW calculation\n",
      "Working with SYST :: PDF_42_DOWN\n",
      "SYST :: PDF_42_DOWN does not agree with FW calculation\n",
      "Working with SYST :: PDF_43_UP\n",
      "SYST :: PDF_43_UP does not agree with FW calculation\n",
      "Working with SYST :: PDF_43_DOWN\n",
      "SYST :: PDF_43_DOWN does not agree with FW calculation\n",
      "Working with SYST :: PDF_44_UP\n",
      "SYST :: PDF_44_UP does not agree with FW calculation\n",
      "Working with SYST :: PDF_44_DOWN\n",
      "SYST :: PDF_44_DOWN does not agree with FW calculation\n",
      "Working with SYST :: PDF_45_UP\n",
      "SYST :: PDF_45_UP does not agree with FW calculation\n",
      "Working with SYST :: PDF_45_DOWN\n",
      "SYST :: PDF_45_DOWN does not agree with FW calculation\n",
      "Working with SYST :: PDF_46_UP\n",
      "SYST :: PDF_46_UP does not agree with FW calculation\n",
      "Working with SYST :: PDF_46_DOWN\n",
      "SYST :: PDF_46_DOWN does not agree with FW calculation\n",
      "Working with SYST :: PDF_47_UP\n",
      "SYST :: PDF_47_UP does not agree with FW calculation\n",
      "Working with SYST :: PDF_47_DOWN\n",
      "SYST :: PDF_47_DOWN does not agree with FW calculation\n",
      "Working with SYST :: PDF_48_UP\n",
      "SYST :: PDF_48_UP does not agree with FW calculation\n",
      "Working with SYST :: PDF_48_DOWN\n",
      "SYST :: PDF_48_DOWN does not agree with FW calculation\n",
      "Working with SYST :: PDF_49_UP\n",
      "SYST :: PDF_49_UP does not agree with FW calculation\n",
      "Working with SYST :: PDF_49_DOWN\n",
      "SYST :: PDF_49_DOWN does not agree with FW calculation\n",
      "Working with SYST :: PDF_50_UP\n",
      "SYST :: PDF_50_UP does not agree with FW calculation\n",
      "Working with SYST :: PDF_50_DOWN\n",
      "SYST :: PDF_50_DOWN does not agree with FW calculation\n",
      "Working with SYST :: TOP_PT\n"
     ]
    }
   ],
   "source": [
    "TotalSystCovMatrix_AllVar_from_self = np.zeros((912,912))\n",
    "\n",
    "for Syst in FullSystList :\n",
    "    hnom_AllVar, htot_reldelta_AllVar = GetDeltasAllVars(Syst, var_list)\n",
    "    \n",
    "    SystCovMatrix_AllVar_from_self = GetCombinedCovarianceMatrixAllVars(hnom_AllVar, htot_reldelta_AllVar, Syst)\n",
    "    SystCovMatrix_AllVar_from_FW   = SystematicsAllVars[Syst + \"SystCovMatrix_AllVar_rebinnedA\"].to_hist().values()\n",
    "\n",
    "    # Compare all elements\n",
    "    if not (SystCovMatrix_AllVar_from_self == SystCovMatrix_AllVar_from_FW).all() :\n",
    "        print(\"SYST :: \" + Syst + \" does not agree with FW calculation\")\n",
    "        continue\n",
    "    \n",
    "    TotalSystCovMatrix_AllVar_from_self += SystCovMatrix_AllVar_from_self"
   ]
  },
  {
   "cell_type": "code",
   "execution_count": 31,
   "metadata": {
    "collapsed": true
   },
   "outputs": [],
   "source": [
    "np.savetxt('SystCovMatrix_2D_mttbar_updated_reg.txt', TotalSystCovMatrix_AllVar_from_self)"
   ]
  },
  {
   "cell_type": "markdown",
   "metadata": {},
   "source": [
    "### Compare to the one obtained from the FW (old)"
   ]
  },
  {
   "cell_type": "code",
   "execution_count": 12,
   "metadata": {
    "collapsed": true
   },
   "outputs": [],
   "source": [
    "SystematicsAllVars    = uproot.open(BASEDIR + \"AllSysts_2D_vars_updated_reg/Systematics_AllVars.root\")\n",
    "# SystematicsAllVars  = uproot.open(BASEDIR + \"Systematics_AllVars_incomplete.root\")"
   ]
  },
  {
   "cell_type": "code",
   "execution_count": 13,
   "metadata": {},
   "outputs": [
    {
     "data": {
      "text/plain": [
       "['TotalSystCovMatrix_AllVar_rebinnedA;1',\n",
       " 'TotalSystCovMatrix_AllVar_rebinnedANormCalculated;1']"
      ]
     },
     "execution_count": 13,
     "metadata": {},
     "output_type": "execute_result"
    }
   ],
   "source": [
    "[k for k in SystematicsAllVars.keys() if 'TotalSyst' in k]"
   ]
  },
  {
   "cell_type": "code",
   "execution_count": 16,
   "metadata": {},
   "outputs": [
    {
     "data": {
      "text/plain": [
       "array([[ 29.17805946,   5.58309375, -12.18565576, ...,   0.25706303,\n",
       "          0.15211357,   1.62860577],\n",
       "       [  5.58309375,  14.1301096 ,  10.22731413, ...,   0.78108302,\n",
       "          0.74961722,   2.83729556],\n",
       "       [-12.18565576,  10.22731413,  39.54901183, ...,   0.360693  ,\n",
       "          1.29799352,   1.42639189],\n",
       "       ...,\n",
       "       [  0.25706303,   0.78108302,   0.360693  , ...,   0.4511579 ,\n",
       "          0.21557413,   0.53833872],\n",
       "       [  0.15211357,   0.74961722,   1.29799352, ...,   0.21557413,\n",
       "          0.26829489,   0.44154902],\n",
       "       [  1.62860577,   2.83729556,   1.42639189, ...,   0.53833872,\n",
       "          0.44154902,   1.67639401]])"
      ]
     },
     "execution_count": 16,
     "metadata": {},
     "output_type": "execute_result"
    }
   ],
   "source": [
    "FWCovMatrix = SystematicsAllVars['TotalSystCovMatrix_AllVar_rebinnedA'].to_hist().to_numpy()[0]\n",
    "FWCovMatrix"
   ]
  },
  {
   "cell_type": "code",
   "execution_count": 17,
   "metadata": {},
   "outputs": [
    {
     "data": {
      "text/plain": [
       "array([[ 29.17777319,   5.58285624, -12.18587967, ...,   0.25706341,\n",
       "          0.15211471,   1.62862199],\n",
       "       [  5.58285624,  14.12986227,  10.22707728, ...,   0.78108467,\n",
       "          0.74962278,   2.83730874],\n",
       "       [-12.18587967,  10.22707728,  39.54877923, ...,   0.36069603,\n",
       "          1.29800163,   1.42641166],\n",
       "       ...,\n",
       "       [  0.25706341,   0.78108467,   0.36069603, ...,   0.45114133,\n",
       "          0.2155565 ,   0.53828162],\n",
       "       [  0.15211471,   0.74962278,   1.29800163, ...,   0.2155565 ,\n",
       "          0.26827413,   0.44148088],\n",
       "       [  1.62862199,   2.83730874,   1.42641166, ...,   0.53828162,\n",
       "          0.44148088,   1.67614179]])"
      ]
     },
     "execution_count": 17,
     "metadata": {},
     "output_type": "execute_result"
    }
   ],
   "source": [
    "TotalSystCovMatrix_AllVar_from_self"
   ]
  },
  {
   "cell_type": "code",
   "execution_count": 25,
   "metadata": {},
   "outputs": [
    {
     "data": {
      "text/plain": [
       "False"
      ]
     },
     "execution_count": 25,
     "metadata": {},
     "output_type": "execute_result"
    }
   ],
   "source": [
    "selfdiag = np.array([TotalSystCovMatrix_AllVar_from_self[i][i] for i in range(912)])\n",
    "FWdiag   = np.array([FWCovMatrix[i][i] for i in range(912)])\n",
    "\n",
    "(selfdiag == FWdiag).all()"
   ]
  },
  {
   "cell_type": "code",
   "execution_count": 27,
   "metadata": {},
   "outputs": [
    {
     "data": {
      "text/plain": [
       "True"
      ]
     },
     "execution_count": 27,
     "metadata": {},
     "output_type": "execute_result"
    }
   ],
   "source": [
    "np.allclose(selfdiag, FWdiag, atol=1e-2)"
   ]
  },
  {
   "cell_type": "markdown",
   "metadata": {},
   "source": [
    "## Now let's normalize"
   ]
  },
  {
   "cell_type": "markdown",
   "metadata": {},
   "source": [
    "Consider an observable $x$ and its covariance matrix $\\Sigma_x$. The generalized covariance transformation is $\\Sigma_y = J \\Sigma_x J^T$ where $J$ is the Jacobian matrix:\n",
    "\n",
    "$J = \n",
    "\\begin{bmatrix} \n",
    "\\partial f_0 / \\partial x_0 & \\partial f_0 / \\partial x_1 & \\ldots \\\\\n",
    "\\partial f_1 / \\partial x_0 & \\partial f_1 / \\partial x_1 & \\ldots \\\\\n",
    "\\ldots & & \\\\\n",
    "\\end{bmatrix}$\n",
    "\n",
    "Now consider a transformation of $x$ to normalize it: \n",
    "\n",
    "$y = \\frac{x}{ \\sum_i x_i} \\equiv \\frac{x}{N}$,\n",
    "\n",
    "\n",
    "Then the Jacobian is,\n",
    "\n",
    "$J = \n",
    "\\begin{bmatrix} \n",
    "\\frac{N-x_0}{N^2}  & \\frac{-x_0}{N^2} & \\frac{-x_0}{N^2} & \\ldots \\\\\n",
    "\\frac{-x_1}{N^2} & \\frac{N-x_1}{N^2} & \\frac{-x_1}{N^2} & \\ldots \\\\\n",
    "\\ldots \n",
    "\\end{bmatrix}$\n",
    "\n",
    "\n",
    "Coordinate transformations change the uncertainties as,\n",
    "\n",
    "$\\sigma_y^2 = J \\sigma_x^2 J^T$\n",
    "\n",
    "where $\\sigma_x$ is the covariance matrix, and $y$ is defined above. "
   ]
  },
  {
   "cell_type": "code",
   "execution_count": 32,
   "metadata": {
    "collapsed": true
   },
   "outputs": [],
   "source": [
    "nbinsrhoi   = 24\n",
    "nbinstot    = nbinsrhoi * len(var_list)\n",
    "sum_AllVar  = []\n",
    "hnom_AllVar = []\n",
    "\n",
    "for var in var_list : \n",
    "\n",
    "    # Unfolded result for particular variable\n",
    "    hnom = fileptr_dict[var][var + 'TUnfResultCor_rebinnedA'].to_hist().values()\n",
    "    sum_AllVar.append(sum(hnom))\n",
    "    hnom_AllVar.append(hnom)     # careful to append and not extend\n",
    "    \n",
    "dfdn  = np.zeros((nbinstot, nbinstot))\n",
    "\n",
    "for i in range(nbinstot) :\n",
    "    for j in range(nbinstot) :\n",
    "        if (i == j) : \n",
    "            sum_n =  sum_AllVar[i//nbinsrhoi] # i//nbinsrhoi is var number, so get integral for that variable\n",
    "            unf_i = hnom_AllVar[i//nbinsrhoi][i%nbinsrhoi] # i%nbinsrhoi is bin number, so list <var> <bin>\n",
    "            \n",
    "            dfdn[i][j]  = (sum_n - unf_i) / sum_n**2\n",
    "            del sum_n, unf_i\n",
    "            \n",
    "        elif (i//nbinsrhoi == j//nbinsrhoi) :\n",
    "            sum_n =  sum_AllVar[i//nbinsrhoi] # i//nbinsrhoi is var number, so get integral for that variable\n",
    "            unf_i = hnom_AllVar[i//nbinsrhoi][i%nbinsrhoi] # i%nbinsrhoi is bin number, so list <var> <bin>\n",
    "            \n",
    "            dfdn[i][j]  = (- unf_i) / sum_n**2\n",
    "            del sum_n, unf_i\n",
    "            \n",
    "        else :\n",
    "            dfdn[i][j] = 0"
   ]
  },
  {
   "cell_type": "code",
   "execution_count": 33,
   "metadata": {},
   "outputs": [
    {
     "data": {
      "text/plain": [
       "array([[ 3.74784741e-05,  9.84304253e-07, -2.98716233e-05, ...,\n",
       "        -3.38928557e-07, -9.95002643e-07, -4.89689284e-07],\n",
       "       [ 9.84304253e-07,  1.18721843e-05,  1.75868406e-06, ...,\n",
       "         3.33697817e-07, -1.81233055e-07,  1.07457987e-06],\n",
       "       [-2.98716233e-05,  1.75868406e-06,  4.05612535e-05, ...,\n",
       "        -7.60887230e-07,  1.38522985e-07, -2.37371907e-06],\n",
       "       ...,\n",
       "       [-3.38928557e-07,  3.33697817e-07, -7.60887230e-07, ...,\n",
       "         6.39681606e-07,  2.39717998e-07,  6.39245574e-07],\n",
       "       [-9.95002643e-07, -1.81233055e-07,  1.38522985e-07, ...,\n",
       "         2.39717998e-07,  2.61361282e-07,  3.44223404e-07],\n",
       "       [-4.89689284e-07,  1.07457987e-06, -2.37371907e-06, ...,\n",
       "         6.39245574e-07,  3.44223404e-07,  1.81836688e-06]])"
      ]
     },
     "execution_count": 33,
     "metadata": {},
     "output_type": "execute_result"
    }
   ],
   "source": [
    "TotalSystCovMatrixNorm_AllVar_from_self = np.matmul(np.matmul(dfdn, TotalSystCovMatrix_AllVar_from_self), dfdn.T)\n",
    "TotalSystCovMatrixNorm_AllVar_from_self"
   ]
  },
  {
   "cell_type": "code",
   "execution_count": 34,
   "metadata": {
    "collapsed": true
   },
   "outputs": [],
   "source": [
    "np.savetxt('SystCovMatrixNorm_2D_mttbar_updated_reg.txt', TotalSystCovMatrixNorm_AllVar_from_self)"
   ]
  },
  {
   "cell_type": "code",
   "execution_count": null,
   "metadata": {
    "collapsed": true
   },
   "outputs": [],
   "source": []
  }
 ],
 "metadata": {
  "kernelspec": {
   "display_name": "Coffea DASK pyROOT ML [AF]",
   "language": "python",
   "name": "coffea_dask_pyroot_ml"
  },
  "language_info": {
   "codemirror_mode": {
    "name": "ipython",
    "version": 3
   },
   "file_extension": ".py",
   "mimetype": "text/x-python",
   "name": "python",
   "nbconvert_exporter": "python",
   "pygments_lexer": "ipython3",
   "version": "3.8.8"
  }
 },
 "nbformat": 4,
 "nbformat_minor": 2
}
