{
 "cells": [
  {
   "cell_type": "code",
   "execution_count": 1,
   "metadata": {},
   "outputs": [
    {
     "name": "stdout",
     "output_type": "stream",
     "text": [
      "Welcome to JupyROOT 6.22/08\n"
     ]
    }
   ],
   "source": [
    "import uproot\n",
    "from ROOT import TFile, TH1D, TH2D, TUnfoldBinning, TUnfoldBinningXML\n",
    "import hist\n",
    "import os\n",
    "import numpy as np\n",
    "import argparse\n",
    "import awkward as ak\n",
    "from uncertainties import ufloat, unumpy\n",
    "from time import time"
   ]
  },
  {
   "cell_type": "markdown",
   "metadata": {},
   "source": [
    "import uproot\n",
    "from ROOT import TFile, TH1D, TH2D\n",
    "import hist\n",
    "import os\n",
    "import numpy as np\n",
    "import argparse\n",
    "from array import array\n",
    "import awkward as ak\n",
    "from uncertainties import ufloat, unumpy\n",
    "import matplotlib.pyplot as plt\n",
    "import mplhep"
   ]
  },
  {
   "cell_type": "code",
   "execution_count": 2,
   "metadata": {
    "collapsed": true
   },
   "outputs": [],
   "source": [
    "def remove_underoverflow(histogram, doGen = 1 , doReco = 1):\n",
    "\n",
    "    if len(histogram.shape) == 1:\n",
    "        \n",
    "        x_range = len(histogram[:]) - 1\n",
    "\n",
    "        histogram[1] = histogram[0] + histogram[1]\n",
    "        histogram[0] = histogram[0] - histogram[0]\n",
    "    \n",
    "        histogram[x_range - 1] = histogram[x_range] + histogram[x_range - 1]\n",
    "        histogram[x_range] = histogram[x_range] - histogram[x_range]\n",
    "    \n",
    "    elif len(histogram.shape) == 2:\n",
    "        \n",
    "        x_range = len(histogram[:,0]) - 1 \n",
    "        y_range = len(histogram[0,:]) - 1\n",
    "        \n",
    "        if doGen:\n",
    "            histogram[1,:] = histogram[0,:] + histogram[1,:]\n",
    "            histogram[0,:] = histogram[0,:] - histogram[0,:]\n",
    "        \n",
    "        if doReco:\n",
    "            histogram[:,1] = histogram[:,0] + histogram[:,1]\n",
    "            histogram[:,0] = histogram[:,0] - histogram[:,0]\n",
    "    \n",
    "        if doGen:\n",
    "            histogram[x_range - 1,:] = histogram[x_range,:] + histogram[x_range - 1,:]\n",
    "            histogram[x_range,:] = histogram[x_range,:] - histogram[x_range,:]\n",
    "\n",
    "        if doReco:\n",
    "            histogram[:,y_range - 1] = histogram[:,y_range] + histogram[:,y_range - 1]\n",
    "            histogram[:,y_range] = histogram[:,y_range] - histogram[:,y_range]\n",
    "        \n",
    "        \n",
    "    elif len(histogram.shape) == 3:\n",
    "        \n",
    "        x_range = len(histogram[:,0,0]) - 1\n",
    "        y_range = len(histogram[0,:,0]) - 1\n",
    "        z_range = len(histogram[0,0,:]) - 1\n",
    "\n",
    "        histogram[1,:,:] = histogram[0,:,:] + histogram[1,:,:]\n",
    "        histogram[0,:,:] = histogram[0,:,:] - histogram[0,:,:]\n",
    "        histogram[:,1,:] = histogram[:,0,:] + histogram[:,1,:]\n",
    "        histogram[:,0,:] = histogram[:,0,:] - histogram[:,0,:]\n",
    "        histogram[:,:,1] = histogram[:,:,0] + histogram[:,:,1]\n",
    "        histogram[:,:,0] = histogram[:,:,0] - histogram[:,:,0]\n",
    "    \n",
    "        histogram[x_range - 1,:,:] = histogram[x_range,:,:] + histogram[x_range - 1,:,:]\n",
    "        histogram[x_range,:,:] = histogram[x_range,:,:] - histogram[x_range,:,:]\n",
    "        histogram[:,y_range - 1,:] = histogram[:,y_range,:] + histogram[:,y_range - 1,:]\n",
    "        histogram[:,y_range,:] = histogram[:,y_range,:] - histogram[:,y_range,:]\n",
    "        histogram[:,:,z_range - 1] = histogram[:,:,z_range] + histogram[:,:,z_range - 1]\n",
    "        histogram[:,:,z_range] = histogram[:,:,z_range] - histogram[:,:,z_range]\n",
    "        \n",
    "    elif len(histogram.shape) == 4:\n",
    "\n",
    "        w_range = len(histogram[:,0,0,0]) - 1\n",
    "        x_range = len(histogram[0,:,0,0]) - 1\n",
    "        y_range = len(histogram[0,0,:,0]) - 1\n",
    "        z_range = len(histogram[0,0,0,:]) - 1\n",
    "\n",
    "        if doGen:\n",
    "            histogram[1,:,:,:] = histogram[0,:,:,:] + histogram[1,:,:,:]\n",
    "            histogram[0,:,:,:] = histogram[0,:,:,:] - histogram[0,:,:,:]\n",
    "            histogram[:,1,:,:] = histogram[:,0,:,:] + histogram[:,1,:,:]\n",
    "            histogram[:,0,:,:] = histogram[:,0,:,:] - histogram[:,0,:,:]\n",
    "        \n",
    "        if doReco:\n",
    "            histogram[:,:,1,:] = histogram[:,:,0,:] + histogram[:,:,1,:]\n",
    "            histogram[:,:,0,:] = histogram[:,:,0,:] - histogram[:,:,0,:]\n",
    "            histogram[:,:,:,1] = histogram[:,:,:,0] + histogram[:,:,:,1]\n",
    "            histogram[:,:,:,0] = histogram[:,:,:,0] - histogram[:,:,:,0]\n",
    "\n",
    "        if doGen:\n",
    "            histogram[w_range - 1,:,:,:] = histogram[w_range,:,:,:] + histogram[w_range - 1,:,:,:]\n",
    "            histogram[w_range,:,:,:] = histogram[w_range,:,:,:] - histogram[w_range,:,:,:]\n",
    "            histogram[:,x_range - 1,:,:] = histogram[:,x_range,:,:] + histogram[:,x_range - 1,:,:]\n",
    "            histogram[:,x_range,:,:] = histogram[:,x_range,:,:] - histogram[:,x_range,:,:]\n",
    "\n",
    "        if doReco:\n",
    "            histogram[:,:,y_range - 1,:] = histogram[:,:,y_range,:] + histogram[:,:,y_range - 1,:]\n",
    "            histogram[:,:,y_range,:] = histogram[:,:,y_range,:] - histogram[:,:,y_range,:]\n",
    "            histogram[:,:,:,z_range - 1] = histogram[:,:,:,z_range] + histogram[:,:,:,z_range - 1]\n",
    "            histogram[:,:,:,z_range] = histogram[:,:,:,z_range] - histogram[:,:,:,z_range]\n",
    "    \n",
    "    return histogram"
   ]
  },
  {
   "cell_type": "code",
   "execution_count": 3,
   "metadata": {
    "collapsed": true
   },
   "outputs": [],
   "source": [
    "def compute_response_matrix(var_name, gen_axes, reco_axes, gen_step8_data, step8_data, gen_step0_data, gen_step8_weights, step8_weights, gen_step0_weights):\n",
    "\n",
    "    axes = gen_axes + reco_axes\n",
    "\n",
    "    response_matrix = hist.Hist(*axes, storage=hist.storage.Weight())\n",
    "    response_matrix_genUnderflow = hist.Hist(*axes, storage=hist.storage.Weight())\n",
    "    response_matrix_genUnderflowCorrection = hist.Hist(*axes, storage=hist.storage.Weight())\n",
    "\n",
    "    # fill the reconstructed events\n",
    "    response_matrix.fill(*gen_step8_data + step8_data, weight=step8_weights)\n",
    "    \n",
    "    #remove_underoverflow(response_matrix.values(flow=True))    \n",
    "    #remove_underoverflow(response_matrix.variances(flow=True))\n",
    "\n",
    "    # fill the generator level events in the reconstruction underflow bin\n",
    "    # this is back at step0 so that we can unfold back to full phase space\n",
    "    response_matrix_genUnderflow.fill(*gen_step0_data + [(reco_axes[j][0][0] - 1)*np.ones(len(gen_step0_data[0])) for j in range(0,len(reco_axes))], weight=gen_step0_weights)\n",
    "    #remove_underoverflow(response_matrix_genUnderflow.values(flow=True), 1, 0)    \n",
    "    #remove_underoverflow(response_matrix_genUnderflow.variances(flow=True), 1, 0)\n",
    "    \n",
    "    # next create a separate response matrix to fill the reco weights\n",
    "    # this is because we need to subtract the entries AND variances and can't\n",
    "    # do that with a \"simple\" negative weight (this would only subtract entries,\n",
    "    # variances are sum of weights squared)\n",
    "\n",
    "    # fill this new matrix\n",
    "    response_matrix_genUnderflowCorrection.fill(*gen_step8_data + [(reco_axes[j][0][0] - 1)*np.ones(len(gen_step8_data[0])) for j in range(0,len(reco_axes))], weight=step8_weights)\n",
    "    #remove_underoverflow(response_matrix_genUnderflowCorrection.values(flow=True), 1, 0)    \n",
    "    #remove_underoverflow(response_matrix_genUnderflowCorrection.variances(flow=True), 1, 0)\n",
    "    \n",
    "    # set values and variances equal to the difference between response_matrix\n",
    "    # and _response_matrix to account for these events that aren't reconstructed\n",
    "    response_matrix[...] = np.concatenate(\n",
    "        ((response_matrix.values(flow=True) + response_matrix_genUnderflow.values(flow=True) - response_matrix_genUnderflowCorrection.values(flow=True))[..., None],\n",
    "         (response_matrix.variances(flow=True) + response_matrix_genUnderflow.variances(flow=True) - response_matrix_genUnderflowCorrection.variances(flow=True))[..., None]),\n",
    "        axis=len(axes)\n",
    "    )\n",
    "\n",
    "    return response_matrix\n"
   ]
  },
  {
   "cell_type": "code",
   "execution_count": 98,
   "metadata": {
    "collapsed": true
   },
   "outputs": [],
   "source": [
    "def compute_reco(var_name, reco_axes, step8_data, step8_weights, symmetrize = False):\n",
    "    \n",
    "    reco = hist.Hist(*reco_axes, storage=hist.storage.Weight())\n",
    "    \n",
    "    if symmetrize == False:\n",
    "        reco.fill(*step8_data, weight=step8_weights)\n",
    "    elif symmetrize == True:\n",
    "        reco.fill(*[1.0*np.array(step8_data[0])] + [data for data in step8_data[1:] if step8_data[1:]], weight=(0.5*np.array(step8_weights)))\n",
    "        reco.fill(*[-1.0*np.array(step8_data[0])] + [data for data in step8_data[1:] if step8_data[1:]], weight=(0.5*np.array(step8_weights)))\n",
    "        reco.variances(flow=True)[...] = 2.0 * reco.variances(flow=True)[...] \n",
    "    remove_underoverflow(reco.values(flow=True))    \n",
    "    remove_underoverflow(reco.variances(flow=True))\n",
    "    \n",
    "    return reco"
   ]
  },
  {
   "cell_type": "code",
   "execution_count": 5,
   "metadata": {
    "collapsed": true
   },
   "outputs": [],
   "source": [
    "def compute_gen(var_name, gen_axes, gen_step0_data, gen_step0_weights):\n",
    "    \n",
    "    gen = hist.Hist(*gen_axes, storage=hist.storage.Weight())\n",
    "    \n",
    "    gen.fill(*gen_step0_data, weight=gen_step0_weights)\n",
    "    \n",
    "    remove_underoverflow(gen.values(flow=True))    \n",
    "    remove_underoverflow(gen.variances(flow=True))\n",
    "\n",
    "    return gen"
   ]
  },
  {
   "cell_type": "code",
   "execution_count": 6,
   "metadata": {
    "collapsed": true
   },
   "outputs": [],
   "source": [
    "def compute_resolution(var_name, residual_axes, gen_axes, step8_data, gen_step8_data, step8_weights):\n",
    "    \n",
    "    axes = residual_axes + gen_axes\n",
    "    \n",
    "    resolution = hist.Hist(*axes, storage=hist.storage.Weight())\n",
    "    resolution.fill(*np.subtract(step8_data, gen_step8_data), *gen_step8_data, weight=step8_weights)\n",
    "    \n",
    "    remove_underoverflow(resolution.values(flow=True))    \n",
    "    remove_underoverflow(resolution.variances(flow=True))\n",
    "    \n",
    "    return resolution"
   ]
  },
  {
   "cell_type": "code",
   "execution_count": 7,
   "metadata": {
    "collapsed": true
   },
   "outputs": [],
   "source": [
    "era = '2016ULpostVFP'\n",
    "\n",
    "#filename = 'emu_ttbarsignalplustau_fromDilepton_2017UL_0.root'\n",
    "#dir_name = '/mnt/hadoop/store/group/local/cmstop/jthiema/2017/spinCorrInput_2017UL_DeepJet_August2022'\n",
    "\n",
    "#filename = 'emu_ttbarsignalplustau.root'\n",
    "#dir_name = '/mnt/hadoop/store/group/local/cmstop/jthiema/2016_old/spinCorrInputUnsymmetrized_2016'\n",
    "\n",
    "filename = 'emu_ttbarsignalplustau_fromDilepton_2016ULpostVFP_0.root'\n",
    "dir_name = '/depot/cms/top/jthiema/AnalysisFramework/TopSpinCorr_FullRunIIUL_September2022/CMSSW_10_6_30/src/TopAnalysis/Configuration/analysis/diLeptonic/spinCorrInput_2016postVFP'\n",
    "\n",
    "systematic = 'Nominal'\n",
    "channel = 'emu'"
   ]
  },
  {
   "cell_type": "code",
   "execution_count": 8,
   "metadata": {},
   "outputs": [
    {
     "name": "stdout",
     "output_type": "stream",
     "text": [
      "Processing: /depot/cms/top/jthiema/AnalysisFramework/TopSpinCorr_FullRunIIUL_September2022/CMSSW_10_6_30/src/TopAnalysis/Configuration/analysis/diLeptonic/spinCorrInput_2016postVFP/Nominal/emu/emu_ttbarsignalplustau_fromDilepton_2016ULpostVFP_0.root\n",
      "\n"
     ]
    }
   ],
   "source": [
    "dileptonic_dir = \"/depot/cms/top/jthiema/AnalysisFramework/TopSpinCorr_FullRunIIUL_April2022/CMSSW_10_6_29/src/TopAnalysis/Configuration/analysis/diLeptonic\"\n",
    "TUnfoldFileLists_dir = \"TUnfoldFileLists_\"+era.replace(\"UL\",\"\")\n",
    "TUnfoldFileList_filename = \"TUnfoldFileList_\"+systematic+\"_\"+channel+\".txt\"\n",
    "\n",
    "TUnfoldFileList = open(dileptonic_dir + \"/\" + TUnfoldFileLists_dir + \"/\" + TUnfoldFileList_filename, \"r\")\n",
    "\n",
    "filelist = TUnfoldFileList.readlines()\n",
    "\n",
    "for file in filelist:\n",
    "    print(\"Processing: \" + file)\n"
   ]
  },
  {
   "cell_type": "code",
   "execution_count": 9,
   "metadata": {
    "collapsed": true
   },
   "outputs": [],
   "source": [
    "file = \"/depot/cms/top/jthiema/AnalysisFramework/TopSpinCorr_FullRunIIUL_September2022/CMSSW_10_6_30/src/TopAnalysis/Configuration/analysis/diLeptonic/spinCorrInput_2016postVFP/Nominal/emu/emu_ttbarsignalplustau_fromDilepton_2016ULpostVFP_0.root\"\n",
    "\n",
    "# open the minitree\n",
    "step0tree = uproot.open(file+':ttBar_treeVariables_step0')\n",
    "step8tree = uproot.open(file+':ttBar_treeVariables_step8')\n"
   ]
  },
  {
   "cell_type": "code",
   "execution_count": 105,
   "metadata": {},
   "outputs": [
    {
     "name": "stdout",
     "output_type": "stream",
     "text": [
      "<TH1D (version 3) at 0x7f1d1cf3bf50>\n"
     ]
    }
   ],
   "source": [
    "\n",
    "weightedEvents = uproot.open(file+':weightedEvents')\n",
    "print(weightedEvents)"
   ]
  },
  {
   "cell_type": "code",
   "execution_count": 10,
   "metadata": {
    "collapsed": true
   },
   "outputs": [],
   "source": [
    "tree_vars = [\n",
    "    \"ll_cHel\",\"ll_cLab\",\"llbar_delta_phi\",\"llbar_delta_eta\",\n",
    "    \"b1k\",\"b2k\",\"b1r\",\"b2r\",\"b1n\",\"b2n\",\"b1j\",\"b2j\",\"b1q\",\"b2q\",\n",
    "    \"c_kk\",\"c_rr\",\"c_nn\",\"c_kj\",\"c_rq\",\"c_rq\",   \n",
    "    \"c_rk\",\"c_kr\",\"c_nr\",\"c_rn\",\"c_nk\",\"c_kn\",\n",
    "#    \"c_rj\",\"c_jr\",\n",
    "    \n",
    "    \"gen_ll_cHel\",\"gen_ll_cLab\",\"gen_llbar_delta_phi\",\"gen_llbar_delta_eta\",\n",
    "    \"gen_b1k\",\"gen_b2k\",\"gen_b1r\",\"gen_b2r\",\"gen_b1n\",\"gen_b2n\",\"gen_b1j\",\"gen_b2j\",\"gen_b1q\",\"gen_b2q\",\n",
    "    \"gen_c_kk\",\"gen_c_rr\",\"gen_c_nn\",\"gen_c_kj\",\"gen_c_rq\",\"gen_c_rq\",   \n",
    "    \"gen_c_rk\",\"gen_c_kr\",\"gen_c_nr\",\"gen_c_rn\",\"gen_c_nk\",\"gen_c_kn\",\n",
    "#    \"gen_c_rj\",\"gen_c_jr\",\n",
    "    \n",
    "    \"eventWeight\", \"trueLevelWeight\", \"entry\",\n",
    "    \"gen_ttbar_mass\", \"gen_top_scatteringangle_ttbarframe\",\n",
    "    \"ttbar_mass\", \"top_scatteringangle_ttbarframe\",\n",
    "\n",
    "    \"gen_l_pt\", \"gen_lbar_pt\", \"gen_l_eta\", \"gen_lbar_eta\", \n",
    "    \"gen_b_pt\", \"gen_bbar_pt\", \"gen_b_eta\", \"gen_bbar_eta\",\n",
    "    \"gen_l_pdgid\", \"gen_lbar_pdgid\",\n",
    "    ]"
   ]
  },
  {
   "cell_type": "code",
   "execution_count": 11,
   "metadata": {
    "collapsed": true
   },
   "outputs": [],
   "source": [
    "step0 = ak.Array(\n",
    "    ak.zip( dict( (var, step0tree[var].array()) for var in tree_vars ) )\n",
    ")\n",
    "\n",
    "#step0_mask = (step0.gen_l_pdgid*step0.gen_lbar_pdgid == -11*13)\n",
    "#step0 = step0_raw[step0_mask]\n",
    "#print(len(step0))\n",
    "\n",
    "step8 = ak.Array(\n",
    "    ak.zip( dict( (tree_var, step8tree[tree_var].array()) for tree_var in tree_vars ) )\n",
    ")\n"
   ]
  },
  {
   "cell_type": "code",
   "execution_count": 12,
   "metadata": {
    "collapsed": true
   },
   "outputs": [],
   "source": [
    "vars_dict = {\n",
    "    \"c_kk\" : {\"bin_edge_low\" : -1.0, \n",
    "                 \"bin_edge_high\" : 1.0, \n",
    "                 \"n_gen_bins\" : 6, \n",
    "                 \"n_reco_bins\" : 6, \n",
    "                 \"residual_bin_edge_low\" : -2.0, \n",
    "                 \"residual_bin_edge_high\" : 2.0, \n",
    "                 \"n_residual_bins\" : 20,\n",
    "                 \"gen_val_0\" : step0[\"gen_c_kk\"],\n",
    "                 \"val_8\" : step8[\"c_kk\"],\n",
    "                 \"gen_val_8\" : step8[\"gen_c_kk\"], \n",
    "                },\n",
    "}\n"
   ]
  },
  {
   "cell_type": "code",
   "execution_count": 13,
   "metadata": {
    "collapsed": true
   },
   "outputs": [],
   "source": [
    "gen_axes = [hist.axis.Regular(vars_dict[\"c_kk\"][\"n_gen_bins\"], vars_dict[\"c_kk\"][\"bin_edge_low\"], vars_dict[\"c_kk\"][\"bin_edge_high\"], name=\"gen_\"+\"c_kk\", label=\"gen_\"+\"c_kk\", underflow=True, overflow=True),]\n",
    "reco_axes = [hist.axis.Regular(vars_dict[\"c_kk\"][\"n_reco_bins\"], vars_dict[\"c_kk\"][\"bin_edge_low\"], vars_dict[\"c_kk\"][\"bin_edge_high\"], name=\"reco_\"+\"c_kk\", label=\"reco_\"+\"c_kk\", underflow=True, overflow=True)]\n",
    "residual_axes = [hist.axis.Regular(vars_dict[\"c_kk\"][\"n_residual_bins\"], vars_dict[\"c_kk\"][\"residual_bin_edge_low\"], vars_dict[\"c_kk\"][\"residual_bin_edge_high\"], name=\"residual_\"+\"c_kk\", label=\"residual_\"+\"c_kk\", underflow=True, overflow=True)]\n",
    "visgen_axes = [hist.axis.Regular(vars_dict[\"c_kk\"][\"n_gen_bins\"], vars_dict[\"c_kk\"][\"bin_edge_low\"], vars_dict[\"c_kk\"][\"bin_edge_high\"], name=\"visgen_\"+\"c_kk\", label=\"visgen_\"+\"c_kk\", underflow=True, overflow=True),]"
   ]
  },
  {
   "cell_type": "code",
   "execution_count": 24,
   "metadata": {},
   "outputs": [
    {
     "data": {
      "text/plain": [
       "ColormeshArtists(pcolormesh=<matplotlib.collections.QuadMesh object at 0x7f1d1d795a10>, cbar=<matplotlib.colorbar.Colorbar object at 0x7f1d1d73f890>, text=[])"
      ]
     },
     "execution_count": 24,
     "metadata": {},
     "output_type": "execute_result"
    },
    {
     "data": {
      "image/png": "[encoded data removed]",
      "text/plain": [
       "<Figure size 640x480 with 2 Axes>"
      ]
     },
     "metadata": {},
     "output_type": "display_data"
    }
   ],
   "source": [
    "resmat = compute_response_matrix(\"c_kk\", gen_axes, reco_axes, [vars_dict[\"c_kk\"][\"gen_val_8\"]], [vars_dict[\"c_kk\"][\"val_8\"]], [vars_dict[\"c_kk\"][\"gen_val_0\"]], [step8['trueLevelWeight']], [step8['eventWeight']], [step0['trueLevelWeight']])\n",
    "resmat.plot()\n",
    "#resmat.view(flow=True)\n"
   ]
  },
  {
   "cell_type": "code",
   "execution_count": 15,
   "metadata": {
    "collapsed": true
   },
   "outputs": [],
   "source": [
    "def Convert_to_TH2(prefix, var, hist2D):\n",
    "\n",
    "    TH2 = TH2D(prefix+\"_\"+var, \n",
    "               prefix+\"_\"+var, \n",
    "               hist2D.values(flow=False).shape[0], \n",
    "               vars_dict[var][\"bin_edge_low\"], \n",
    "               vars_dict[var][\"bin_edge_high\"],\n",
    "               hist2D.values(flow=False).shape[1], \n",
    "               vars_dict[var][\"bin_edge_low\"], \n",
    "               vars_dict[var][\"bin_edge_high\"]\n",
    "              )\n",
    "    TH2.Sumw2()\n",
    "    \n",
    "    i_range = hist2D.values(flow=False).shape[0]+1\n",
    "    j_range = hist2D.values(flow=False).shape[1]+1\n",
    "\n",
    "    for i in range(0,i_range):\n",
    "        for j in range(0,j_range):\n",
    "            TH2.SetBinContent(i,j,hist2D.values(flow=True)[i,j])\n",
    "            TH2.SetBinError(i,j,np.sqrt(hist2D.variances(flow=True)[i,j]))\n",
    "\n",
    "    return TH2"
   ]
  },
  {
   "cell_type": "code",
   "execution_count": 35,
   "metadata": {},
   "outputs": [
    {
     "name": "stdout",
     "output_type": "stream",
     "text": [
      "[[-0.03529958  0.07242516  0.29443428 ...  0.03986717  0.07115263\n",
      "   0.3994624 ]]\n"
     ]
    }
   ],
   "source": [
    "print(0.5*np.array([vars_dict[\"c_kk\"][\"val_8\"]]))"
   ]
  },
  {
   "cell_type": "code",
   "execution_count": 89,
   "metadata": {},
   "outputs": [
    {
     "data": {
      "text/plain": [
       "WeightedSumView(\n",
       "      [(      0.        , 0.00000000e+00),\n",
       "       ( 196807.56356144, 1.33624750e+07),\n",
       "       ( 807535.03640847, 5.49267202e+07),\n",
       "       (2442631.68793726, 1.66173882e+08),\n",
       "       (2442631.68793726, 1.66173882e+08),\n",
       "       ( 807535.03640847, 5.49267202e+07),\n",
       "       ( 196807.56356144, 1.33624750e+07),\n",
       "       (      0.        , 0.00000000e+00)],\n",
       "      dtype=[('value', '<f8'), ('variance', '<f8')])"
      ]
     },
     "execution_count": 89,
     "metadata": {},
     "output_type": "execute_result"
    },
    {
     "data": {
      "image/png": "[encoded data removed]",
      "text/plain": [
       "<Figure size 640x480 with 1 Axes>"
      ]
     },
     "metadata": {},
     "output_type": "display_data"
    }
   ],
   "source": [
    "\n",
    "reco = compute_reco('c_kk', reco_axes, [vars_dict[\"c_kk\"][\"val_8\"]], [step8['eventWeight']], True)\n",
    "reco.plot()\n",
    "reco.view(flow=True)\n",
    "#reco"
   ]
  },
  {
   "cell_type": "code",
   "execution_count": 90,
   "metadata": {},
   "outputs": [
    {
     "data": {
      "text/plain": [
       "WeightedSumView(\n",
       "      [(      0.        , 0.00000000e+00),\n",
       "       ( 243554.57153511, 1.64450578e+07),\n",
       "       ( 986518.76246802, 6.68701987e+07),\n",
       "       (2627284.54868793, 1.78669391e+08),\n",
       "       (2257978.82718658, 1.53678374e+08),\n",
       "       ( 628551.31034893, 4.29832417e+07),\n",
       "       ( 150060.55558777, 1.02798922e+07),\n",
       "       (      0.        , 0.00000000e+00)],\n",
       "      dtype=[('value', '<f8'), ('variance', '<f8')])"
      ]
     },
     "execution_count": 90,
     "metadata": {},
     "output_type": "execute_result"
    },
    {
     "data": {
      "image/png": "[encoded data removed]",
      "text/plain": [
       "<Figure size 640x480 with 1 Axes>"
      ]
     },
     "metadata": {},
     "output_type": "display_data"
    }
   ],
   "source": [
    "\n",
    "reco = compute_reco('c_kk', reco_axes, [vars_dict[\"c_kk\"][\"val_8\"]], [step8['eventWeight']], False)\n",
    "reco\n",
    "reco.plot()\n",
    "reco.view(flow=True)"
   ]
  },
  {
   "cell_type": "code",
   "execution_count": null,
   "metadata": {
    "collapsed": true
   },
   "outputs": [],
   "source": [
    "gen = compute_reco('ll_cHel', gen_axes, [vars_dict[\"ll_cHel\"][\"gen_val_0\"]], [step0['trueLevelWeight']])\n",
    "gen.plot()\n",
    "gen.view(flow=True)\n",
    "gen"
   ]
  },
  {
   "cell_type": "code",
   "execution_count": null,
   "metadata": {
    "collapsed": true
   },
   "outputs": [],
   "source": [
    "resolution = compute_resolution('c_kk', residual_axes, gen_axes, [vars_dict[\"c_kk\"][\"val_8\"]], [vars_dict[\"c_kk\"][\"gen_val_8\"]], [step8['eventWeight']])\n",
    "resolution.plot2d_full()\n",
    "#resolution.view(flow=True)"
   ]
  },
  {
   "cell_type": "code",
   "execution_count": null,
   "metadata": {
    "collapsed": true
   },
   "outputs": [],
   "source": [
    "\n"
   ]
  },
  {
   "cell_type": "code",
   "execution_count": null,
   "metadata": {
    "collapsed": true
   },
   "outputs": [],
   "source": []
  },
  {
   "cell_type": "code",
   "execution_count": null,
   "metadata": {
    "collapsed": true
   },
   "outputs": [],
   "source": [
    "visgen_mask = (step0.gen_l_pt > 20.0) & (step0.gen_lbar_pt > 20.0) & (abs(step0.gen_l_eta) < 2.4) & (abs(step0.gen_lbar_eta) < 2.4) & (step0.gen_b_pt > 30) & (step0.gen_bbar_pt > 30) & (abs(step0.gen_b_eta) < 2.4) & (abs(step0.gen_bbar_eta) < 2.4)\n",
    "visgen_step0 = step0[visgen_mask]\n",
    "h_visgen = hist.Hist(\n",
    "    *[visgen_axes][0],\n",
    "    storage=hist.storage.Weight()\n",
    ")\n",
    "h_visgen.fill(*[visgen_step0[\"gen_ll_cHel\"]], weight=[visgen_step0['trueLevelWeight']])\n",
    "h_visgen.view(flow=True)"
   ]
  },
  {
   "cell_type": "code",
   "execution_count": null,
   "metadata": {
    "collapsed": true
   },
   "outputs": [],
   "source": []
  },
  {
   "cell_type": "code",
   "execution_count": 99,
   "metadata": {
    "collapsed": true
   },
   "outputs": [],
   "source": [
    "binning_ttbar_mass = [300, 450, 600, 800, 2000]\n",
    "binning_top_scatteringangle_ttbarframe = [-1.0, -0.5, 0.0, +0.5, +1.0]\n",
    "nFineBins = 1\n",
    "\n",
    "vars2D_dict = {\n",
    "    \"ttbar_mass\" : {\"reco_binning\" : sum([[binning_ttbar_mass[j]+(binning_ttbar_mass[j+1]-binning_ttbar_mass[j])*(i/nFineBins) for i in range (0,nFineBins)] for j in range(0,len(binning_ttbar_mass)-1)] + [[binning_ttbar_mass[len(binning_ttbar_mass)-1]]],[]),\n",
    "                    \"gen_binning\" : sum([[binning_ttbar_mass[j]+(binning_ttbar_mass[j+1]-binning_ttbar_mass[j])*(i/nFineBins) for i in range (0,nFineBins)] for j in range(0,len(binning_ttbar_mass)-1)] + [[binning_ttbar_mass[len(binning_ttbar_mass)-1]]],[]),\n",
    "                    \"gen_val_0\" : step0[\"gen_ttbar_mass\"],\n",
    "                    \"val_8\" : step8[\"ttbar_mass\"],\n",
    "                    \"gen_val_8\" : step8[\"gen_ttbar_mass\"], \n",
    "                   },\n",
    "    \n",
    "    \"top_scatteringangle_ttbarframe\" : {\"reco_binning\" : sum([[binning_top_scatteringangle_ttbarframe[j]+(binning_top_scatteringangle_ttbarframe[j+1]-binning_top_scatteringangle_ttbarframe[j])*(i/nFineBins) for i in range (0,nFineBins)] for j in range(0,len(binning_top_scatteringangle_ttbarframe)-1)] + [[binning_top_scatteringangle_ttbarframe[len(binning_top_scatteringangle_ttbarframe)-1]]],[]),\n",
    "                                        \"gen_binning\" : sum([[binning_top_scatteringangle_ttbarframe[j]+(binning_top_scatteringangle_ttbarframe[j+1]-binning_top_scatteringangle_ttbarframe[j])*(i/nFineBins) for i in range (0,nFineBins)] for j in range(0,len(binning_top_scatteringangle_ttbarframe)-1)] + [[binning_top_scatteringangle_ttbarframe[len(binning_top_scatteringangle_ttbarframe)-1]]],[]),\n",
    "                                        \"gen_val_0\" : step0[\"gen_top_scatteringangle_ttbarframe\"],\n",
    "                                        \"val_8\" : step8[\"top_scatteringangle_ttbarframe\"],\n",
    "                                        \"gen_val_8\" : step8[\"gen_top_scatteringangle_ttbarframe\"], \n",
    "\n",
    "                                       },\n",
    "}"
   ]
  },
  {
   "cell_type": "code",
   "execution_count": 100,
   "metadata": {
    "collapsed": true
   },
   "outputs": [],
   "source": [
    "def FineBinning(Old_Binning, nFineBins):\n",
    "    New_Binning = sum([[Old_Binning[j]+(Old_Binning[j+1]-Old_Binning[j])*(i/nFineBins) for i in range (0,nFineBins)] for j in range(0,len(Old_Binning)-1)] + [[Old_Binning[len(Old_Binning)-1]]],[]\\\n",
    ")\n",
    "    return New_Binning"
   ]
  },
  {
   "cell_type": "code",
   "execution_count": 101,
   "metadata": {
    "collapsed": true
   },
   "outputs": [],
   "source": [
    "reco_axes_2D = [hist.axis.Variable(vars2D_dict[\"ttbar_mass\"][\"reco_binning\"], name=\"reco2D_\"+\"ttbar_mass\", label=\"reco2D_\"+\"ttbar_mass\", underflow=True, overflow=True),]\n",
    "gen_axes_2D = [hist.axis.Variable(vars2D_dict[\"ttbar_mass\"][\"gen_binning\"], name=\"gen2D_\"+\"ttbar_mass\", label=\"gen2D_\"+\"ttbar_mass\", underflow=True, overflow=True),]"
   ]
  },
  {
   "cell_type": "code",
   "execution_count": 102,
   "metadata": {},
   "outputs": [
    {
     "data": {
      "text/plain": [
       "(ColormeshArtists(pcolormesh=<matplotlib.collections.QuadMesh object at 0x7f1d1cd29a90>, cbar=None, text=[]),\n",
       " [StairsArtists(stairs=<matplotlib.patches.StepPatch object at 0x7f1d1cd36250>, errorbar=<ErrorbarContainer object of 3 artists>, legend_artist=<ErrorbarContainer object of 3 artists>)],\n",
       " [StairsArtists(stairs=<matplotlib.patches.StepPatch object at 0x7f1d1ccec050>, errorbar=<ErrorbarContainer object of 3 artists>, legend_artist=<ErrorbarContainer object of 3 artists>)])"
      ]
     },
     "execution_count": 102,
     "metadata": {},
     "output_type": "execute_result"
    },
    {
     "data": {
      "image/png": "[encoded data removed]",
      "text/plain": [
       "<Figure size 640x480 with 3 Axes>"
      ]
     },
     "metadata": {},
     "output_type": "display_data"
    }
   ],
   "source": [
    "reco2D = compute_reco(\"c_kk_vs_ttbar_mass\", reco_axes+reco_axes_2D, [vars_dict[\"c_kk\"][\"val_8\"]]+[vars2D_dict[\"ttbar_mass\"][\"val_8\"]], [step8['eventWeight']], True)\n",
    "reco2D.plot2d_full()\n",
    "#reco2D.view(flow=True)"
   ]
  },
  {
   "cell_type": "code",
   "execution_count": null,
   "metadata": {
    "collapsed": true
   },
   "outputs": [],
   "source": [
    "step0 = ak.Array(\n",
    "    ak.zip( dict( (var, step0tree[var].array()) for var in tree_vars ) )\n",
    ")\n",
    "\n",
    "step8 = ak.Array(\n",
    "    ak.zip( dict( (var, step8tree[var].array()) for var in tree_vars ) )\n",
    ")"
   ]
  },
  {
   "cell_type": "code",
   "execution_count": null,
   "metadata": {
    "collapsed": true
   },
   "outputs": [],
   "source": [
    "resmat2D = compute_response_matrix(\"ll_cHel\", \n",
    "                                   gen_axes+gen_axes_2D, \n",
    "                                   reco_axes+reco_axes_2D, \n",
    "                                   [vars_dict[\"ll_cHel\"][\"gen_val_8\"],vars2D_dict[\"ttbar_mass\"][\"gen_val_8\"]], \n",
    "                                   [vars_dict[\"ll_cHel\"][\"val_8\"],vars2D_dict[\"ttbar_mass\"][\"val_8\"]], \n",
    "                                   [vars_dict[\"ll_cHel\"][\"gen_val_0\"],vars2D_dict[\"ttbar_mass\"][\"gen_val_0\"]], \n",
    "                                   [step8['trueLevelWeight']], \n",
    "                                   [step8['eventWeight']], \n",
    "                                   [step0['trueLevelWeight']])\n",
    "\n",
    "\n",
    "\n",
    "resmat2D[:,1,:,1].plot2d_full()\n",
    "\n",
    "i_range = resmat2D.view(flow=False).shape[1]\n",
    "j_range = resmat2D.view(flow=False).shape[3]\n",
    "m_range = resmat2D[:,0,:,0].view(flow=False).shape[0]\n",
    "n_range = resmat2D[:,0,:,0].view(flow=False).shape[1]\n",
    "\n",
    "resmat2D_unwrapped_values = np.zeros((i_range*m_range,j_range*n_range))\n",
    "resmat2D_unwrapped_variances = np.zeros((i_range*m_range,j_range*n_range))\n",
    "\n",
    "for i in range(0,i_range):\n",
    "    for j in range(0,j_range):\n",
    "        #print(resmat2D.view[:,i,:,j](flow=False))\n",
    "        for m in range(0,m_range):\n",
    "            for n in range(0,n_range):\n",
    "                #print(i*m_range + m,j*n_range + n)\n",
    "                resmat2D_unwrapped_values[i*m_range + m,j*n_range + n] = resmat2D.values(flow=False)[m,i,n,j]\n",
    "                resmat2D_unwrapped_variances[i*m_range + m,j*n_range + n] = resmat2D.variances(flow=False)[m,i,n,j]\n",
    "#for m in range(0,resmat2D[:,1,:,1].view(flow=False).shape[0]):\n",
    "#    for n in range(0,resmat2D[:,1,:,1].view(flow=False).shape[1]):\n",
    "#        print(resmat2D.view(flow=False)[m,1,n,1])\n",
    "\n",
    "#print(resmat2D_unwrapped_values)"
   ]
  },
  {
   "cell_type": "code",
   "execution_count": null,
   "metadata": {
    "collapsed": true
   },
   "outputs": [],
   "source": [
    "h_resmat_2D = hist.Hist(\n",
    "    hist.axis.Regular(i_range*m_range, 0, i_range*m_range, name=\"gen\", label=\"gen\", underflow=True, overflow=True),\n",
    "    hist.axis.Regular(j_range*n_range, 0, j_range*n_range, name=\"reco\", label=\"reco\", underflow=True, overflow=True),\n",
    "    storage=hist.storage.Weight()\n",
    ")\n",
    "\n",
    "h_resmat_2D[...] = np.concatenate(\n",
    "        ((resmat2D_unwrapped_values)[..., None],\n",
    "         (resmat2D_unwrapped_variances)[..., None]),\n",
    "        axis=2\n",
    "    )\n",
    "h_resmat_2D.plot2d_full()"
   ]
  },
  {
   "cell_type": "code",
   "execution_count": null,
   "metadata": {
    "collapsed": true
   },
   "outputs": [],
   "source": [
    "gen2D = compute_reco('ll_cHel', gen_axes+reco_axes_2D, [vars_dict[\"ll_cHel\"][\"gen_val_0\"],vars2D_dict[\"ttbar_mass\"][\"gen_val_0\"]], [step0['trueLevelWeight']])\n",
    "#gen2D.view(flow=True)"
   ]
  },
  {
   "cell_type": "code",
   "execution_count": null,
   "metadata": {
    "collapsed": true,
    "jupyter": {
     "outputs_hidden": true
    }
   },
   "outputs": [],
   "source": []
  },
  {
   "cell_type": "code",
   "execution_count": null,
   "metadata": {
    "collapsed": true
   },
   "outputs": [],
   "source": [
    "gen2D.plot2d_full()"
   ]
  },
  {
   "cell_type": "code",
   "execution_count": null,
   "metadata": {
    "collapsed": true
   },
   "outputs": [],
   "source": [
    "reco_axes_unwrapped = [hist.axis.Regular(vars_dict[\"ll_cHel\"][\"n_reco_bins\"]*(len(vars2D_dict[\"ttbar_mass\"][\"binning\"])-1), 0, vars_dict[\"ll_cHel\"][\"n_reco_bins\"]*(len(vars2D_dict[\"ttbar_mass\"][\"binning\"])-1), name=\"\", label=\"\", underflow=True, overflow=True)]\n",
    "hgen2D_unwrapped = hist.Hist(\n",
    "    *reco_axes_unwrapped,\n",
    "    storage=hist.storage.Weight()\n",
    ")\n",
    "\n",
    "print(len(hgen2D_unwrapped.view(flow=False)))\n",
    "\n",
    "print(len(vars2D_dict[\"ttbar_mass\"][\"binning\"])-1)\n",
    "print(vars_dict[\"ll_cHel\"][\"n_reco_bins\"])\n",
    "\n",
    "gen2D_unwrapped = np.zeros(vars_dict[\"ll_cHel\"][\"n_reco_bins\"]*(len(vars2D_dict[\"ttbar_mass\"][\"binning\"])-1))\n",
    "\n",
    "for j in range(0,len(vars2D_dict[\"ttbar_mass\"][\"binning\"])-1):\n",
    "    for i in range(0,vars_dict[\"ll_cHel\"][\"n_gen_bins\"]):\n",
    "        #print(j*vars_dict[\"ll_cHel\"][\"n_gen_bins\"]+i)\n",
    "        #print(gen2D[i,j].value)\n",
    "        gen2D_unwrapped[j*vars_dict[\"ll_cHel\"][\"n_gen_bins\"]+i] = gen2D.values()[i,j]\n",
    "        #h2D_PE.SetBinContent(i*vars_dict[var1D][0]+j,hist2D_PE[j,i].value)\n",
    "        #h2D_PE.SetBinError(i*vars_dict[var1D][0]+j,np.sqrt(hist2D_PE[j,i].variance))\n",
    "        \n",
    "print(len(gen2D_unwrapped))\n",
    "print(gen2D_unwrapped)\n",
    "\n",
    "hgen2D_unwrapped[...] = gen2D_unwrapped[..., None]\n"
   ]
  },
  {
   "cell_type": "code",
   "execution_count": null,
   "metadata": {
    "collapsed": true,
    "scrolled": true
   },
   "outputs": [],
   "source": []
  },
  {
   "cell_type": "code",
   "execution_count": null,
   "metadata": {
    "collapsed": true
   },
   "outputs": [],
   "source": []
  },
  {
   "cell_type": "code",
   "execution_count": null,
   "metadata": {
    "collapsed": true
   },
   "outputs": [],
   "source": []
  },
  {
   "cell_type": "code",
   "execution_count": null,
   "metadata": {
    "collapsed": true
   },
   "outputs": [],
   "source": [
    "print(step0.gen_l_pt)\n",
    "print(step0['gen_l_pt'])"
   ]
  },
  {
   "cell_type": "code",
   "execution_count": null,
   "metadata": {
    "collapsed": true
   },
   "outputs": [],
   "source": [
    "print(step0['gen_l_pt'])\n",
    "print(step0['entry'])\n",
    "len(step0['gen_l_pt'])"
   ]
  },
  {
   "cell_type": "code",
   "execution_count": null,
   "metadata": {
    "collapsed": true
   },
   "outputs": [],
   "source": [
    "print(visgen_step0['gen_l_pt'])\n",
    "len(visgen_step0)"
   ]
  },
  {
   "cell_type": "code",
   "execution_count": null,
   "metadata": {
    "collapsed": true
   },
   "outputs": [],
   "source": [
    "print(step0['gen_lbar_pt'])"
   ]
  },
  {
   "cell_type": "code",
   "execution_count": null,
   "metadata": {
    "collapsed": true
   },
   "outputs": [],
   "source": [
    "print(step0['gen_l_eta'])"
   ]
  },
  {
   "cell_type": "code",
   "execution_count": null,
   "metadata": {
    "collapsed": true
   },
   "outputs": [],
   "source": [
    "print(step0['gen_lbar_eta'])"
   ]
  },
  {
   "cell_type": "code",
   "execution_count": null,
   "metadata": {
    "collapsed": true
   },
   "outputs": [],
   "source": [
    "print(visgen_step0['gen_b_pt'])"
   ]
  },
  {
   "cell_type": "code",
   "execution_count": null,
   "metadata": {
    "collapsed": true
   },
   "outputs": [],
   "source": [
    "print(step0['gen_bbar_pt'])"
   ]
  },
  {
   "cell_type": "code",
   "execution_count": null,
   "metadata": {
    "collapsed": true
   },
   "outputs": [],
   "source": [
    "print(visgen_step0['gen_b_eta'])"
   ]
  },
  {
   "cell_type": "code",
   "execution_count": null,
   "metadata": {
    "collapsed": true
   },
   "outputs": [],
   "source": [
    "print(step0['gen_bbar_eta'])"
   ]
  },
  {
   "cell_type": "code",
   "execution_count": null,
   "metadata": {
    "collapsed": true
   },
   "outputs": [],
   "source": [
    "[vars_dict[\"ll_cHel\"][\"val_8\"]]"
   ]
  },
  {
   "cell_type": "code",
   "execution_count": null,
   "metadata": {
    "collapsed": true
   },
   "outputs": [],
   "source": []
  },
  {
   "cell_type": "code",
   "execution_count": null,
   "metadata": {
    "collapsed": true
   },
   "outputs": [],
   "source": [
    "resmat2D = compute_response_matrix(\"c_kk\", \n",
    "                                   gen_axes+gen_axes_2D, \n",
    "                                   reco_axes+reco_axes_2D, \n",
    "                                   [vars_dict[\"c_kk\"][\"gen_val_8\"],vars2D_dict[\"ttbar_mass\"][\"gen_val_8\"]], \n",
    "                                   [vars_dict[\"c_kk\"][\"val_8\"],vars2D_dict[\"ttbar_mass\"][\"val_8\"]], \n",
    "                                   [vars_dict[\"c_kk\"][\"gen_val_0\"],vars2D_dict[\"ttbar_mass\"][\"gen_val_0\"]], \n",
    "                                   [step8['trueLevelWeight']], \n",
    "                                   [step8['eventWeight']], \n",
    "                                   [step0['trueLevelWeight']])\n",
    "\n",
    "print(resmat2D.view(flow=True)[0][:][:][:])\n",
    "print(resmat2D.view(flow=True)[:][0][:][:])\n",
    "print(resmat2D.view(flow=True)[:][:][0][:])\n",
    "print(resmat2D.view(flow=True)[:][:][:][0])\n",
    "\n",
    "print(resmat2D.view(flow=True)[resmat2D.view(flow=True).shape[0]-2][:][:][:])\n",
    "print(resmat2D.view(flow=True)[:][resmat2D.view(flow=True).shape[1]-2][:][:])\n",
    "print(resmat2D.view(flow=True)[:][:][resmat2D.view(flow=True).shape[2]-2][:])\n",
    "print(resmat2D.view(flow=True)[:][:][:][resmat2D.view(flow=True).shape[3]-2])\n"
   ]
  },
  {
   "cell_type": "code",
   "execution_count": null,
   "metadata": {
    "collapsed": true
   },
   "outputs": [],
   "source": [
    "i_range = resmat2D.view(flow=True).shape[1]-2\n",
    "j_range = resmat2D.view(flow=True).shape[3]-2\n",
    "m_range = resmat2D[:,0,:,0].view(flow=True).shape[0]-2\n",
    "n_range = resmat2D[:,0,:,0].view(flow=True).shape[1]-2\n",
    "\n",
    "resmat2D_unwrapped_values = np.zeros(((i_range)*(m_range)+2,(j_range)*(n_range)+2))\n",
    "resmat2D_unwrapped_variances = np.zeros(((i_range)*(m_range)+2,(j_range)*(n_range)+2))\n",
    "\n",
    "for i in range(1,i_range+1):\n",
    "    for j in range(1,j_range+1):\n",
    "        for m in range(1,m_range+1):\n",
    "            for n in range(1,n_range+1):\n",
    "                #print(i,m,(i-1)*(m_range) + m)\n",
    "                resmat2D_unwrapped_values[(i-1)*(m_range) + m,(j-1)*(n_range) + n] = resmat2D.values(flow=True)[m,i,n,j]\n",
    "                resmat2D_unwrapped_variances[(i-1)*(m_range) + m,(j-1)*(n_range) + n] = resmat2D.variances(flow=True)[m,i,n,j]\n",
    "\n",
    "# Underflow for gen axes only.  No true underflow and no overflow whatsoever; just generated events that were not reconstructed in underflow bins.\n",
    "for i in range(1,i_range+1):\n",
    "    for m in range(1,m_range+1):\n",
    "        #print(i,m,(i-1)*(m_range) + m)\n",
    "        resmat2D_unwrapped_values[(i-1)*(m_range) + m,0] = resmat2D.values(flow=True)[m,i,0,0]\n",
    "        resmat2D_unwrapped_variances[(i-1)*(m_range) + m,0] = resmat2D.variances(flow=True)[m,i,0,0]\n",
    "\n",
    "# not necessary because no true underflow?\n",
    "#for i in range(0,i_range+1):\n",
    "#    resmat2D_unwrapped_values[(i)*(m_range) + 0,0] = resmat2D_unwrapped_values[(i)*(m_range) + 0,0] + resmat2D.values(flow=True)[0,i,0,0]\n",
    "#    resmat2D_unwrapped_variances[(i)*(m_range) + 0,0] = resmat2D_unwrapped_variances[(i)*(m_range) + 0,0] + resmat2D.variances(flow=True)[0,i,0,0]\n",
    "#for m in range(0,m_range+1):\n",
    "#    resmat2D_unwrapped_values[m,0] = resmat2D_unwrapped_values[m,0] + resmat2D.values(flow=True)[m,0,0,0]\n",
    "#    resmat2D_unwrapped_variances[m,0] = resmat2D_unwrapped_variances[m,0] + resmat2D.variances(flow=True)[m,0,0,0]\n",
    "\n",
    "    \n",
    "h_resmat_2D = hist.Hist(\n",
    "    hist.axis.Regular((i_range)*(m_range), 0, (i_range)*(m_range), name=\"gen\", label=\"gen\", underflow=True, overflow=True),\n",
    "    hist.axis.Regular((j_range)*(n_range), 0, (j_range)*(n_range), name=\"reco\", label=\"reco\", underflow=True, overflow=True),\n",
    "    storage=hist.storage.Weight()\n",
    ")\n",
    "\n",
    "h_resmat_2D[...] = np.concatenate(\n",
    "        ((resmat2D_unwrapped_values)[..., None],\n",
    "         (resmat2D_unwrapped_variances)[..., None]),\n",
    "        axis=2\n",
    "    )\n",
    "h_resmat_2D.plot2d_full()\n",
    "#h_resmat_2D.plot()\n",
    "h_resmat_2D.view(flow=True)"
   ]
  },
  {
   "cell_type": "code",
   "execution_count": null,
   "metadata": {
    "collapsed": true
   },
   "outputs": [],
   "source": [
    "h_resmat_2D.view(flow=True)[3,3]"
   ]
  },
  {
   "cell_type": "code",
   "execution_count": null,
   "metadata": {
    "collapsed": true
   },
   "outputs": [],
   "source": []
  },
  {
   "cell_type": "code",
   "execution_count": null,
   "metadata": {
    "collapsed": true
   },
   "outputs": [],
   "source": []
  },
  {
   "cell_type": "code",
   "execution_count": null,
   "metadata": {
    "collapsed": true
   },
   "outputs": [],
   "source": []
  },
  {
   "cell_type": "code",
   "execution_count": null,
   "metadata": {
    "collapsed": true
   },
   "outputs": [],
   "source": [
    "def Unwrap_2D_ResMat(resmat2D):\n",
    "\n",
    "    i_range = resmat2D.view(flow=True).shape[1]-2\n",
    "    j_range = resmat2D.view(flow=True).shape[3]-2\n",
    "    m_range = resmat2D[:,0,:,0].view(flow=True).shape[0]-2\n",
    "    n_range = resmat2D[:,0,:,0].view(flow=True).shape[1]-2\n",
    "\n",
    "    resmat2D_unwrapped_values = np.zeros(((i_range)*(m_range)+2,(j_range)*(n_range)+2))\n",
    "    resmat2D_unwrapped_variances = np.zeros(((i_range)*(m_range)+2,(j_range)*(n_range)+2))\n",
    "\n",
    "    for i in range(1,i_range+1):\n",
    "        for j in range(1,j_range+1):\n",
    "            for m in range(1,m_range+1):\n",
    "                for n in range(1,n_range+1):\n",
    "                    resmat2D_unwrapped_values[(i-1)*(m_range) + m,(j-1)*(n_range) + n] = resmat2D.values(flow=True)[m,i,n,j]\n",
    "                    resmat2D_unwrapped_variances[(i-1)*(m_range) + m,(j-1)*(n_range) + n] = resmat2D.variances(flow=True)[m,i,n,j]\n",
    "\n",
    "    # Underflow for gen axes only.  No true underflow and no overflow whatsoever; just generated events that were not reconstructed in underflow bins.\n",
    "    for i in range(1,i_range+1):\n",
    "        for m in range(1,m_range+1):\n",
    "            resmat2D_unwrapped_values[(i-1)*(m_range) + m,0] = resmat2D.values(flow=True)[m,i,0,0]\n",
    "            resmat2D_unwrapped_variances[(i-1)*(m_range) + m,0] = resmat2D.variances(flow=True)[m,i,0,0]\n",
    "    \n",
    "    resmat2D_unwrapped = hist.Hist(\n",
    "        hist.axis.Regular((i_range)*(m_range), 0, (i_range)*(m_range), name=\"gen\", label=\"gen\", underflow=True, overflow=True),\n",
    "        hist.axis.Regular((j_range)*(n_range), 0, (j_range)*(n_range), name=\"reco\", label=\"reco\", underflow=True, overflow=True),\n",
    "        storage=hist.storage.Weight()\n",
    "    )\n",
    "\n",
    "    resmat2D_unwrapped[...] = np.concatenate(\n",
    "        ((resmat2D_unwrapped_values)[..., None],\n",
    "         (resmat2D_unwrapped_variances)[..., None]),\n",
    "        axis=2\n",
    "    )\n",
    "    \n",
    "    return resmat2D_unwrapped"
   ]
  },
  {
   "cell_type": "code",
   "execution_count": null,
   "metadata": {
    "collapsed": true
   },
   "outputs": [],
   "source": []
  },
  {
   "cell_type": "code",
   "execution_count": null,
   "metadata": {
    "collapsed": true
   },
   "outputs": [],
   "source": []
  },
  {
   "cell_type": "code",
   "execution_count": null,
   "metadata": {
    "collapsed": true
   },
   "outputs": [],
   "source": []
  },
  {
   "cell_type": "code",
   "execution_count": 74,
   "metadata": {},
   "outputs": [
    {
     "data": {
      "text/plain": [
       "[3, []]"
      ]
     },
     "execution_count": 74,
     "metadata": {},
     "output_type": "execute_result"
    }
   ],
   "source": [
    "[[3][0],[3][1:]]"
   ]
  },
  {
   "cell_type": "code",
   "execution_count": null,
   "metadata": {
    "collapsed": true
   },
   "outputs": [],
   "source": []
  },
  {
   "cell_type": "code",
   "execution_count": null,
   "metadata": {
    "collapsed": true
   },
   "outputs": [],
   "source": []
  },
  {
   "cell_type": "code",
   "execution_count": null,
   "metadata": {
    "collapsed": true
   },
   "outputs": [],
   "source": []
  },
  {
   "cell_type": "code",
   "execution_count": null,
   "metadata": {
    "collapsed": true
   },
   "outputs": [],
   "source": []
  },
  {
   "cell_type": "code",
   "execution_count": null,
   "metadata": {
    "collapsed": true
   },
   "outputs": [],
   "source": [
    "def compute_response_matrix(var_name, gen_axes, reco_axes, gen_step8_data, step8_data, gen_step0_data, gen_step8_weights, step8_weights, gen_step0_weights):\n",
    "\n",
    "    axes = gen_axes + reco_axes\n",
    "\n",
    "    h_response_matrix = hist.Hist(*axes, storage=hist.storage.Weight())\n",
    "\n",
    "    # fill the reconstructed events\n",
    "    h_response_matrix.fill(*gen_step8_data + step8_data, weight=step8_weights)\n",
    "    \n",
    "    remove_underoverflow(h_response_matrix.values(flow=True))    \n",
    "    remove_underoverflow(h_response_matrix.variances(flow=True))\n",
    "\n",
    "    # fill the generator level events in the reconstruction underflow bin\n",
    "    # this is back at step0 so that we can unfold back to full phase space\n",
    "    h_response_matrix.fill(*gen_step0_data + [(reco_axes[j][0][0] - 1)*np.ones(len(gen_step0_data[0])) for j in range(0,len(reco_axes))], weight=gen_step0_weights)\n",
    "\n",
    "    # next create a separate response matrix to fill the reco weights\n",
    "    # this is because we need to subtract the entries AND variances and can't\n",
    "    # do that with a \"simple\" negative weight (this would only subtract entries,\n",
    "    # variances are sum of weights squared)\n",
    "    h__response_matrix = hist.Hist(*axes, storage=hist.storage.Weight())\n",
    "\n",
    "    # fill this new matrix\n",
    "    h__response_matrix.fill(*gen_step8_data + [(reco_axes[j][0][0] - 1)*np.ones(len(gen_step8_data[0])) for j in range(0,len(reco_axes))], weight=step8_weights)\n",
    "\n",
    "    # set values and variances equal to the difference between response_matrix\n",
    "    # and _response_matrix to account for these events that aren't reconstructed\n",
    "    h_response_matrix[...] = np.concatenate(\n",
    "        ((h_response_matrix.values(flow=True) - h__response_matrix.values(flow=True))[..., None],\n",
    "         (h_response_matrix.variances(flow=True) - h__response_matrix.variances(flow=True))[..., None]),\n",
    "        axis=len(axes)\n",
    "    )\n",
    "\n",
    "    return h_response_matrix\n"
   ]
  }
 ],
 "metadata": {
  "kernelspec": {
   "display_name": "Python [conda env: venv]",
   "language": "python",
   "name": "conda-env-venv-py"
  },
  "language_info": {
   "codemirror_mode": {
    "name": "ipython",
    "version": 3
   },
   "file_extension": ".py",
   "mimetype": "text/x-python",
   "name": "python",
   "nbconvert_exporter": "python",
   "pygments_lexer": "ipython3",
   "version": "3.10.6"
  }
 },
 "nbformat": 4,
 "nbformat_minor": 4
}
