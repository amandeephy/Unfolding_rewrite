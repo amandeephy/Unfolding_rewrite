{
 "cells": [
  {
   "cell_type": "code",
   "execution_count": 2,
   "metadata": {
    "scrolled": true
   },
   "outputs": [],
   "source": [
    "import ROOT\n",
    "import uproot\n",
    "import numpy as np\n",
    "import matplotlib.pyplot as plt"
   ]
  },
  {
   "cell_type": "code",
   "execution_count": 3,
   "metadata": {
    "collapsed": true
   },
   "outputs": [],
   "source": [
    "fileptr = uproot.open(\"/scratch/brown/bakshi3/TopSpinCorr_Run2_generalized_ND/CMSSW_10_6_30/src/TopAnalysis/Configuration/analysis/diLeptonic/UnfoldingHistos_2016preVFP/Nominal/emu/histosTUnfold_emu_ttbarsignalplustau_fromDilepton_2016ULpreVFP.root\")"
   ]
  },
  {
   "cell_type": "code",
   "execution_count": 4,
   "metadata": {},
   "outputs": [],
   "source": [
    "hgen_c_kk = fileptr[\"hgen_c_kk\"].to_numpy()[0]"
   ]
  },
  {
   "cell_type": "code",
   "execution_count": 5,
   "metadata": {},
   "outputs": [
    {
     "data": {
      "text/plain": [
       "array([ 1077464.25183582,  3368550.09085369,  5856384.09182064,\n",
       "        8634965.47184265, 11773019.09499021, 15370609.24163127,\n",
       "       19534762.27027296, 24613794.31064249, 30974864.05966803,\n",
       "       39398333.686797  , 52612931.28271621, 87278118.39989837,\n",
       "       87278118.39989837, 52612931.28271621, 39398333.686797  ,\n",
       "       30974864.05966803, 24613794.31064249, 19534762.27027296,\n",
       "       15370609.24163127, 11773019.09499021,  8634965.47184265,\n",
       "        5856384.09182064,  3368550.09085369,  1077464.25183582])"
      ]
     },
     "execution_count": 5,
     "metadata": {},
     "output_type": "execute_result"
    }
   ],
   "source": [
    "hgen_c_kk"
   ]
  },
  {
   "cell_type": "code",
   "execution_count": 6,
   "metadata": {},
   "outputs": [],
   "source": [
    "# binFileName = \"/depot/cms/top/bakshi3/TopSpinCorr_Run2_generalized_ND/CMSSW_10_6_30/src/TopAnalysis/Configuration/analysis/diLeptonic/binning/c_kk_binning.xml\"\n",
    "# parser = ROOT.TDOMParser()\n",
    "# parser.ParseFile(binFileName)\n",
    "\n",
    "# XMLdocument      = parser.GetXMLDocument();\n",
    "# detectorBinning  = ROOT.TUnfoldBinningXML.ImportXML(XMLdocument,\"detector\");\n",
    "# generatorBinning = ROOT.TUnfoldBinningXML.ImportXML(XMLdocument,\"generator\");"
   ]
  },
  {
   "cell_type": "code",
   "execution_count": 8,
   "metadata": {},
   "outputs": [],
   "source": [
    "binFileName = \"/depot/cms/top/bakshi3/TopSpinCorr_Run2_generalized_ND/CMSSW_10_6_30/src/TopAnalysis/Configuration/analysis/diLeptonic/binning/c_kk_binning_rebinnedB.xml\"\n",
    "parser = ROOT.TDOMParser()\n",
    "parser.ParseFile(binFileName)\n",
    "\n",
    "XMLdocument      = parser.GetXMLDocument();\n",
    "generatorBinning = ROOT.TUnfoldBinningXML.ImportXML(XMLdocument,\"generator_rebinnedB\");\n",
    "binning          = generatorBinning.FindNode(\"ttbargen_rebinnedB\");"
   ]
  },
  {
   "cell_type": "code",
   "execution_count": 28,
   "metadata": {},
   "outputs": [
    {
     "name": "stdout",
     "output_type": "stream",
     "text": [
      "Bin factor function = [\n",
      "\n",
      "jthBinWidth :: 0.333333\n",
      "genyield :: 3368550.090853691\n",
      "gendensity :: 10105660.378221452\n",
      "gendensity_sym :: 34355002.89669287\n",
      "\n",
      "\n",
      "jthBinWidth :: 0.333333\n",
      "genyield :: 5856384.091820642\n",
      "gendensity :: 17569169.844631772\n",
      "gendensity_sym :: 31840521.840699703\n",
      "\n",
      "\n",
      "jthBinWidth :: 0.333333\n",
      "genyield :: 8634965.471842647\n",
      "gendensity :: 25904922.32045026\n",
      "gendensity_sym :: 30612007.46225674\n",
      "\n",
      "\n",
      "jthBinWidth :: 0.333333\n",
      "genyield :: 11773019.094990205\n",
      "gendensity :: 35319092.60406322\n",
      "gendensity_sym :: 30612007.46225674\n",
      "\n",
      "\n",
      "jthBinWidth :: 0.3333330000000001\n",
      "genyield :: 15370609.24163127\n",
      "gendensity :: 46111873.83676763\n",
      "gendensity_sym :: 31840521.840699703\n",
      "\n",
      "\n",
      "jthBinWidth :: 0.3333329999999999\n",
      "genyield :: 19534762.270272955\n",
      "gendensity :: 58604345.4151643\n",
      "gendensity_sym :: 34355002.89669287\n",
      "\n",
      "[9.89544436e-08 5.69178856e-08 3.86027021e-08 2.83132982e-08\n",
      " 2.16863883e-08 1.70635811e-08]\n",
      "[2.91078421e-08 3.14065204e-08 3.26669200e-08 3.26669200e-08\n",
      " 3.14065204e-08 2.91078421e-08]\n"
     ]
    }
   ],
   "source": [
    "# Calculate the number of bins along spin coefficient distribution and other dimensions\n",
    "coefficientName = \"c_kk_mttbar\"\n",
    "\n",
    "nbinsX  = 0\n",
    "numBins = 1\n",
    "\n",
    "for i in range(binning.GetDistributionDimension()) :\n",
    "    vec_binEdges = binning.GetDistributionBinning(i)\n",
    "    \n",
    "    if (i == 0) :  # 0th distribution is the spin correlation variable\n",
    "        nbinsX = vec_binEdges.GetNoElements() - 1;\n",
    "\n",
    "    else :         # number of bins of the other dimensions\n",
    "        numBins *= vec_binEdges.GetNoElements() - 1\n",
    "\n",
    "# copy bin edges because they are const doubles currently which ruins everything\n",
    "xBinEdges = np.zeros(nbinsX + 1)\n",
    "\n",
    "for i in range(nbinsX + 1) :\n",
    "    xBinEdges[i] = binning.GetDistributionBinning(0).GetMatrixArray()[i];\n",
    "\n",
    "print(\"Bin factor function = [\")\n",
    "\n",
    "# compute and store the BFF\n",
    "for i in range(numBins) :\n",
    "    binOffset = i * nbinsX\n",
    "\n",
    "    # analytic functions for BinFactorFunctions\n",
    "    # and calculate oneOverSMdensity_sym analytically\n",
    "    \n",
    "    symmetrizedSMDensityFunction = \"\"\n",
    "    if 'c_' in coefficientName :\n",
    "        symmetrizedSMDensityFunction = \"-log(abs(x))\"\n",
    "    else: \n",
    "        symmetrizedSMDensityFunction = \"1\"\n",
    "\n",
    "\n",
    "    # SMdensity_sym = ROOT.TF1(\"SMdensity_sym\", symmetrizedSMDensityFunction, xBinEdges[0], xBinEdges[nbinsX + 1])\n",
    "\n",
    "    oneOverSMdensity     = np.zeros(nbinsX)\n",
    "    oneOverSMdensity_sym = np.zeros(nbinsX)\n",
    "\n",
    "    gen_sum = 0.\n",
    "\n",
    "    for j in range(nbinsX) :\n",
    "        jthBinWidth    =  xBinEdges[j + 1] - xBinEdges[j];\n",
    "        genyield       =  hgen_c_kk[binOffset + j + 1]\n",
    "        gendensity     =  hgen_c_kk[binOffset + j + 1] / jthBinWidth\n",
    "\n",
    "        gendensity_sym = 0.5 * (hgen_c_kk[binOffset + j + 1] / jthBinWidth\n",
    "                              + hgen_c_kk[binOffset + nbinsX - j] / (xBinEdges[nbinsX - j] - xBinEdges[nbinsX - j - 1]))\n",
    "\n",
    "        oneOverSMdensity[j]     = 1. / gendensity;\n",
    "        oneOverSMdensity_sym[j] = 1. / gendensity_sym;\n",
    "        gen_sum += genyield;\n",
    "    \n",
    "        print(\"\")\n",
    "        print(\"jthBinWidth :: \"    + str(jthBinWidth))\n",
    "        print(\"genyield :: \"       + str(genyield))\n",
    "        print(\"gendensity :: \"     + str(gendensity))\n",
    "        print(\"gendensity_sym :: \" + str(gendensity_sym))\n",
    "        print(\"\")\n",
    "    print(oneOverSMdensity)\n",
    "    print(oneOverSMdensity_sym)\n",
    "        \n",
    "    \n",
    "    oneOverSMdensity     *= gen_sum / 2\n",
    "    oneOverSMdensity_sym *= gen_sum / 2\n",
    "\n",
    "#     SMdensity_sym->SetNpx(10000 * nbinsX);\n",
    "#     TH1D* SMdensity_sym_histo = (TH1D*)SMdensity_sym->GetHistogram();\n",
    "#     SMdensity_sym_histo->Rebin(10000);\n",
    "#     SMdensity_sym_histo->Scale(0.0001);\n",
    "\n",
    "#     if (MatrixUnf::isCtype(coefficientName) || MatrixUnf::isCPMtype(coefficientName) ||\n",
    "#         MatrixUnf::isBtype(coefficientName) || MatrixUnf::isDtype(coefficientName)   ||\n",
    "#         MatrixUnf::isBPMtype(coefficientName)) {\n",
    "#       for (int j = 0; j < nbinsX; ++j) {\n",
    "#         if (SMdensity_sym_histo->GetBinContent(j + 1) == 0) {\n",
    "#           std::cout << \"Error, bin content = 0 and trying to divide by 0.\" << std::endl;\n",
    "#         }\n",
    "#         oneOverSMdensity_sym(j) = 1. / SMdensity_sym_histo->GetBinContent(j + 1);\n",
    "#       }\n",
    "#     }\n",
    "\n",
    "#    for (int j = 0; j < nbinsX; ++j) {\n",
    "#         (*BFFvec)(binOffset + j) = oneOverSMdensity_sym(j);\n",
    "#         std::cout << \" \" << oneOverSMdensity_sym(j);\n",
    "#       }\n",
    "#     } \n",
    "#     }\n",
    "#     std::cout << \" ]\" << std::endl;"
   ]
  },
  {
   "cell_type": "code",
   "execution_count": 29,
   "metadata": {},
   "outputs": [
    {
     "data": {
      "text/plain": [
       "0.9999979999999999"
      ]
     },
     "execution_count": 29,
     "metadata": {},
     "output_type": "execute_result"
    }
   ],
   "source": [
    "binning.GetDistributionBinning(0).GetMatrixArray()[6]"
   ]
  },
  {
   "cell_type": "code",
   "execution_count": 30,
   "metadata": {},
   "outputs": [
    {
     "data": {
      "text/plain": [
       "<matplotlib.collections.PathCollection at 0x7ff16f4a8f40>"
      ]
     },
     "execution_count": 30,
     "metadata": {},
     "output_type": "execute_result"
    },
    {
     "data": {
      "image/png": "[encoded data removed]",
      "text/plain": [
       "<Figure size 640x480 with 1 Axes>"
      ]
     },
     "metadata": {},
     "output_type": "display_data"
    }
   ],
   "source": [
    "plt.scatter(np.linspace(-1,1,6), oneOverSMdensity)\n",
    "plt.scatter(np.linspace(-1,1,6), oneOverSMdensity_sym)"
   ]
  },
  {
   "cell_type": "code",
   "execution_count": 18,
   "metadata": {},
   "outputs": [
    {
     "data": {
      "text/plain": [
       "1.999998"
      ]
     },
     "execution_count": 18,
     "metadata": {},
     "output_type": "execute_result"
    }
   ],
   "source": [
    "xBinEdges[nbinsX ] - xBinEdges[0]"
   ]
  },
  {
   "cell_type": "code",
   "execution_count": 63,
   "metadata": {},
   "outputs": [
    {
     "data": {
      "text/plain": [
       "0.9999979999999999"
      ]
     },
     "execution_count": 63,
     "metadata": {},
     "output_type": "execute_result"
    }
   ],
   "source": [
    "xBinEdges[6]"
   ]
  },
  {
   "cell_type": "code",
   "execution_count": 60,
   "metadata": {},
   "outputs": [
    {
     "ename": "IndexError",
     "evalue": "index 7 is out of bounds for axis 0 with size 7",
     "output_type": "error",
     "traceback": [
      "\u001b[0;31m---------------------------------------------------------------------------\u001b[0m",
      "\u001b[0;31mIndexError\u001b[0m                                Traceback (most recent call last)",
      "Input \u001b[0;32mIn [60]\u001b[0m, in \u001b[0;36m<cell line: 2>\u001b[0;34m()\u001b[0m\n\u001b[1;32m      1\u001b[0m symmetrizedSMDensityFunction \u001b[38;5;241m=\u001b[39m \u001b[38;5;124m\"\u001b[39m\u001b[38;5;124m-log(abs(x))\u001b[39m\u001b[38;5;124m\"\u001b[39m\n\u001b[0;32m----> 2\u001b[0m SMdensity_sym \u001b[38;5;241m=\u001b[39m ROOT\u001b[38;5;241m.\u001b[39mTF1(\u001b[38;5;124m\"\u001b[39m\u001b[38;5;124mSMdensity_sym\u001b[39m\u001b[38;5;124m\"\u001b[39m, symmetrizedSMDensityFunction, xBinEdges[\u001b[38;5;241m0\u001b[39m], \u001b[43mxBinEdges\u001b[49m\u001b[43m[\u001b[49m\u001b[43mnbinsX\u001b[49m\u001b[43m \u001b[49m\u001b[38;5;241;43m+\u001b[39;49m\u001b[38;5;241;43m1\u001b[39;49m\u001b[43m]\u001b[49m)\n",
      "\u001b[0;31mIndexError\u001b[0m: index 7 is out of bounds for axis 0 with size 7"
     ]
    }
   ],
   "source": [
    "symmetrizedSMDensityFunction = \"-log(abs(x))\"\n",
    "SMdensity_sym = ROOT.TF1(\"SMdensity_sym\", symmetrizedSMDensityFunction, xBinEdges[0], xBinEdges[nbinsX +1])"
   ]
  },
  {
   "cell_type": "code",
   "execution_count": 33,
   "metadata": {},
   "outputs": [
    {
     "name": "stderr",
     "output_type": "stream",
     "text": [
      "IncrementalExecutor::executeFunction: symbol '_ZN5cling7runtime6gClingE' unresolved while linking [cling interface function]!\n",
      "You are probably missing the definition of cling::runtime::gCling\n",
      "Maybe you need to load the corresponding shared library?\n",
      "IncrementalExecutor::executeFunction: symbol '_ZN5cling7runtime6gClingE' unresolved while linking [cling interface function]!\n",
      "You are probably missing the definition of cling::runtime::gCling\n",
      "Maybe you need to load the corresponding shared library?\n",
      "IncrementalExecutor::executeFunction: symbol '_ZN5cling7runtime6gClingE' unresolved while linking [cling interface function]!\n",
      "You are probably missing the definition of cling::runtime::gCling\n",
      "Maybe you need to load the corresponding shared library?\n"
     ]
    }
   ],
   "source": [
    "SMdensity_sym.SetNpx(10000 * nbinsX);\n",
    "SMdensity_sym_histo = SMdensity_sym.GetHistogram();\n",
    "\n",
    "SMdensity_sym_histo.Rebin(10000);\n",
    "SMdensity_sym_histo.Scale(0.0001);"
   ]
  },
  {
   "cell_type": "code",
   "execution_count": 52,
   "metadata": {},
   "outputs": [],
   "source": [
    "bc = []\n",
    "for i in range(1,7) :\n",
    "    bc.append(SMdensity_sym_histo.GetBinContent(i))"
   ]
  },
  {
   "cell_type": "code",
   "execution_count": 56,
   "metadata": {},
   "outputs": [
    {
     "data": {
      "text/plain": [
       "[5.289058488789621,\n",
       " 1.4038696444559842,\n",
       " 0.47652056313173063,\n",
       " 0.4765053365556372,\n",
       " 1.4038614479610152,\n",
       " 5.28899043437178]"
      ]
     },
     "execution_count": 56,
     "metadata": {},
     "output_type": "execute_result"
    }
   ],
   "source": [
    "[1./b for b in bc]"
   ]
  },
  {
   "cell_type": "code",
   "execution_count": 40,
   "metadata": {
    "collapsed": true
   },
   "outputs": [],
   "source": [
    "x = np.linspace(-1,1,100)\n",
    "y = np.log(abs(x))"
   ]
  },
  {
   "cell_type": "code",
   "execution_count": 41,
   "metadata": {},
   "outputs": [
    {
     "data": {
      "text/plain": [
       "<matplotlib.collections.PathCollection at 0x7ff24ce69fc0>"
      ]
     },
     "execution_count": 41,
     "metadata": {},
     "output_type": "execute_result"
    },
    {
     "data": {
      "image/png": "[encoded data removed]",
      "text/plain": [
       "<Figure size 640x480 with 1 Axes>"
      ]
     },
     "metadata": {},
     "output_type": "display_data"
    }
   ],
   "source": [
    "plt.scatter(x,-y)"
   ]
  },
  {
   "cell_type": "code",
   "execution_count": 58,
   "metadata": {},
   "outputs": [],
   "source": [
    "x = np.linspace(-1,1,100)\n",
    "y = np.arccos(abs(x))"
   ]
  },
  {
   "cell_type": "code",
   "execution_count": 59,
   "metadata": {},
   "outputs": [
    {
     "data": {
      "text/plain": [
       "<matplotlib.collections.PathCollection at 0x7ff24ca4aec0>"
      ]
     },
     "execution_count": 59,
     "metadata": {},
     "output_type": "execute_result"
    },
    {
     "data": {
      "image/png": "[encoded data removed]",
      "text/plain": [
       "<Figure size 640x480 with 1 Axes>"
      ]
     },
     "metadata": {},
     "output_type": "display_data"
    }
   ],
   "source": [
    "plt.scatter(x,y)"
   ]
  },
  {
   "cell_type": "code",
   "execution_count": null,
   "metadata": {
    "collapsed": true
   },
   "outputs": [],
   "source": []
  }
 ],
 "metadata": {
  "kernelspec": {
   "display_name": "Python [conda env: venv]",
   "language": "python",
   "name": "conda-env-venv-py"
  },
  "language_info": {
   "codemirror_mode": {
    "name": "ipython",
    "version": 3
   },
   "file_extension": ".py",
   "mimetype": "text/x-python",
   "name": "python",
   "nbconvert_exporter": "python",
   "pygments_lexer": "ipython3",
   "version": "3.10.6"
  }
 },
 "nbformat": 4,
 "nbformat_minor": 2
}
