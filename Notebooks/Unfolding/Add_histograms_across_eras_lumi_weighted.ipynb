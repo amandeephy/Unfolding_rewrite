{
 "cells": [
  {
   "cell_type": "code",
   "execution_count": 2,
   "metadata": {
    "scrolled": true
   },
   "outputs": [],
   "source": [
    "import ROOT\n",
    "import uproot\n",
    "import numpy as np\n",
    "import matplotlib.pyplot as plt"
   ]
  },
  {
   "cell_type": "code",
   "execution_count": 3,
   "metadata": {
    "collapsed": true
   },
   "outputs": [],
   "source": [
    "with open(\"TUnfoldHistoFileList_Nominal_emu.txt\", \"r\") as ipfile :\n",
    "    allfiles = ipfile.readlines()"
   ]
  },
  {
   "cell_type": "code",
   "execution_count": 4,
   "metadata": {
    "collapsed": true
   },
   "outputs": [],
   "source": [
    "BASE_DIR = \"/depot/cms/top/bakshi3/TopSpinCorr_Run2_generalized_ND/CMSSW_10_6_30/src/TopAnalysis/Configuration/analysis/diLeptonic/\""
   ]
  },
  {
   "cell_type": "code",
   "execution_count": 5,
   "metadata": {
    "collapsed": true
   },
   "outputs": [],
   "source": [
    "def get_lumi_from_samplename(samplename) :\n",
    "    # 2016\n",
    "    if   \"2016ULpreVFP\"  in samplename : lumi = 19668.0\n",
    "    elif \"2016ULpostVFP\" in samplename : lumi = 16778.0\n",
    "    elif \"2016UL\" in samplename : lumi = 36310.0\n",
    "    \n",
    "    # 2017\n",
    "    elif \"2017UL\" in samplename : lumi = 41480.0\n",
    "    \n",
    "    # 2018\n",
    "    elif \"2018UL\" in samplename : lumi = 59830.0\n",
    "    \n",
    "    # full Run2\n",
    "    elif \"fullRun2UL\" in samplename : lumi = 137650.0\n",
    "    \n",
    "    return lumi"
   ]
  },
  {
   "cell_type": "code",
   "execution_count": 6,
   "metadata": {
    "collapsed": true
   },
   "outputs": [],
   "source": [
    "def get_dySF_from_samplename(samplename,channel) :\n",
    "    dySF = 1.0 \n",
    "\n",
    "    if  \"2018\" in samplename:\n",
    "        if    channel == \"ee\"       : dySF = 1.12717\n",
    "        elif  channel == \"emu\"      : dySF = 1.10941\n",
    "        elif  channel == \"mumu\"     : dySF = 1.09194\n",
    "        elif  channel == \"combined\" : dySF = 1.1027\n",
    "    \n",
    "    elif \"2017\" in samplename :\n",
    "        if    channel == \"ee\"       : dySF = 1.17378\n",
    "        elif  channel == \"emu\"      : dySF = 1.16718\n",
    "        elif  channel == \"mumu\"     : dySF = 1.16061\n",
    "        elif  channel == \"combined\" : dySF = 1.16462\n",
    "\n",
    "    elif \"2016postVFP\" in samplename :\n",
    "        if    channel == \"ee\"       : dySF = 1.19939\n",
    "        elif  channel == \"emu\"      : dySF = 1.1901\n",
    "        elif  channel == \"mumu\"     : dySF = 1.18087\n",
    "        elif  channel == \"combined\" : dySF = 1.18599\n",
    "\n",
    "    elif \"2016preVFP\" in samplename :\n",
    "        if    channel == \"ee\"       : dySF = 1.1809\n",
    "        elif  channel == \"emu\"      : dySF = 1.14192\n",
    "        elif  channel == \"mumu\"     : dySF = 1.10422\n",
    "        elif  channel == \"combined\" : dySF = 1.12537\n",
    "\n",
    "    elif \"2016\" in samplename and not \"VFP\" in samplename: \n",
    "        if    channel == \"ee\"       : dySF = 1.18945\n",
    "        elif  channel == \"emu\"      : dySF = 1.16376\n",
    "        elif  channel == \"mumu\"     : dySF = 1.13863\n",
    "        elif  channel == \"combined\" : dySF = 1.15266\n",
    "            \n",
    "    elif \"fullRun2UL\" in samplename :\n",
    "        if    channel == \"ee\"       : dySF = 1.15707\n",
    "        elif  channel == \"emu\"      : dySF = 1.14002\n",
    "        elif  channel == \"mumu\"     : dySF = 1.12321\n",
    "        elif  channel == \"combined\" : dySF = 1.13327\n",
    "    \n",
    "    return dySF "
   ]
  },
  {
   "cell_type": "code",
   "execution_count": 7,
   "metadata": {
    "collapsed": true
   },
   "outputs": [],
   "source": [
    "def get_cross_section_from_samplename(samplename, channel) :\n",
    "    topxsec = 830.91\n",
    "    \n",
    "    # w/o tau signal files\n",
    "    if   \"ee_ttbarsignalplustau_fromDilepton\"   in samplename : xsection = topxsec * 0.10706 * 0.964261576\n",
    "    elif \"emu_ttbarsignalplustau_fromDilepton\"  in samplename : xsection = topxsec * 0.10706 * 0.957058875\n",
    "    elif \"mumu_ttbarsignalplustau_fromDilepton\" in samplename : xsection = topxsec * 0.10706 * 0.949909976\n",
    "    \n",
    "    # w tau signal files\n",
    "    elif \"ee_ttbarsignalviatau_fromDilepton\"   in samplename : xsection = topxsec * 0.10706 * 1.029827957\n",
    "    elif \"emu_ttbarsignalviatau_fromDilepton\"  in samplename : xsection = topxsec * 0.10706 * 1.026209047\n",
    "    elif \"mumu_ttbarsignalviatau_fromDilepton\" in samplename : xsection = topxsec * 0.10706 * 1.022670477\n",
    "    \n",
    "    # backgrounds\n",
    "    \n",
    "    # ttbar backgrounds\n",
    "    elif \"bg_fromDilepton\" in samplename : xsection = topxsec * 0.10706\n",
    "    elif \"fromLjets\"       in samplename : xsection = topxsec * 0.44113\n",
    "    elif \"fromHadronic\"    in samplename : xsection = topxsec * 0.45441\n",
    "    \n",
    "    # elif (\"ttbar\"  in samplename) and not(\"ttbarW\" in samplename) and not(\"ttbarW\" in samplename) : xsection = topxsec \n",
    "    \n",
    "    # Single top\n",
    "    elif (\"single\" in samplename)    and (\"tw\" in samplename) : xsection = 35.85 * 0.54559\n",
    "    elif (\"single\" in samplename)    and (\"_s\" in samplename) : xsection = 10.32\n",
    "    elif (\"singletop\" in samplename) and (\"_t\" in samplename) : xsection = 136.02\n",
    "\n",
    "    # Single antitop\n",
    "    elif (\"singleantitop\" in samplename) and (\"_t\" in samplename) : xsection = 80.95\n",
    "    \n",
    "    # VV\n",
    "    elif \"ww\" in samplename : xsection = 118.7\n",
    "    elif \"wz\" in samplename : xsection = 47.13\n",
    "    elif \"zz\" in samplename : xsection = 16.523\n",
    "    \n",
    "    # Drell-Yan\n",
    "    elif \"1050\" in samplename               : xsection = 22635.1 * get_dySF_from_samplename(samplename, channel)\n",
    "    elif \"50inf_amcatnlofxfx\" in samplename : xsection = 0.5 * 3.*2075.14 * get_dySF_from_samplename(samplename, channel)\n",
    "    elif \"50inf_madgraphmlm\"  in samplename : xsection = 0.5 * 3.*2075.14 * get_dySF_from_samplename(samplename, channel)\n",
    "    \n",
    "    # Smaller backgrounds\n",
    "    elif \"wtolnu\"          in samplename : xsection = 61526.7\n",
    "    elif \"ttbarWjetstolnu\" in samplename : xsection = 0.2043\n",
    "    elif \"ttbarWjetstoqq\"  in samplename : xsection = 0.4062\n",
    "    elif \"ttbarZtollnunu\"  in samplename : xsection = 0.2529\n",
    "    elif \"ttbarZtoqq\"      in samplename : xsection = 0.5297\n",
    "    else : xsection = topxsec\n",
    "    \n",
    "    return xsection"
   ]
  },
  {
   "cell_type": "code",
   "execution_count": 8,
   "metadata": {},
   "outputs": [],
   "source": [
    "# get_cross_section_from_samplename(file, \"emu\")"
   ]
  },
  {
   "cell_type": "code",
   "execution_count": 9,
   "metadata": {
    "collapsed": true
   },
   "outputs": [],
   "source": [
    "def get_lumi_weight(root_fileptr, lumi, xsection) :\n",
    "    nevents = root_fileptr.Get('hNrOfEvts').GetBinContent(1)\n",
    "    lumi_wt = (lumi * xsection) / nevents\n",
    "    return lumi_wt"
   ]
  },
  {
   "cell_type": "code",
   "execution_count": 12,
   "metadata": {
    "scrolled": true
   },
   "outputs": [
    {
     "name": "stdout",
     "output_type": "stream",
     "text": [
      "Working with file ::UnfoldingHistos_2017/Nominal/emu/histosTUnfold_emu_wwtoall_2017UL.root\n",
      "Finished setting up ROOT pointers\n",
      "Working with file ::UnfoldingHistos_2017/Nominal/emu/histosTUnfold_emu_wztoall_2017UL.root\n",
      "Finished setting up ROOT pointers\n",
      "Working with file ::UnfoldingHistos_2017/Nominal/emu/histosTUnfold_emu_zztoall_2017UL.root\n",
      "Finished setting up ROOT pointers\n",
      "Working with file ::UnfoldingHistos_2017/Nominal/emu/histosTUnfold_emu_ttbarWjetstolnu_2017UL.root\n",
      "Finished setting up ROOT pointers\n",
      "Working with file ::UnfoldingHistos_2017/Nominal/emu/histosTUnfold_emu_ttbarWjetstoqq_2017UL.root\n",
      "Finished setting up ROOT pointers\n",
      "Working with file ::UnfoldingHistos_2017/Nominal/emu/histosTUnfold_emu_ttbarZtollnunu_2017UL.root\n",
      "Finished setting up ROOT pointers\n",
      "Working with file ::UnfoldingHistos_2017/Nominal/emu/histosTUnfold_emu_ttbarZtoqq_2017UL.root\n",
      "Finished setting up ROOT pointers\n",
      "Working with file ::UnfoldingHistos_2017/Nominal/emu/histosTUnfold_emu_singleantitop_tw_2017UL.root\n",
      "Finished setting up ROOT pointers\n",
      "Working with file ::UnfoldingHistos_2017/Nominal/emu/histosTUnfold_emu_singletop_tw_2017UL.root\n",
      "Finished setting up ROOT pointers\n",
      "Working with file ::UnfoldingHistos_2017/Nominal/emu/histosTUnfold_emu_ttbarbg_fromDilepton_2017UL.root\n",
      "Finished setting up ROOT pointers\n",
      "Working with file ::UnfoldingHistos_2017/Nominal/emu/histosTUnfold_emu_ttbarbg_fromHadronic_2017UL.root\n",
      "Finished setting up ROOT pointers\n",
      "Working with file ::UnfoldingHistos_2017/Nominal/emu/histosTUnfold_emu_ttbarbg_fromLjets_2017UL.root\n",
      "Finished setting up ROOT pointers\n",
      "Working with file ::UnfoldingHistos_2017/Nominal/emu/histosTUnfold_emu_dyee1050_2017UL.root\n",
      "Finished setting up ROOT pointers\n",
      "Working with file ::UnfoldingHistos_2017/Nominal/emu/histosTUnfold_emu_dyee50inf_amcatnlofxfx_2017UL.root\n",
      "Finished setting up ROOT pointers\n",
      "Working with file ::UnfoldingHistos_2017/Nominal/emu/histosTUnfold_emu_dyee50inf_madgraphmlm_2017UL.root\n",
      "Finished setting up ROOT pointers\n",
      "Working with file ::UnfoldingHistos_2017/Nominal/emu/histosTUnfold_emu_dymumu1050_2017UL.root\n",
      "Finished setting up ROOT pointers\n",
      "Working with file ::UnfoldingHistos_2017/Nominal/emu/histosTUnfold_emu_dymumu50inf_amcatnlofxfx_2017UL.root\n",
      "Finished setting up ROOT pointers\n",
      "Working with file ::UnfoldingHistos_2017/Nominal/emu/histosTUnfold_emu_dymumu50inf_madgraphmlm_2017UL.root\n",
      "Finished setting up ROOT pointers\n",
      "Working with file ::UnfoldingHistos_2017/Nominal/emu/histosTUnfold_emu_dytautau1050_2017UL.root\n",
      "Finished setting up ROOT pointers\n",
      "Working with file ::UnfoldingHistos_2017/Nominal/emu/histosTUnfold_emu_dytautau50inf_amcatnlofxfx_2017UL.root\n",
      "Finished setting up ROOT pointers\n",
      "Working with file ::UnfoldingHistos_2017/Nominal/emu/histosTUnfold_emu_dytautau50inf_madgraphmlm_2017UL.root\n",
      "Finished setting up ROOT pointers\n",
      "Working with file ::UnfoldingHistos_2017/Nominal/emu/histosTUnfold_emu_ttbarsignalplustau_fromDilepton_2017UL.root\n",
      "Finished setting up ROOT pointers\n",
      "Working with file ::UnfoldingHistos_2017/Nominal/emu/histosTUnfold_emu_ttbarsignalviatau_fromDilepton_2017UL.root\n",
      "Finished setting up ROOT pointers\n"
     ]
    },
    {
     "name": "stderr",
     "output_type": "stream",
     "text": [
      "IncrementalExecutor::executeFunction: symbol '_ZN5cling7runtime6gClingE' unresolved while linking [cling interface function]!\n",
      "You are probably missing the definition of cling::runtime::gCling\n",
      "Maybe you need to load the corresponding shared library?\n",
      "IncrementalExecutor::executeFunction: symbol '_ZN5cling7runtime6gClingE' unresolved while linking [cling interface function]!\n",
      "You are probably missing the definition of cling::runtime::gCling\n",
      "Maybe you need to load the corresponding shared library?\n",
      "IncrementalExecutor::executeFunction: symbol '_ZN5cling7runtime6gClingE' unresolved while linking [cling interface function]!\n",
      "You are probably missing the definition of cling::runtime::gCling\n",
      "Maybe you need to load the corresponding shared library?\n",
      "IncrementalExecutor::executeFunction: symbol '_ZN5cling7runtime6gClingE' unresolved while linking [cling interface function]!\n",
      "You are probably missing the definition of cling::runtime::gCling\n",
      "Maybe you need to load the corresponding shared library?\n",
      "IncrementalExecutor::executeFunction: symbol '_ZN5cling7runtime6gClingE' unresolved while linking [cling interface function]!\n",
      "You are probably missing the definition of cling::runtime::gCling\n",
      "Maybe you need to load the corresponding shared library?\n",
      "IncrementalExecutor::executeFunction: symbol '_ZN5cling7runtime6gClingE' unresolved while linking [cling interface function]!\n",
      "You are probably missing the definition of cling::runtime::gCling\n",
      "Maybe you need to load the corresponding shared library?\n",
      "IncrementalExecutor::executeFunction: symbol '_ZN5cling7runtime6gClingE' unresolved while linking [cling interface function]!\n",
      "You are probably missing the definition of cling::runtime::gCling\n",
      "Maybe you need to load the corresponding shared library?\n",
      "IncrementalExecutor::executeFunction: symbol '_ZN5cling7runtime6gClingE' unresolved while linking [cling interface function]!\n",
      "You are probably missing the definition of cling::runtime::gCling\n",
      "Maybe you need to load the corresponding shared library?\n",
      "IncrementalExecutor::executeFunction: symbol '_ZN5cling7runtime6gClingE' unresolved while linking [cling interface function]!\n",
      "You are probably missing the definition of cling::runtime::gCling\n",
      "Maybe you need to load the corresponding shared library?\n",
      "IncrementalExecutor::executeFunction: symbol '_ZN5cling7runtime6gClingE' unresolved while linking [cling interface function]!\n",
      "You are probably missing the definition of cling::runtime::gCling\n",
      "Maybe you need to load the corresponding shared library?\n",
      "IncrementalExecutor::executeFunction: symbol '_ZN5cling7runtime6gClingE' unresolved while linking [cling interface function]!\n",
      "You are probably missing the definition of cling::runtime::gCling\n",
      "Maybe you need to load the corresponding shared library?\n",
      "IncrementalExecutor::executeFunction: symbol '_ZN5cling7runtime6gClingE' unresolved while linking [cling interface function]!\n",
      "You are probably missing the definition of cling::runtime::gCling\n",
      "Maybe you need to load the corresponding shared library?\n",
      "IncrementalExecutor::executeFunction: symbol '_ZN5cling7runtime6gClingE' unresolved while linking [cling interface function]!\n",
      "You are probably missing the definition of cling::runtime::gCling\n",
      "Maybe you need to load the corresponding shared library?\n",
      "IncrementalExecutor::executeFunction: symbol '_ZN5cling7runtime6gClingE' unresolved while linking [cling interface function]!\n",
      "You are probably missing the definition of cling::runtime::gCling\n",
      "Maybe you need to load the corresponding shared library?\n",
      "IncrementalExecutor::executeFunction: symbol '_ZN5cling7runtime6gClingE' unresolved while linking [cling interface function]!\n",
      "You are probably missing the definition of cling::runtime::gCling\n",
      "Maybe you need to load the corresponding shared library?\n",
      "IncrementalExecutor::executeFunction: symbol '_ZN5cling7runtime6gClingE' unresolved while linking [cling interface function]!\n",
      "You are probably missing the definition of cling::runtime::gCling\n",
      "Maybe you need to load the corresponding shared library?\n",
      "IncrementalExecutor::executeFunction: symbol '_ZN5cling7runtime6gClingE' unresolved while linking [cling interface function]!\n",
      "You are probably missing the definition of cling::runtime::gCling\n",
      "Maybe you need to load the corresponding shared library?\n",
      "IncrementalExecutor::executeFunction: symbol '_ZN5cling7runtime6gClingE' unresolved while linking [cling interface function]!\n",
      "You are probably missing the definition of cling::runtime::gCling\n",
      "Maybe you need to load the corresponding shared library?\n",
      "IncrementalExecutor::executeFunction: symbol '_ZN5cling7runtime6gClingE' unresolved while linking [cling interface function]!\n",
      "You are probably missing the definition of cling::runtime::gCling\n",
      "Maybe you need to load the corresponding shared library?\n",
      "IncrementalExecutor::executeFunction: symbol '_ZN5cling7runtime6gClingE' unresolved while linking [cling interface function]!\n",
      "You are probably missing the definition of cling::runtime::gCling\n",
      "Maybe you need to load the corresponding shared library?\n",
      "IncrementalExecutor::executeFunction: symbol '_ZN5cling7runtime6gClingE' unresolved while linking [cling interface function]!\n",
      "You are probably missing the definition of cling::runtime::gCling\n",
      "Maybe you need to load the corresponding shared library?\n"
     ]
    }
   ],
   "source": [
    "# Over all files\n",
    "for file in allfiles :\n",
    "    file = file.replace('\\n','')\n",
    "    # file = file.replace('UnfoldingHistos_2017', 'UnfoldingHistos_2017')\n",
    "    \n",
    "    # Skip data, it can just be hadded\n",
    "    if \"run\" in file : continue\n",
    "    \n",
    "    print('Working with file ::' + file)\n",
    "    \n",
    "    uproot_fileptr = uproot.open(BASE_DIR + file)\n",
    "    \n",
    "    infile  = ROOT.TFile.Open(BASE_DIR + file, \"READ\")\n",
    "    outname = file.replace('UnfoldingHistos_2017/Nominal/emu/', '')\n",
    "    outname = outname.replace('.root', '_lumi_scaled.root')\n",
    "    outfile = ROOT.TFile.Open(outname, \"RECREATE\")\n",
    "        \n",
    "    print('Finished setting up ROOT pointers')\n",
    "    \n",
    "    outfile.cd()\n",
    "    \n",
    "    # Over all histograms\n",
    "    for k in uproot_fileptr.keys() :\n",
    "        \n",
    "        input_hist    = infile.Get(k)\n",
    "        lumi          = get_lumi_from_samplename(file)\n",
    "        xsection      = get_cross_section_from_samplename(file, \"emu\")\n",
    "        scale_factor  = get_lumi_weight(infile, lumi, xsection)\n",
    "        input_hist.Scale(scale_factor)\n",
    "        input_hist.Write()\n",
    "        \n",
    "    outfile.Write()\n",
    "    outfile.Close()\n",
    "    infile.Close()"
   ]
  },
  {
   "cell_type": "code",
   "execution_count": 90,
   "metadata": {},
   "outputs": [
    {
     "data": {
      "text/plain": [
       "'UnfoldingHistos_2017/Nominal/emu/histosTUnfold_emu_wtolnu_2017UL_lumi_scaled.root'"
      ]
     },
     "execution_count": 90,
     "metadata": {},
     "output_type": "execute_result"
    }
   ],
   "source": [
    "outname"
   ]
  },
  {
   "cell_type": "code",
   "execution_count": 80,
   "metadata": {},
   "outputs": [
    {
     "data": {
      "text/plain": [
       "'UnfoldingHistos_2017_old_minitrees/Nominal/emu/histosTUnfold_emu_ttbarsignalviatau_fromDilepton_2017UL_lumi_scaled.root'"
      ]
     },
     "execution_count": 80,
     "metadata": {},
     "output_type": "execute_result"
    }
   ],
   "source": [
    "file.replace('.root', '_lumi_scaled.root')"
   ]
  },
  {
   "cell_type": "code",
   "execution_count": 82,
   "metadata": {},
   "outputs": [
    {
     "data": {
      "text/plain": [
       "'histosTUnfold_emu_ttbarsignalviatau_fromDilepton_2017UL.'"
      ]
     },
     "execution_count": 82,
     "metadata": {},
     "output_type": "execute_result"
    }
   ],
   "source": [
    "outname = file.strip('UnfoldingHistos_2017_old_minitrees/Nominal/emu/')\n",
    "# outname = outname.replace('.root', '_lumi_scaled.root')\n",
    "outname"
   ]
  },
  {
   "cell_type": "code",
   "execution_count": 85,
   "metadata": {},
   "outputs": [
    {
     "data": {
      "text/plain": [
       "'histosTUnfold_emu_ttbarsignalviatau_fromDilepton_2017UL.root'"
      ]
     },
     "execution_count": 85,
     "metadata": {},
     "output_type": "execute_result"
    }
   ],
   "source": [
    "file.replace('UnfoldingHistos_2017_old_minitrees/Nominal/emu/', '')"
   ]
  },
  {
   "cell_type": "code",
   "execution_count": 89,
   "metadata": {},
   "outputs": [
    {
     "data": {
      "text/plain": [
       "'UnfoldingHistos_2017/Nominal/emu/histosTUnfold_emu_wtolnu_2017UL.root'"
      ]
     },
     "execution_count": 89,
     "metadata": {},
     "output_type": "execute_result"
    }
   ],
   "source": [
    "file"
   ]
  },
  {
   "cell_type": "code",
   "execution_count": null,
   "metadata": {
    "collapsed": true
   },
   "outputs": [],
   "source": []
  }
 ],
 "metadata": {
  "kernelspec": {
   "display_name": "Python [conda env: venv]",
   "language": "python",
   "name": "conda-env-venv-py"
  },
  "language_info": {
   "codemirror_mode": {
    "name": "ipython",
    "version": 3
   },
   "file_extension": ".py",
   "mimetype": "text/x-python",
   "name": "python",
   "nbconvert_exporter": "python",
   "pygments_lexer": "ipython3",
   "version": "3.10.6"
  }
 },
 "nbformat": 4,
 "nbformat_minor": 2
}
