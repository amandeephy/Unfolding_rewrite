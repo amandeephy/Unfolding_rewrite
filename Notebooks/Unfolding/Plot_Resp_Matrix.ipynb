{
 "cells": [
  {
   "cell_type": "code",
   "execution_count": 1,
   "metadata": {
    "collapsed": true
   },
   "outputs": [],
   "source": [
    "import uproot\n",
    "import numpy as np\n",
    "import matplotlib.pyplot as plt"
   ]
  },
  {
   "cell_type": "code",
   "execution_count": 12,
   "metadata": {
    "collapsed": true
   },
   "outputs": [],
   "source": [
    "fileptr_plus_tau = uproot.open('/scratch/brown/bakshi3/TopSpinCorr_Run2_generalized_ND/CMSSW_10_6_30/src/TopAnalysis/Configuration/analysis/diLeptonic/UnfoldingHistos_2017/Nominal/emu/histosTUnfold_emu_ttbarsignalplustau_fromDilepton_2017UL.root')\n",
    "fileptr_via_tau  = uproot.open('/scratch/brown/bakshi3/TopSpinCorr_Run2_generalized_ND/CMSSW_10_6_30/src/TopAnalysis/Configuration/analysis/diLeptonic/UnfoldingHistos_2017/Nominal/emu/histosTUnfold_emu_ttbarsignalviatau_fromDilepton_2017UL.root')"
   ]
  },
  {
   "cell_type": "code",
   "execution_count": 13,
   "metadata": {},
   "outputs": [
    {
     "data": {
      "text/plain": [
       "['hreco_top_pt;1',\n",
       " 'hreco_l_pt;1',\n",
       " 'hreco_lbar_pt;1',\n",
       " 'hreco_ttbar_pt;1',\n",
       " 'hreco_ttbar_mass;1',\n",
       " 'hreco_ttbar_delta_phi;1',\n",
       " 'hreco_ttbar_delta_eta;1',\n",
       " 'hreco_ttbar_rapidity;1',\n",
       " 'hreco_llbar_pt;1',\n",
       " 'hreco_llbar_mass;1',\n",
       " 'hreco_b1k;1',\n",
       " 'hreco_b2k;1',\n",
       " 'hreco_b1j;1',\n",
       " 'hreco_b2j;1',\n",
       " 'hreco_b1r;1',\n",
       " 'hreco_b2r;1',\n",
       " 'hreco_b1q;1',\n",
       " 'hreco_b2q;1',\n",
       " 'hreco_b1n;1',\n",
       " 'hreco_b2n;1',\n",
       " 'hreco_c_kk;1',\n",
       " 'hreco_c_rr;1',\n",
       " 'hreco_c_nn;1',\n",
       " 'hreco_c_kj;1',\n",
       " 'hreco_c_rq;1',\n",
       " 'hreco_c_Prk;1',\n",
       " 'hreco_c_Mrk;1',\n",
       " 'hreco_c_Pnr;1',\n",
       " 'hreco_c_Mnr;1',\n",
       " 'hreco_c_Pnk;1',\n",
       " 'hreco_c_Mnk;1',\n",
       " 'hreco_c_rk;1',\n",
       " 'hreco_c_kr;1',\n",
       " 'hreco_c_nr;1',\n",
       " 'hreco_c_rn;1',\n",
       " 'hreco_c_nk;1',\n",
       " 'hreco_c_kn;1',\n",
       " 'hreco_c_han;1',\n",
       " 'hreco_c_sca;1',\n",
       " 'hreco_c_tra;1',\n",
       " 'hreco_c_kjL;1',\n",
       " 'hreco_c_rqL;1',\n",
       " 'hreco_c_rkP;1',\n",
       " 'hreco_c_rkM;1',\n",
       " 'hreco_c_nrP;1',\n",
       " 'hreco_c_nrM;1',\n",
       " 'hreco_c_nkP;1',\n",
       " 'hreco_c_nkM;1',\n",
       " 'hreco_ll_cHel;1',\n",
       " 'hreco_ll_cLab;1',\n",
       " 'hreco_ll_kNorm;1',\n",
       " 'hreco_ll_rNorm;1',\n",
       " 'hreco_llbar_delta_phi;1',\n",
       " 'hreco_llbar_delta_eta;1',\n",
       " 'hreco_b1k_mttbar;1',\n",
       " 'hreco_b2k_mttbar;1',\n",
       " 'hreco_b1j_mttbar;1',\n",
       " 'hreco_b2j_mttbar;1',\n",
       " 'hreco_b1r_mttbar;1',\n",
       " 'hreco_b2r_mttbar;1',\n",
       " 'hreco_b1q_mttbar;1',\n",
       " 'hreco_b2q_mttbar;1',\n",
       " 'hreco_b1n_mttbar;1',\n",
       " 'hreco_b2n_mttbar;1',\n",
       " 'hreco_c_kk_mttbar;1',\n",
       " 'hreco_c_rr_mttbar;1',\n",
       " 'hreco_c_nn_mttbar;1',\n",
       " 'hreco_c_kj_mttbar;1',\n",
       " 'hreco_c_rq_mttbar;1',\n",
       " 'hreco_c_Prk_mttbar;1',\n",
       " 'hreco_c_Mrk_mttbar;1',\n",
       " 'hreco_c_Pnr_mttbar;1',\n",
       " 'hreco_c_Mnr_mttbar;1',\n",
       " 'hreco_c_Pnk_mttbar;1',\n",
       " 'hreco_c_Mnk_mttbar;1',\n",
       " 'hreco_c_rk_mttbar;1',\n",
       " 'hreco_c_kr_mttbar;1',\n",
       " 'hreco_c_nr_mttbar;1',\n",
       " 'hreco_c_rn_mttbar;1',\n",
       " 'hreco_c_nk_mttbar;1',\n",
       " 'hreco_c_kn_mttbar;1',\n",
       " 'hreco_c_han_mttbar;1',\n",
       " 'hreco_c_sca_mttbar;1',\n",
       " 'hreco_c_tra_mttbar;1',\n",
       " 'hreco_c_kjL_mttbar;1',\n",
       " 'hreco_c_rqL_mttbar;1',\n",
       " 'hreco_c_rkP_mttbar;1',\n",
       " 'hreco_c_rkM_mttbar;1',\n",
       " 'hreco_c_nrP_mttbar;1',\n",
       " 'hreco_c_nrM_mttbar;1',\n",
       " 'hreco_c_nkP_mttbar;1',\n",
       " 'hreco_c_nkM_mttbar;1',\n",
       " 'hreco_ll_cHel_mttbar;1',\n",
       " 'hreco_ll_cLab_mttbar;1',\n",
       " 'hreco_ll_kNorm_mttbar;1',\n",
       " 'hreco_ll_rNorm_mttbar;1',\n",
       " 'hreco_llbar_delta_phi_mttbar;1',\n",
       " 'hreco_llbar_delta_eta_mttbar;1',\n",
       " 'hrecoBootstrap_top_pt0;1',\n",
       " 'hrecoBootstrap_l_pt0;1',\n",
       " 'hrecoBootstrap_lbar_pt0;1',\n",
       " 'hrecoBootstrap_ttbar_pt0;1',\n",
       " 'hrecoBootstrap_ttbar_mass0;1',\n",
       " 'hrecoBootstrap_ttbar_delta_phi0;1',\n",
       " 'hrecoBootstrap_ttbar_delta_eta0;1',\n",
       " 'hrecoBootstrap_ttbar_rapidity0;1',\n",
       " 'hrecoBootstrap_llbar_pt0;1',\n",
       " 'hrecoBootstrap_llbar_mass0;1',\n",
       " 'hrecoBootstrap_b1k0;1',\n",
       " 'hrecoBootstrap_b2k0;1',\n",
       " 'hrecoBootstrap_b1j0;1',\n",
       " 'hrecoBootstrap_b2j0;1',\n",
       " 'hrecoBootstrap_b1r0;1',\n",
       " 'hrecoBootstrap_b2r0;1',\n",
       " 'hrecoBootstrap_b1q0;1',\n",
       " 'hrecoBootstrap_b2q0;1',\n",
       " 'hrecoBootstrap_b1n0;1',\n",
       " 'hrecoBootstrap_b2n0;1',\n",
       " 'hrecoBootstrap_c_kk0;1',\n",
       " 'hrecoBootstrap_c_rr0;1',\n",
       " 'hrecoBootstrap_c_nn0;1',\n",
       " 'hrecoBootstrap_c_kj0;1',\n",
       " 'hrecoBootstrap_c_rq0;1',\n",
       " 'hrecoBootstrap_c_Prk0;1',\n",
       " 'hrecoBootstrap_c_Mrk0;1',\n",
       " 'hrecoBootstrap_c_Pnr0;1',\n",
       " 'hrecoBootstrap_c_Mnr0;1',\n",
       " 'hrecoBootstrap_c_Pnk0;1',\n",
       " 'hrecoBootstrap_c_Mnk0;1',\n",
       " 'hrecoBootstrap_c_rk0;1',\n",
       " 'hrecoBootstrap_c_kr0;1',\n",
       " 'hrecoBootstrap_c_nr0;1',\n",
       " 'hrecoBootstrap_c_rn0;1',\n",
       " 'hrecoBootstrap_c_nk0;1',\n",
       " 'hrecoBootstrap_c_kn0;1',\n",
       " 'hrecoBootstrap_c_han0;1',\n",
       " 'hrecoBootstrap_c_sca0;1',\n",
       " 'hrecoBootstrap_c_tra0;1',\n",
       " 'hrecoBootstrap_c_kjL0;1',\n",
       " 'hrecoBootstrap_c_rqL0;1',\n",
       " 'hrecoBootstrap_c_rkP0;1',\n",
       " 'hrecoBootstrap_c_rkM0;1',\n",
       " 'hrecoBootstrap_c_nrP0;1',\n",
       " 'hrecoBootstrap_c_nrM0;1',\n",
       " 'hrecoBootstrap_c_nkP0;1',\n",
       " 'hrecoBootstrap_c_nkM0;1',\n",
       " 'hrecoBootstrap_ll_cHel0;1',\n",
       " 'hrecoBootstrap_ll_cLab0;1',\n",
       " 'hrecoBootstrap_ll_kNorm0;1',\n",
       " 'hrecoBootstrap_ll_rNorm0;1',\n",
       " 'hrecoBootstrap_llbar_delta_phi0;1',\n",
       " 'hrecoVsgen_top_pt;1',\n",
       " 'hrecoVsgen_l_pt;1',\n",
       " 'hrecoVsgen_lbar_pt;1',\n",
       " 'hrecoVsgen_ttbar_pt;1',\n",
       " 'hrecoVsgen_ttbar_mass;1',\n",
       " 'hrecoVsgen_ttbar_delta_phi;1',\n",
       " 'hrecoVsgen_ttbar_delta_eta;1',\n",
       " 'hrecoVsgen_ttbar_rapidity;1',\n",
       " 'hrecoVsgen_llbar_pt;1',\n",
       " 'hrecoVsgen_llbar_mass;1',\n",
       " 'hrecoVsgen_b1k;1',\n",
       " 'hrecoVsgen_b2k;1',\n",
       " 'hrecoVsgen_b1j;1',\n",
       " 'hrecoVsgen_b2j;1',\n",
       " 'hrecoVsgen_b1r;1',\n",
       " 'hrecoVsgen_b2r;1',\n",
       " 'hrecoVsgen_b1q;1',\n",
       " 'hrecoVsgen_b2q;1',\n",
       " 'hrecoVsgen_b1n;1',\n",
       " 'hrecoVsgen_b2n;1',\n",
       " 'hrecoVsgen_c_kk;1',\n",
       " 'hrecoVsgen_c_rr;1',\n",
       " 'hrecoVsgen_c_nn;1',\n",
       " 'hrecoVsgen_c_kj;1',\n",
       " 'hrecoVsgen_c_rq;1',\n",
       " 'hrecoVsgen_c_Prk;1',\n",
       " 'hrecoVsgen_c_Mrk;1',\n",
       " 'hrecoVsgen_c_Pnr;1',\n",
       " 'hrecoVsgen_c_Mnr;1',\n",
       " 'hrecoVsgen_c_Pnk;1',\n",
       " 'hrecoVsgen_c_Mnk;1',\n",
       " 'hrecoVsgen_c_rk;1',\n",
       " 'hrecoVsgen_c_kr;1',\n",
       " 'hrecoVsgen_c_nr;1',\n",
       " 'hrecoVsgen_c_rn;1',\n",
       " 'hrecoVsgen_c_nk;1',\n",
       " 'hrecoVsgen_c_kn;1',\n",
       " 'hrecoVsgen_c_han;1',\n",
       " 'hrecoVsgen_c_sca;1',\n",
       " 'hrecoVsgen_c_tra;1',\n",
       " 'hrecoVsgen_c_kjL;1',\n",
       " 'hrecoVsgen_c_rqL;1',\n",
       " 'hrecoVsgen_c_rkP;1',\n",
       " 'hrecoVsgen_c_rkM;1',\n",
       " 'hrecoVsgen_c_nrP;1',\n",
       " 'hrecoVsgen_c_nrM;1',\n",
       " 'hrecoVsgen_c_nkP;1',\n",
       " 'hrecoVsgen_c_nkM;1',\n",
       " 'hrecoVsgen_ll_cHel;1',\n",
       " 'hrecoVsgen_ll_cLab;1',\n",
       " 'hrecoVsgen_ll_kNorm;1',\n",
       " 'hrecoVsgen_ll_rNorm;1',\n",
       " 'hrecoVsgen_llbar_delta_phi;1',\n",
       " 'hrecoVsgen_llbar_delta_eta;1',\n",
       " 'hrecoVsgen_b1k_mttbar;1',\n",
       " 'hrecoVsgen_b2k_mttbar;1',\n",
       " 'hrecoVsgen_b1j_mttbar;1',\n",
       " 'hrecoVsgen_b2j_mttbar;1',\n",
       " 'hrecoVsgen_b1r_mttbar;1',\n",
       " 'hrecoVsgen_b2r_mttbar;1',\n",
       " 'hrecoVsgen_b1q_mttbar;1',\n",
       " 'hrecoVsgen_b2q_mttbar;1',\n",
       " 'hrecoVsgen_b1n_mttbar;1',\n",
       " 'hrecoVsgen_b2n_mttbar;1',\n",
       " 'hrecoVsgen_c_kk_mttbar;1',\n",
       " 'hrecoVsgen_c_rr_mttbar;1',\n",
       " 'hrecoVsgen_c_nn_mttbar;1',\n",
       " 'hrecoVsgen_c_kj_mttbar;1',\n",
       " 'hrecoVsgen_c_rq_mttbar;1',\n",
       " 'hrecoVsgen_c_rk_mttbar;1',\n",
       " 'hrecoVsgen_c_kr_mttbar;1',\n",
       " 'hrecoVsgen_c_nr_mttbar;1',\n",
       " 'hrecoVsgen_c_rn_mttbar;1',\n",
       " 'hrecoVsgen_c_nk_mttbar;1',\n",
       " 'hrecoVsgen_c_kn_mttbar;1',\n",
       " 'hrecoVsgen_c_Prk_mttbar;1',\n",
       " 'hrecoVsgen_c_Mrk_mttbar;1',\n",
       " 'hrecoVsgen_c_Pnr_mttbar;1',\n",
       " 'hrecoVsgen_c_Mnr_mttbar;1',\n",
       " 'hrecoVsgen_c_Pnk_mttbar;1',\n",
       " 'hrecoVsgen_c_Mnk_mttbar;1',\n",
       " 'hrecoVsgen_c_han_mttbar;1',\n",
       " 'hrecoVsgen_c_sca_mttbar;1',\n",
       " 'hrecoVsgen_c_tra_mttbar;1',\n",
       " 'hrecoVsgen_c_kjL_mttbar;1',\n",
       " 'hrecoVsgen_c_rqL_mttbar;1',\n",
       " 'hrecoVsgen_c_rkP_mttbar;1',\n",
       " 'hrecoVsgen_c_rkM_mttbar;1',\n",
       " 'hrecoVsgen_c_nrP_mttbar;1',\n",
       " 'hrecoVsgen_c_nrM_mttbar;1',\n",
       " 'hrecoVsgen_c_nkP_mttbar;1',\n",
       " 'hrecoVsgen_c_nkM_mttbar;1',\n",
       " 'hrecoVsgen_ll_cHel_mttbar;1',\n",
       " 'hrecoVsgen_ll_cLab_mttbar;1',\n",
       " 'hrecoVsgen_ll_kNorm_mttbar;1',\n",
       " 'hrecoVsgen_ll_rNorm_mttbar;1',\n",
       " 'hrecoVsgen_llbar_delta_phi_mttbar;1',\n",
       " 'hrecoVsgen_llbar_delta_eta_mttbar;1']"
      ]
     },
     "execution_count": 13,
     "metadata": {},
     "output_type": "execute_result"
    }
   ],
   "source": [
    "[k for k in fileptr_plus_tau.keys() if 'reco' in k]"
   ]
  },
  {
   "cell_type": "code",
   "execution_count": 14,
   "metadata": {},
   "outputs": [
    {
     "data": {
      "text/plain": [
       "ColormeshArtists(pcolormesh=<matplotlib.collections.QuadMesh object at 0x7f2fa2cf4430>, cbar=<matplotlib.colorbar.Colorbar object at 0x7f2fa2cf4730>, text=[])"
      ]
     },
     "execution_count": 14,
     "metadata": {},
     "output_type": "execute_result"
    },
    {
     "data": {
      "image/png": "[encoded data removed]",
      "text/plain": [
       "<Figure size 640x480 with 2 Axes>"
      ]
     },
     "metadata": {},
     "output_type": "display_data"
    }
   ],
   "source": [
    "fileptr_plus_tau['hrecoVsgen_c_kk'].to_hist().plot()"
   ]
  },
  {
   "cell_type": "code",
   "execution_count": 15,
   "metadata": {},
   "outputs": [
    {
     "data": {
      "text/plain": [
       "ColormeshArtists(pcolormesh=<matplotlib.collections.QuadMesh object at 0x7f2fae94ca30>, cbar=<matplotlib.colorbar.Colorbar object at 0x7f2fae94cf10>, text=[])"
      ]
     },
     "execution_count": 15,
     "metadata": {},
     "output_type": "execute_result"
    },
    {
     "data": {
      "image/png": "[encoded data removed]",
      "text/plain": [
       "<Figure size 640x480 with 2 Axes>"
      ]
     },
     "metadata": {},
     "output_type": "display_data"
    }
   ],
   "source": [
    "fileptr_via_tau['hrecoVsgen_c_kk'].to_hist().plot()"
   ]
  },
  {
   "cell_type": "code",
   "execution_count": 22,
   "metadata": {},
   "outputs": [
    {
     "data": {
      "text/plain": [
       "array([[5.07538517e+03, 1.66952863e+04, 1.95091008e+04, ...,\n",
       "        0.00000000e+00, 0.00000000e+00, 0.00000000e+00],\n",
       "       [6.81949121e+03, 3.36462768e+04, 5.88695840e+04, ...,\n",
       "        7.12792149e+01, 0.00000000e+00, 0.00000000e+00],\n",
       "       [6.76411302e+03, 3.21008067e+04, 6.23221268e+04, ...,\n",
       "        1.33701178e+02, 6.64570732e+01, 3.44025764e+01],\n",
       "       ...,\n",
       "       [3.44025764e+01, 6.64570732e+01, 1.33701178e+02, ...,\n",
       "        6.23221268e+04, 3.21008067e+04, 6.76411302e+03],\n",
       "       [0.00000000e+00, 0.00000000e+00, 7.12792149e+01, ...,\n",
       "        5.88695840e+04, 3.36462768e+04, 6.81949121e+03],\n",
       "       [0.00000000e+00, 0.00000000e+00, 0.00000000e+00, ...,\n",
       "        1.95091008e+04, 1.66952863e+04, 5.07538517e+03]])"
      ]
     },
     "execution_count": 22,
     "metadata": {},
     "output_type": "execute_result"
    }
   ],
   "source": [
    "fileptr_plus_tau['hrecoVsgen_c_kk'].to_numpy()[0]"
   ]
  },
  {
   "cell_type": "code",
   "execution_count": null,
   "metadata": {
    "collapsed": true
   },
   "outputs": [],
   "source": []
  }
 ],
 "metadata": {
  "kernelspec": {
   "display_name": "Python [conda env: venv]",
   "language": "python",
   "name": "conda-env-venv-py"
  },
  "language_info": {
   "codemirror_mode": {
    "name": "ipython",
    "version": 3
   },
   "file_extension": ".py",
   "mimetype": "text/x-python",
   "name": "python",
   "nbconvert_exporter": "python",
   "pygments_lexer": "ipython3",
   "version": "3.10.6"
  }
 },
 "nbformat": 4,
 "nbformat_minor": 2
}
